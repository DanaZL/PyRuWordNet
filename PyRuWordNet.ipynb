{
 "cells": [
  {
   "cell_type": "code",
   "execution_count": 3,
   "metadata": {
    "collapsed": true
   },
   "outputs": [],
   "source": [
    "import os\n",
    "import xml.etree.ElementTree as etree"
   ]
  },
  {
   "cell_type": "code",
   "execution_count": 99,
   "metadata": {
    "collapsed": false
   },
   "outputs": [],
   "source": [
    "class Sense(object):\n",
    "    def __init__(self,\n",
    "                 id,\n",
    "                 synset_id,\n",
    "                 synt_type,\n",
    "                 name,\n",
    "                 lemma,\n",
    "                 main_word,\n",
    "                 poses,\n",
    "                 meaning):\n",
    "        \"\"\"\n",
    "        Sense class\n",
    "        \"\"\"\n",
    "        self.id = id\n",
    "        self.synset_id = synset_id\n",
    "        self.synt_type = synt_type\n",
    "        self.name = name\n",
    "        self.lemma = lemma\n",
    "        self.main_word = main_word\n",
    "        self.poses = poses\n",
    "        self.meaning = meaning\n",
    "        self.composed_of = None\n",
    "        self.derived_from = None\n",
    "        \n",
    "    def __str__(self):\n",
    "        return str(self.__dict__)\n",
    "    \n",
    "# <synset id=\"A4790\" ruthes_name=\"ЦИРКОВОЙ МАНЕЖ\"\n",
    "# definition=\"большая круглая площадка посреди цирка, место, где выступают артисты\" part_of_speech=\"Adj\">\n",
    "#     <sense id=\"21311\">АРЕННЫЙ</sense>\n",
    "#     <sense id=\"21312\">МАНЕЖНЫЙ</sense>\n",
    "# </synset>\n",
    "        \n",
    "class Synset(object):\n",
    "    def __init__(self,\n",
    "                 id,\n",
    "                 ruthes_name,\n",
    "                 definition,\n",
    "                 part_of_speech\n",
    "                ):\n",
    "        self.id = id\n",
    "        self.part_of_speech = part_of_speech\n",
    "        self.ruthes_name = ruthes_name\n",
    "        self.definition = definition\n",
    "        self.sense_list = []\n",
    "        self.hypernym_for = []\n",
    "        self.domain_for = []\n",
    "        self.antonym = []\n",
    "        self.pos_synonymy = []\n",
    "        \n",
    "    def __str__(self):\n",
    "        return str(self.__dict__)\n",
    "        \n",
    "        \n",
    "class RuWordNet(object):\n",
    "    def __init__(self, ruwordnet_path):\n",
    "        self.ruwordnet_path = ruwordnet_path\n",
    "        self.id2sense = {}\n",
    "        self.id2synset = {}\n",
    "        \n",
    "        self.__load_senses_and_synsets()\n",
    "    \n",
    "    def __load_senses_and_synsets(self):\n",
    "        n_senses_path = os.path.join(self.ruwordnet_path, \"senses.N.xml\")\n",
    "        v_senses_path = os.path.join(self.ruwordnet_path, \"senses.V.xml\")\n",
    "        a_senses_path = os.path.join(self.ruwordnet_path, \"senses.A.xml\")\n",
    "        n_synsets_path = os.path.join(self.ruwordnet_path, \"synsets.N.xml\")\n",
    "        v_synsets_path = os.path.join(self.ruwordnet_path, \"synsets.V.xml\")\n",
    "        a_synsets_path = os.path.join(self.ruwordnet_path, \"synsets.A.xml\")\n",
    "        senses_synsets_paths = [n_senses_path, v_senses_path, a_senses_path,\n",
    "                        n_synsets_path, v_synsets_path, a_synsets_path]\n",
    "        \n",
    "        for path_idx, path in enumerate(senses_synsets_paths):\n",
    "            if not os.path.exists(path):\n",
    "                print(\"File {} does not exist! Stop loading RuWordNet\".format(path))\n",
    "                break\n",
    "            \n",
    "            print(\"Loading senses/synsets from {} ...\".format(path))\n",
    "            tree = etree.parse(path)\n",
    "            root = tree.getroot()\n",
    "            for value in root:\n",
    "                value_id = value.attrib[\"id\"]\n",
    "                if path_idx < 3:\n",
    "                    assert value_id not in self.id2sense, 'Error: sense id {} already exist'.format(value_id)\n",
    "                    self.id2sense[value_id] = Sense(**value.attrib)\n",
    "                else:\n",
    "                    assert value_id not in self.id2synset, 'Error: synset id {} already exist'.format(value_id)\n",
    "                    new_synset = Synset(**value.attrib)\n",
    "                    for sense in value:\n",
    "                        new_synset.sense_list.append(sense.attrib['id'])\n",
    "                    self.id2synset[value_id] = new_synset\n",
    "                    \n",
    "        self.get_stat()\n",
    "                \n",
    "    def get_stat(self):\n",
    "        print(\"Number of senses: {}\".format(len(self.id2sense)))\n",
    "        print(\"Number of synsets: {}\".format(len(self.id2synset)))\n",
    "    \n",
    "    def __load_synsets(self):\n",
    "        pass\n",
    "        \n",
    "    def __load_relations(self):\n",
    "        pass"
   ]
  },
  {
   "cell_type": "code",
   "execution_count": 100,
   "metadata": {
    "collapsed": false
   },
   "outputs": [
    {
     "name": "stdout",
     "output_type": "stream",
     "text": [
      "Loading senses/synsets from ../rwn-xml-2017-05-13/senses.N.xml ...\n",
      "Loading senses/synsets from ../rwn-xml-2017-05-13/senses.V.xml ...\n",
      "Loading senses/synsets from ../rwn-xml-2017-05-13/senses.A.xml ...\n",
      "Loading senses/synsets from ../rwn-xml-2017-05-13/synsets.N.xml ...\n",
      "Loading senses/synsets from ../rwn-xml-2017-05-13/synsets.V.xml ...\n",
      "Loading senses/synsets from ../rwn-xml-2017-05-13/synsets.A.xml ...\n",
      "Number of senses: 130416\n",
      "Number of synsets: 49492\n"
     ]
    }
   ],
   "source": [
    "ruwordnet = RuWordNet(\"../rwn-xml-2017-05-13/\")"
   ]
  },
  {
   "cell_type": "code",
   "execution_count": 91,
   "metadata": {
    "collapsed": false
   },
   "outputs": [
    {
     "data": {
      "text/plain": [
       "['A12648',\n",
       " 'A12649',\n",
       " 'A12650',\n",
       " 'A12651',\n",
       " 'A12652',\n",
       " 'A12653',\n",
       " 'A12654',\n",
       " 'A12655',\n",
       " 'A12656',\n",
       " 'A12657']"
      ]
     },
     "execution_count": 91,
     "metadata": {},
     "output_type": "execute_result"
    }
   ],
   "source": [
    "list(ruwordnet.id2synset.keys())[-10:]"
   ]
  },
  {
   "cell_type": "code",
   "execution_count": 93,
   "metadata": {
    "collapsed": false
   },
   "outputs": [
    {
     "name": "stdout",
     "output_type": "stream",
     "text": [
      "{'id': 'A12654', 'part_of_speech': 'Adj', 'ruthes_name': 'КУРОРТ', 'definition': 'местность с целебными природными свойствами и с учреждениями для лечебных целей и для отдыха', 'sense_list': ['48528'], 'hypernym_for': [], 'domain_for': [], 'antonym': [], 'pos_synonymy': []}\n"
     ]
    }
   ],
   "source": [
    "print(ruwordnet.id2synset['A12654'])"
   ]
  },
  {
   "cell_type": "code",
   "execution_count": 96,
   "metadata": {
    "collapsed": false
   },
   "outputs": [
    {
     "name": "stdout",
     "output_type": "stream",
     "text": [
      "Number of senses: 130416\n",
      "Number of synses: 49492\n"
     ]
    }
   ],
   "source": [
    "ruwordnet.get_stat()"
   ]
  },
  {
   "cell_type": "code",
   "execution_count": 17,
   "metadata": {
    "collapsed": false
   },
   "outputs": [
    {
     "data": {
      "text/plain": [
       "'!\"#$%&\\'()*+,-./:;<=>?@[\\\\]^_`{|}~'"
      ]
     },
     "execution_count": 17,
     "metadata": {},
     "output_type": "execute_result"
    }
   ],
   "source": [
    "import string\n",
    "string.punctuation"
   ]
  },
  {
   "cell_type": "code",
   "execution_count": 47,
   "metadata": {
    "collapsed": true
   },
   "outputs": [],
   "source": [
    "tree = etree.parse(\"../rwn-xml-2017-05-13/synsets.N.xml\")"
   ]
  },
  {
   "cell_type": "code",
   "execution_count": 48,
   "metadata": {
    "collapsed": false
   },
   "outputs": [],
   "source": [
    "root = tree.getroot()"
   ]
  },
  {
   "cell_type": "code",
   "execution_count": 49,
   "metadata": {
    "collapsed": false
   },
   "outputs": [
    {
     "data": {
      "text/plain": [
       "<Element 'synsets' at 0x7ff849f2acc8>"
      ]
     },
     "execution_count": 49,
     "metadata": {},
     "output_type": "execute_result"
    }
   ],
   "source": [
    "root"
   ]
  },
  {
   "cell_type": "code",
   "execution_count": 78,
   "metadata": {
    "collapsed": false,
    "scrolled": true
   },
   "outputs": [
    {
     "name": "stdout",
     "output_type": "stream",
     "text": [
      "<Element 'synset' at 0x7ff849f2ad18>\n",
      "{'id': 'N12658', 'ruthes_name': 'КОДИРОВАНИЕ ОТ ЗАВИСИМОСТИ', 'definition': '', 'part_of_speech': 'N'}\n",
      "<Element 'sense' at 0x7ff849f2ad68> {'id': '115643'}\n",
      "<Element 'sense' at 0x7ff849f2adb8> {'id': '115640'}\n",
      "<Element 'sense' at 0x7ff849f2ae08> {'id': '115641'}\n",
      "<Element 'sense' at 0x7ff849f2ae58> {'id': '115642'}\n",
      "<Element 'synset' at 0x7ff849f2aea8>\n",
      "{'id': 'N12659', 'ruthes_name': 'ПОДГОТОВИТЬ К ИЗВЕСТИЮ', 'definition': 'готовить, настраивать соответствующим образом для восприятия чего-либо (какого-либо известия, сообщения и т. п.)', 'part_of_speech': 'N'}\n",
      "<Element 'sense' at 0x7ff849f2aef8> {'id': '117307'}\n",
      "<Element 'sense' at 0x7ff849f2af48> {'id': '117313'}\n",
      "<Element 'synset' at 0x7ff849f2af98>\n",
      "{'id': 'N12660', 'ruthes_name': 'ПОЛОГ', 'definition': '', 'part_of_speech': 'N'}\n",
      "<Element 'sense' at 0x7ff84f050048> {'id': '29834'}\n",
      "<Element 'synset' at 0x7ff84f050098>\n",
      "{'id': 'N12661', 'ruthes_name': 'СВЕРНУТЬ (СЛОМАТЬ)', 'definition': '', 'part_of_speech': 'N'}\n",
      "<Element 'sense' at 0x7ff84f0500e8> {'id': '96991'}\n",
      "<Element 'sense' at 0x7ff84f050138> {'id': '96989'}\n",
      "<Element 'synset' at 0x7ff84f050188>\n",
      "{'id': 'N12662', 'ruthes_name': 'ОБЛАВА НА ЗВЕРЯ', 'definition': 'охота, при которой загонщики окружают то место, где находится зверь, и гонят его на сидящих в засаде охотников; цепь загонщиков, окружающих зверя', 'part_of_speech': 'N'}\n",
      "<Element 'sense' at 0x7ff84f0501d8> {'id': '50632'}\n",
      "<Element 'sense' at 0x7ff84f050228> {'id': '50628'}\n",
      "<Element 'sense' at 0x7ff84f050278> {'id': '50630'}\n",
      "<Element 'sense' at 0x7ff84f0502c8> {'id': '50633'}\n",
      "<Element 'sense' at 0x7ff84f050318> {'id': '50629'}\n",
      "<Element 'synset' at 0x7ff84f050368>\n",
      "{'id': 'N12663', 'ruthes_name': 'РАЗВОДЫ (УЗОР)', 'definition': 'крупный, с неопределенным контуром узор, рисунок', 'part_of_speech': 'N'}\n",
      "<Element 'sense' at 0x7ff84f0503b8> {'id': '76909'}\n",
      "<Element 'synset' at 0x7ff84f050408>\n",
      "{'id': 'N12664', 'ruthes_name': 'ПЕРЕТЕРЕТЬСЯ (РАЗДЕЛИТЬСЯ)', 'definition': '', 'part_of_speech': 'N'}\n",
      "<Element 'sense' at 0x7ff84f050458> {'id': '122492'}\n",
      "<Element 'synset' at 0x7ff84f0504a8>\n",
      "{'id': 'N12665', 'ruthes_name': 'АНКЕТИРОВАНИЕ', 'definition': 'опрос при помощи анкет', 'part_of_speech': 'N'}\n",
      "<Element 'sense' at 0x7ff84f0504f8> {'id': '100990'}\n",
      "<Element 'synset' at 0x7ff84f050548>\n",
      "{'id': 'N12666', 'ruthes_name': 'ПРАВАЯ ПОЛИТИЧЕСКАЯ ОРИЕНТАЦИЯ', 'definition': '', 'part_of_speech': 'N'}\n",
      "<Element 'sense' at 0x7ff84f050598> {'id': '52625'}\n",
      "<Element 'sense' at 0x7ff84f0505e8> {'id': '52621'}\n",
      "<Element 'sense' at 0x7ff84f050638> {'id': '52624'}\n",
      "<Element 'sense' at 0x7ff84f050688> {'id': '52626'}\n",
      "<Element 'sense' at 0x7ff84f0506d8> {'id': '52623'}\n",
      "<Element 'sense' at 0x7ff84f050728> {'id': '52622'}\n",
      "<Element 'synset' at 0x7ff84f050778>\n",
      "{'id': 'N12667', 'ruthes_name': 'ИСПОВЕДЬ (РЕЛИГИОЗНЫЙ ОБРЯД)', 'definition': 'в христианстве обряд покаяния в грехах перед священником и получения от него отпущения грехов', 'part_of_speech': 'N'}\n",
      "<Element 'sense' at 0x7ff84f0507c8> {'id': '91701'}\n",
      "<Element 'sense' at 0x7ff84f050818> {'id': '91706'}\n",
      "<Element 'sense' at 0x7ff84f050868> {'id': '91705'}\n",
      "<Element 'sense' at 0x7ff84f0508b8> {'id': '91704'}\n",
      "<Element 'sense' at 0x7ff84f050908> {'id': '91703'}\n",
      "<Element 'sense' at 0x7ff84f050958> {'id': '91700'}\n",
      "<Element 'sense' at 0x7ff84f0509a8> {'id': '91702'}\n"
     ]
    }
   ],
   "source": [
    "for s in root[:10]:\n",
    "    print(s)\n",
    "    print(s.attrib)\n",
    "    for v in s:\n",
    "        print(v, v.attrib)"
   ]
  },
  {
   "cell_type": "code",
   "execution_count": 11,
   "metadata": {
    "collapsed": false
   },
   "outputs": [
    {
     "data": {
      "text/plain": [
       "77372"
      ]
     },
     "execution_count": 11,
     "metadata": {},
     "output_type": "execute_result"
    }
   ],
   "source": [
    "len(root)"
   ]
  },
  {
   "cell_type": "code",
   "execution_count": 12,
   "metadata": {
    "collapsed": false
   },
   "outputs": [
    {
     "name": "stdout",
     "output_type": "stream",
     "text": [
      "77374 ../rwn-xml-2017-05-13/senses.N.xml\r\n"
     ]
    }
   ],
   "source": [
    "!wc -l ../rwn-xml-2017-05-13/senses.N.xml"
   ]
  },
  {
   "cell_type": "code",
   "execution_count": null,
   "metadata": {
    "collapsed": true
   },
   "outputs": [],
   "source": []
  }
 ],
 "metadata": {
  "anaconda-cloud": {},
  "kernelspec": {
   "display_name": "Python [conda env:condapython3]",
   "language": "python",
   "name": "conda-env-condapython3-py"
  },
  "language_info": {
   "codemirror_mode": {
    "name": "ipython",
    "version": 3
   },
   "file_extension": ".py",
   "mimetype": "text/x-python",
   "name": "python",
   "nbconvert_exporter": "python",
   "pygments_lexer": "ipython3",
   "version": "3.6.3"
  }
 },
 "nbformat": 4,
 "nbformat_minor": 2
}
