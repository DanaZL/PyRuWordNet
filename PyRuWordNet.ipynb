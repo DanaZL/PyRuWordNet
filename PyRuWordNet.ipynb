{
 "cells": [
  {
   "cell_type": "code",
   "execution_count": 3,
   "metadata": {
    "collapsed": true
   },
   "outputs": [],
   "source": [
    "import os\n",
    "import xml.etree.ElementTree as etree"
   ]
  },
  {
   "cell_type": "code",
   "execution_count": 65,
   "metadata": {
    "collapsed": true
   },
   "outputs": [],
   "source": [
    "class Sense(object):\n",
    "    def __init__(self,\n",
    "                 id,\n",
    "                 synset_id,\n",
    "                 synt_type,\n",
    "                 name,\n",
    "                 lemma,\n",
    "                 main_word,\n",
    "                 poses,\n",
    "                 meaning):\n",
    "        \"\"\"\n",
    "        Sense class\n",
    "        \"\"\"\n",
    "        self.id = id\n",
    "        self.synset_id = synset_id\n",
    "        self.synt_type = synt_type\n",
    "        self.name = name\n",
    "        self.lemma = lemma\n",
    "        self.main_word = main_word\n",
    "        self.poses = poses\n",
    "        self.meaning = meaning\n",
    "        self.composed_of = None\n",
    "        self.derived_from = None\n",
    "        \n",
    "    def __str__(self):\n",
    "        return str(self.__dict__)\n",
    "        \n",
    "class Synset(object):\n",
    "    def __init__(self):\n",
    "        self.id = None\n",
    "        self.part_of_speech = None\n",
    "        self.ruthes_name = None\n",
    "        self.definition = None\n",
    "        self.sense_list = []\n",
    "        self.hypernym_for = []\n",
    "        self.domain_for = []\n",
    "        self.antonym = []\n",
    "        self.pos_synonymy = []\n",
    "        \n",
    "        \n",
    "class RuWordNet(object):\n",
    "    def __init__(self, ruwordnet_path):\n",
    "        self.ruwordnet_path = ruwordnet_path\n",
    "        self.id2sense = {}\n",
    "        self.id2synset = {}\n",
    "        \n",
    "        self.__load_senses()\n",
    "    \n",
    "    def __load_senses_and_synsets(self):\n",
    "        n_senses_path = os.path.join(self.ruwordnet_path, \"senses.N.xml\")\n",
    "        v_senses_path = os.path.join(self.ruwordnet_path, \"senses.V.xml\")\n",
    "        a_senses_path = os.path.join(self.ruwordnet_path, \"senses.A.xml\")\n",
    "        senses_paths = [n_senses_path, v_senses_path, a_senses_path]\n",
    "        \n",
    "        for path_idx, path in enumerate(senses_paths):\n",
    "            if not os.path.exists(path):\n",
    "                print(\"File {} does not exist! Stop loading RuWordNet\".format(path))\n",
    "                break\n",
    "            \n",
    "            print(\"Loading senses from {} ...\".format(path))\n",
    "            tree = etree.parse(path)\n",
    "            root = tree.getroot()\n",
    "            for sense in root:\n",
    "                sense_id = sense.attrib[\"id\"]\n",
    "                assert sense_id not in self.id2sense, 'Error: sense id {} already exist'.format(sense_id)\n",
    "                self.id2sense[sense_id] = Sense(**sense.attrib)\n",
    "                \n",
    "    def get_stat(self):\n",
    "        print(\"Number of senses: {}\".format(len(self.id2sense)))\n",
    "    \n",
    "    def __load_synsets(self):\n",
    "        pass\n",
    "        \n",
    "    def __load_relations(self):\n",
    "        pass"
   ]
  },
  {
   "cell_type": "code",
   "execution_count": 66,
   "metadata": {
    "collapsed": false
   },
   "outputs": [
    {
     "name": "stdout",
     "output_type": "stream",
     "text": [
      "Loading senses from ../rwn-xml-2017-05-13/senses.N.xml ...\n",
      "Loading senses from ../rwn-xml-2017-05-13/senses.V.xml ...\n",
      "Loading senses from ../rwn-xml-2017-05-13/senses.A.xml ...\n"
     ]
    }
   ],
   "source": [
    "ruwordnet = RuWordNet(\"../rwn-xml-2017-05-13/\")"
   ]
  },
  {
   "cell_type": "code",
   "execution_count": 71,
   "metadata": {
    "collapsed": false
   },
   "outputs": [
    {
     "data": {
      "text/plain": [
       "['77009',\n",
       " '74974',\n",
       " '126563',\n",
       " '48528',\n",
       " '12867',\n",
       " '12869',\n",
       " '12870',\n",
       " '115994',\n",
       " '57090',\n",
       " '57095']"
      ]
     },
     "execution_count": 71,
     "metadata": {},
     "output_type": "execute_result"
    }
   ],
   "source": [
    "list(ruwordnet.id2sense.keys())[-10:]"
   ]
  },
  {
   "cell_type": "code",
   "execution_count": 72,
   "metadata": {
    "collapsed": false
   },
   "outputs": [
    {
     "name": "stdout",
     "output_type": "stream",
     "text": [
      "{'id': '57095', 'synset_id': 'A12657', 'synt_type': 'Adj', 'name': 'ХАМОВАТЫЙ', 'lemma': 'ХАМОВАТЫЙ', 'main_word': '', 'poses': '', 'meaning': '1', 'composed_of': None, 'derived_from': None}\n"
     ]
    }
   ],
   "source": [
    "print(ruwordnet.id2sense['57095'])"
   ]
  },
  {
   "cell_type": "code",
   "execution_count": 38,
   "metadata": {
    "collapsed": false
   },
   "outputs": [
    {
     "name": "stdout",
     "output_type": "stream",
     "text": [
      "Number of senses: 130416\n"
     ]
    }
   ],
   "source": [
    "ruwordnet.get_stat()"
   ]
  },
  {
   "cell_type": "code",
   "execution_count": 17,
   "metadata": {
    "collapsed": false
   },
   "outputs": [
    {
     "data": {
      "text/plain": [
       "'!\"#$%&\\'()*+,-./:;<=>?@[\\\\]^_`{|}~'"
      ]
     },
     "execution_count": 17,
     "metadata": {},
     "output_type": "execute_result"
    }
   ],
   "source": [
    "import string\n",
    "string.punctuation"
   ]
  },
  {
   "cell_type": "code",
   "execution_count": 47,
   "metadata": {
    "collapsed": true
   },
   "outputs": [],
   "source": [
    "tree = etree.parse(\"../rwn-xml-2017-05-13/synsets.N.xml\")"
   ]
  },
  {
   "cell_type": "code",
   "execution_count": 48,
   "metadata": {
    "collapsed": false
   },
   "outputs": [],
   "source": [
    "root = tree.getroot()"
   ]
  },
  {
   "cell_type": "code",
   "execution_count": 49,
   "metadata": {
    "collapsed": false
   },
   "outputs": [
    {
     "data": {
      "text/plain": [
       "<Element 'synsets' at 0x7ff849f2acc8>"
      ]
     },
     "execution_count": 49,
     "metadata": {},
     "output_type": "execute_result"
    }
   ],
   "source": [
    "root"
   ]
  },
  {
   "cell_type": "code",
   "execution_count": 50,
   "metadata": {
    "collapsed": false,
    "scrolled": true
   },
   "outputs": [
    {
     "name": "stdout",
     "output_type": "stream",
     "text": [
      "<Element 'synset' at 0x7ff849f2ad18>\n",
      "{'id': 'N12658', 'ruthes_name': 'КОДИРОВАНИЕ ОТ ЗАВИСИМОСТИ', 'definition': '', 'part_of_speech': 'N'}\n",
      "<Element 'synset' at 0x7ff849f2aea8>\n",
      "{'id': 'N12659', 'ruthes_name': 'ПОДГОТОВИТЬ К ИЗВЕСТИЮ', 'definition': 'готовить, настраивать соответствующим образом для восприятия чего-либо (какого-либо известия, сообщения и т. п.)', 'part_of_speech': 'N'}\n",
      "<Element 'synset' at 0x7ff849f2af98>\n",
      "{'id': 'N12660', 'ruthes_name': 'ПОЛОГ', 'definition': '', 'part_of_speech': 'N'}\n",
      "<Element 'synset' at 0x7ff84f050098>\n",
      "{'id': 'N12661', 'ruthes_name': 'СВЕРНУТЬ (СЛОМАТЬ)', 'definition': '', 'part_of_speech': 'N'}\n",
      "<Element 'synset' at 0x7ff84f050188>\n",
      "{'id': 'N12662', 'ruthes_name': 'ОБЛАВА НА ЗВЕРЯ', 'definition': 'охота, при которой загонщики окружают то место, где находится зверь, и гонят его на сидящих в засаде охотников; цепь загонщиков, окружающих зверя', 'part_of_speech': 'N'}\n",
      "<Element 'synset' at 0x7ff84f050368>\n",
      "{'id': 'N12663', 'ruthes_name': 'РАЗВОДЫ (УЗОР)', 'definition': 'крупный, с неопределенным контуром узор, рисунок', 'part_of_speech': 'N'}\n",
      "<Element 'synset' at 0x7ff84f050408>\n",
      "{'id': 'N12664', 'ruthes_name': 'ПЕРЕТЕРЕТЬСЯ (РАЗДЕЛИТЬСЯ)', 'definition': '', 'part_of_speech': 'N'}\n",
      "<Element 'synset' at 0x7ff84f0504a8>\n",
      "{'id': 'N12665', 'ruthes_name': 'АНКЕТИРОВАНИЕ', 'definition': 'опрос при помощи анкет', 'part_of_speech': 'N'}\n",
      "<Element 'synset' at 0x7ff84f050548>\n",
      "{'id': 'N12666', 'ruthes_name': 'ПРАВАЯ ПОЛИТИЧЕСКАЯ ОРИЕНТАЦИЯ', 'definition': '', 'part_of_speech': 'N'}\n",
      "<Element 'synset' at 0x7ff84f050778>\n",
      "{'id': 'N12667', 'ruthes_name': 'ИСПОВЕДЬ (РЕЛИГИОЗНЫЙ ОБРЯД)', 'definition': 'в христианстве обряд покаяния в грехах перед священником и получения от него отпущения грехов', 'part_of_speech': 'N'}\n"
     ]
    }
   ],
   "source": [
    "for s in root[:10]:\n",
    "    print(s)\n",
    "    print(s.attrib)"
   ]
  },
  {
   "cell_type": "code",
   "execution_count": 11,
   "metadata": {
    "collapsed": false
   },
   "outputs": [
    {
     "data": {
      "text/plain": [
       "77372"
      ]
     },
     "execution_count": 11,
     "metadata": {},
     "output_type": "execute_result"
    }
   ],
   "source": [
    "len(root)"
   ]
  },
  {
   "cell_type": "code",
   "execution_count": 12,
   "metadata": {
    "collapsed": false
   },
   "outputs": [
    {
     "name": "stdout",
     "output_type": "stream",
     "text": [
      "77374 ../rwn-xml-2017-05-13/senses.N.xml\r\n"
     ]
    }
   ],
   "source": [
    "!wc -l ../rwn-xml-2017-05-13/senses.N.xml"
   ]
  },
  {
   "cell_type": "code",
   "execution_count": null,
   "metadata": {
    "collapsed": true
   },
   "outputs": [],
   "source": []
  }
 ],
 "metadata": {
  "anaconda-cloud": {},
  "kernelspec": {
   "display_name": "Python [conda env:condapython3]",
   "language": "python",
   "name": "conda-env-condapython3-py"
  },
  "language_info": {
   "codemirror_mode": {
    "name": "ipython",
    "version": 3
   },
   "file_extension": ".py",
   "mimetype": "text/x-python",
   "name": "python",
   "nbconvert_exporter": "python",
   "pygments_lexer": "ipython3",
   "version": "3.6.3"
  }
 },
 "nbformat": 4,
 "nbformat_minor": 2
}
