{
 "cells": [
  {
   "cell_type": "code",
   "execution_count": 3,
   "metadata": {
    "collapsed": true
   },
   "outputs": [],
   "source": [
    "import os\n",
    "import xml.etree.ElementTree as etree"
   ]
  },
  {
   "cell_type": "code",
   "execution_count": 14,
   "metadata": {
    "collapsed": true
   },
   "outputs": [],
   "source": [
    "class Sense(object):\n",
    "    def __init__(self,\n",
    "                 sense_id,\n",
    "                 synt_type,\n",
    "                 name,\n",
    "                 lemma,\n",
    "                 main_word,\n",
    "                 poses,\n",
    "                 meaning):\n",
    "        \"\"\"\n",
    "        Sense class\n",
    "        \"\"\"\n",
    "        self.sense_id = None\n",
    "        self.synt_type = None\n",
    "        self.name = None\n",
    "        self.lemma = None\n",
    "        self.main_word = None\n",
    "        self.poses = None\n",
    "        self.meaning = None\n",
    "        self.composed_of = None\n",
    "        self.derived_from = None\n",
    "        \n",
    "class Synset(object):\n",
    "    def __init__(self):\n",
    "        self.synset_id = None\n",
    "        self.part_of_speech = None\n",
    "        self.ruthes_name = None\n",
    "        self.definition = None\n",
    "        self.sense_list = []\n",
    "        self.hypernym_for = []\n",
    "        self.domain_for = []\n",
    "        self.antonym = []\n",
    "        self.pos_synonymy = []\n",
    "        \n",
    "        \n",
    "class RuWordNet(object):\n",
    "    def __init__(self, ruwordnet_path):\n",
    "        self.ruwordnet_path = ruwordnet_path\n",
    "        self.id2sense = {}\n",
    "        self.id2synset = {}\n",
    "    \n",
    "    def __load_senses(self):\n",
    "        n_senses_path = os.path.join(self.ruwordnet_path, \"senses.N.xml\")\n",
    "        v_senses_path = os.path.join(self.ruwordnet_path, \"senses.V.xml\")\n",
    "        a_senses_path = os.path.join(self.ruwordnet_path, \"senses.A.xml\")\n",
    "        senses_paths = [n_senses_path, v_senses_path, a_senses_path]\n",
    "        \n",
    "        for path_idx, path in enumerate(senses_paths):\n",
    "            if not os.path.exists(path):\n",
    "                print(\"File {} does not exist! Stop loading RuWordNet\".format(path))\n",
    "                break\n",
    "            \n",
    "            print(\"Loading senses from {} ...\".format(path))\n",
    "            tree = etree.parse(path)\n",
    "            root = root.getroot(tree)\n",
    "            for sense in root:\n",
    "                sense_id = sense.attrib[\"id\"]\n",
    "                assert sense_id not in id2sense, 'Error: sense id {} already exist'.format(sense_id)\n",
    "                id2sense[sense_id] = Sense(**sense.attrib)\n",
    "    \n",
    "    def __load_synsets(self):\n",
    "        pass\n",
    "        \n",
    "    def __load_relations(self):\n",
    "        pass"
   ]
  },
  {
   "cell_type": "code",
   "execution_count": 4,
   "metadata": {
    "collapsed": true
   },
   "outputs": [],
   "source": [
    "tree = etree.parse(\"../rwn-xml-2017-05-13/senses.N.xml\")"
   ]
  },
  {
   "cell_type": "code",
   "execution_count": 7,
   "metadata": {
    "collapsed": false
   },
   "outputs": [],
   "source": [
    "root = tree.getroot()"
   ]
  },
  {
   "cell_type": "code",
   "execution_count": 8,
   "metadata": {
    "collapsed": false
   },
   "outputs": [
    {
     "data": {
      "text/plain": [
       "<Element 'senses' at 0x7ff87809d368>"
      ]
     },
     "execution_count": 8,
     "metadata": {},
     "output_type": "execute_result"
    }
   ],
   "source": [
    "root"
   ]
  },
  {
   "cell_type": "code",
   "execution_count": 13,
   "metadata": {
    "collapsed": false,
    "scrolled": true
   },
   "outputs": [
    {
     "name": "stdout",
     "output_type": "stream",
     "text": [
      "<Element 'sense' at 0x7ff87809d3b8>\n",
      "{'id': '115643', 'synset_id': 'N12658', 'name': 'МЕДИЦИНСКОЕ КОДИРОВАНИЕ', 'lemma': 'МЕДИЦИНСКИЙ КОДИРОВАНИЕ', 'main_word': 'КОДИРОВАНИЕ', 'synt_type': 'NG', 'poses': 'Adj N', 'meaning': '1'}\n"
     ]
    },
    {
     "ename": "TypeError",
     "evalue": "element indices must be integers",
     "output_type": "error",
     "traceback": [
      "\u001b[0;31m---------------------------------------------------------------------------\u001b[0m",
      "\u001b[0;31mTypeError\u001b[0m                                 Traceback (most recent call last)",
      "\u001b[0;32m<ipython-input-13-bcbc9f36a246>\u001b[0m in \u001b[0;36m<module>\u001b[0;34m()\u001b[0m\n\u001b[1;32m      2\u001b[0m     \u001b[0mprint\u001b[0m\u001b[0;34m(\u001b[0m\u001b[0ms\u001b[0m\u001b[0;34m)\u001b[0m\u001b[0;34m\u001b[0m\u001b[0m\n\u001b[1;32m      3\u001b[0m     \u001b[0mprint\u001b[0m\u001b[0;34m(\u001b[0m\u001b[0ms\u001b[0m\u001b[0;34m.\u001b[0m\u001b[0mattrib\u001b[0m\u001b[0;34m)\u001b[0m\u001b[0;34m\u001b[0m\u001b[0m\n\u001b[0;32m----> 4\u001b[0;31m     \u001b[0ms\u001b[0m\u001b[0;34m[\u001b[0m\u001b[0;34m\"id\"\u001b[0m\u001b[0;34m]\u001b[0m\u001b[0;34m\u001b[0m\u001b[0m\n\u001b[0m",
      "\u001b[0;31mTypeError\u001b[0m: element indices must be integers"
     ]
    }
   ],
   "source": [
    "for s in root[:10]:\n",
    "    print(s)\n",
    "    print(s.attrib)"
   ]
  },
  {
   "cell_type": "code",
   "execution_count": 11,
   "metadata": {
    "collapsed": false
   },
   "outputs": [
    {
     "data": {
      "text/plain": [
       "77372"
      ]
     },
     "execution_count": 11,
     "metadata": {},
     "output_type": "execute_result"
    }
   ],
   "source": [
    "len(root)"
   ]
  },
  {
   "cell_type": "code",
   "execution_count": 12,
   "metadata": {
    "collapsed": false
   },
   "outputs": [
    {
     "name": "stdout",
     "output_type": "stream",
     "text": [
      "77374 ../rwn-xml-2017-05-13/senses.N.xml\r\n"
     ]
    }
   ],
   "source": [
    "!wc -l ../rwn-xml-2017-05-13/senses.N.xml"
   ]
  },
  {
   "cell_type": "code",
   "execution_count": null,
   "metadata": {
    "collapsed": true
   },
   "outputs": [],
   "source": []
  }
 ],
 "metadata": {
  "anaconda-cloud": {},
  "kernelspec": {
   "display_name": "Python [conda env:condapython3]",
   "language": "python",
   "name": "conda-env-condapython3-py"
  },
  "language_info": {
   "codemirror_mode": {
    "name": "ipython",
    "version": 3
   },
   "file_extension": ".py",
   "mimetype": "text/x-python",
   "name": "python",
   "nbconvert_exporter": "python",
   "pygments_lexer": "ipython3",
   "version": "3.6.3"
  }
 },
 "nbformat": 4,
 "nbformat_minor": 2
}
