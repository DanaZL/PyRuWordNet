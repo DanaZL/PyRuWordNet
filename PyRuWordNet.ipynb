{
 "cells": [
  {
   "cell_type": "code",
   "execution_count": 1,
   "metadata": {
    "collapsed": false
   },
   "outputs": [],
   "source": [
    "import os\n",
    "from copy import deepcopy\n",
    "import xml.etree.ElementTree as etree"
   ]
  },
  {
   "cell_type": "code",
   "execution_count": 10,
   "metadata": {
    "collapsed": false
   },
   "outputs": [],
   "source": [
    "class Sense(object):\n",
    "    def __init__(self,\n",
    "                 id,\n",
    "                 synset_id,\n",
    "                 synt_type,\n",
    "                 name,\n",
    "                 lemma,\n",
    "                 main_word,\n",
    "                 poses,\n",
    "                 meaning):\n",
    "        \"\"\"\n",
    "        Sense class\n",
    "        \"\"\"\n",
    "        self.id = id\n",
    "        self.synset_id = synset_id\n",
    "        self.synt_type = synt_type\n",
    "        self.name = name\n",
    "        self.lemma = lemma\n",
    "        self.main_word = main_word\n",
    "        self.poses = poses\n",
    "        self.meaning = meaning\n",
    "        self.composed_of = None\n",
    "        self.derived_from = None\n",
    "        \n",
    "    def __str__(self):\n",
    "        return str(self.__dict__)\n",
    "    \n",
    "        \n",
    "class Synset(object):\n",
    "    def __init__(self,\n",
    "                 id,\n",
    "                 ruthes_name,\n",
    "                 definition,\n",
    "                 part_of_speech\n",
    "                ):\n",
    "        self.id = id\n",
    "        self.part_of_speech = part_of_speech\n",
    "        self.ruthes_name = ruthes_name\n",
    "        self.definition = definition\n",
    "        self.sense_list = []\n",
    "        self.hypernym_for = []\n",
    "        self.hyponym_for = []\n",
    "        self.domain_for = []\n",
    "        self.antonym = []\n",
    "        self.pos_synonymy = []\n",
    "        \n",
    "    def __str__(self):\n",
    "        return str(self.__dict__)\n",
    "        \n",
    "        \n",
    "class RuWordNet(object):\n",
    "    def __init__(self, ruwordnet_path):\n",
    "        self.ruwordnet_path = ruwordnet_path\n",
    "        self.id2sense = {}\n",
    "        self.id2synset = {}\n",
    "        \n",
    "        self.__load_senses_and_synsets()\n",
    "        self.__load_relations()\n",
    "    \n",
    "    def __load_senses_and_synsets(self):\n",
    "        n_senses_path = os.path.join(self.ruwordnet_path, \"senses.N.xml\")\n",
    "        v_senses_path = os.path.join(self.ruwordnet_path, \"senses.V.xml\")\n",
    "        a_senses_path = os.path.join(self.ruwordnet_path, \"senses.A.xml\")\n",
    "        n_synsets_path = os.path.join(self.ruwordnet_path, \"synsets.N.xml\")\n",
    "        v_synsets_path = os.path.join(self.ruwordnet_path, \"synsets.V.xml\")\n",
    "        a_synsets_path = os.path.join(self.ruwordnet_path, \"synsets.A.xml\")\n",
    "        senses_synsets_paths = [n_senses_path, v_senses_path, a_senses_path,\n",
    "                        n_synsets_path, v_synsets_path, a_synsets_path]\n",
    "        \n",
    "        for path_idx, path in enumerate(senses_synsets_paths):\n",
    "            if not os.path.exists(path):\n",
    "                print(\"File {} does not exist! Stop loading RuWordNet\".format(path))\n",
    "                break\n",
    "            \n",
    "            print(\"Loading senses/synsets from {} ...\".format(path))\n",
    "            tree = etree.parse(path)\n",
    "            root = tree.getroot()\n",
    "            for value in root:\n",
    "                value_id = value.attrib[\"id\"]\n",
    "                if path_idx < 3:\n",
    "                    assert value_id not in self.id2sense, 'Error: sense id {} already exist'.format(value_id)\n",
    "                    self.id2sense[value_id] = Sense(**value.attrib)\n",
    "                else:\n",
    "                    assert value_id not in self.id2synset, 'Error: synset id {} already exist'.format(value_id)\n",
    "                    new_synset = Synset(**value.attrib)\n",
    "                    for sense in value:\n",
    "                        new_synset.sense_list.append(sense.attrib['id'])\n",
    "                    self.id2synset[value_id] = new_synset\n",
    "                    \n",
    "        self.get_stat()\n",
    "        \n",
    "    def __load_relations(self):\n",
    "        \"\"\"\n",
    "        Only hypernymy loading today\n",
    "        \"\"\"\n",
    "        n_relations_path = os.path.join(self.ruwordnet_path, \"synset_relations.N.xml\")\n",
    "        v_relations_path = os.path.join(self.ruwordnet_path, \"synset_relations.V.xml\")\n",
    "        a_relations_path = os.path.join(self.ruwordnet_path, \"synset_relations.A.xml\")\n",
    "        \n",
    "        relations_paths = [n_relations_path, v_relations_path, a_relations_path]\n",
    "        \n",
    "        for path_idx, path in enumerate(relations_paths):\n",
    "            if not os.path.exists(path):\n",
    "                print(\"File {} does not exist! Stop loading RuWordNet\".format(path))\n",
    "                break\n",
    "                \n",
    "            print(\"Loading relations from {} ...\".format(path))\n",
    "            tree = etree.parse(path)\n",
    "            root = tree.getroot()\n",
    "            for value in root:\n",
    "                parent_id = value.attrib[\"parent_id\"]\n",
    "                child_id = value.attrib[\"child_id\"]\n",
    "                relation_name = value.attrib[\"name\"]\n",
    "                \n",
    "                if relation_name == \"hypernym\" or relation_name == \"instance hypernym\":\n",
    "                    self.id2synset[child_id].hypernym_for.append(parent_id)\n",
    "                    self.id2synset[parent_id].hyponym_for.append(child_id)\n",
    "    \n",
    "    def get_synsets(self, part_of_speech=None):\n",
    "        synsets = []\n",
    "        for synset in self.id2synset.values():\n",
    "            if part_of_speech is not None and synset.part_of_speech not in part_of_speech:\n",
    "                continue\n",
    "            synsets.append(deepcopy(synset))\n",
    "        return synsets\n",
    "                    \n",
    "    def get_stat(self):\n",
    "        print(\"Number of senses: {}\".format(len(self.id2sense)))\n",
    "        print(\"Number of synsets: {}\".format(len(self.id2synset)))\n",
    "        \n",
    "    def get_roots(self):\n",
    "        root_synsets = []\n",
    "        for synset_id, synset in self.id2synset.items():\n",
    "            if len(synset.hyponym_for) == 0 and len(synset.hypernym_for) != 0:\n",
    "                root_synsets.append(deepcopy(synset))\n",
    "        return root_synsets\n",
    "    \n",
    "    def get_tree(self, root_synset_id):\n",
    "        vert_name = self.id2synset[root_synset_id].ruthes_name\n",
    "        tree = {vert_name:{}}\n",
    "        for synset_id in self.id2synset[root_synset_id].hypernym_for:\n",
    "            tree[vert_name].update(self.get_tree(synset_id))\n",
    "        return tree\n",
    "    \n",
    "    def get_child_ids(self, root_synset_id):\n",
    "        child_ids = []\n",
    "        for synset_id in self.id2synset[root_synset_id].hypernym_for:\n",
    "            child_ids += [synset_id] + self.get_child_ids(synset_id)\n",
    "        return child_ids\n",
    "    \n",
    "    def get_synsets_without_relations(self):\n",
    "        synsets_without_relations = []\n",
    "        for synset_id, synset in self.id2synset.items():\n",
    "            if len(synset.hyponym_for) == 0 and len(synset.hypernym_for) == 0:\n",
    "                synsets_without_relations.append(deepcopy(synset))\n",
    "        return synsets_without_relations\n",
    "    \n",
    "    def get_connect_components(self):\n",
    "        component_roots = [set([root.id]) for root in self.get_roots()]\n",
    "#         print(component_roots[:10])\n",
    "        component_set_ids = [set([child_id for root in root_set for child_id in self.get_child_ids(root)])\\\n",
    "                             for root_set in component_roots]\n",
    "        \n",
    "        while True:\n",
    "            new_component_roots = []\n",
    "            new_component_set_ids = []\n",
    "        \n",
    "            for idx_1, component_root_1 in enumerate(component_roots):\n",
    "                changed = False\n",
    "                for idx_2, component_root_2 in enumerate(component_roots[idx_1 + 1:]):\n",
    "                    if len(component_set_ids[idx_1].intersection(component_set_ids[idx_1 + 1 + idx_2])) > 0:\n",
    "#                         print (idx_1, idx_1 + 1 + idx_2, len(component_roots[idx_1 + 1:idx_1 + 1 + idx_2]),\n",
    "#                                len(component_roots[idx_2 + 1:]))\n",
    "                        new_component_roots.append(component_root_1.union(component_root_2))\n",
    "                        new_component_roots += component_roots[idx_1 + 1:idx_1 + 1 + idx_2]\n",
    "                        new_component_roots += component_roots[idx_1 + 1 + idx_2 + 1:]\n",
    "                        changed = True\n",
    "                        break\n",
    "                if changed:\n",
    "                    break\n",
    "                new_component_roots.append(component_root_1)\n",
    "#             print (len(new_component_roots), len(component_roots))\n",
    "            if len(component_roots) == len(new_component_roots):\n",
    "                break\n",
    "            else:\n",
    "                component_roots = deepcopy(new_component_roots)\n",
    "                component_set_ids = [set([child_id for root in root_set for child_id in self.get_child_ids(root) ])\\\n",
    "                             for root_set in component_roots]\n",
    "#             break    \n",
    "                \n",
    "        print(len(component_roots))\n",
    "        return component_roots"
   ]
  },
  {
   "cell_type": "code",
   "execution_count": 11,
   "metadata": {
    "collapsed": false
   },
   "outputs": [
    {
     "name": "stdout",
     "output_type": "stream",
     "text": [
      "Loading senses/synsets from ../rwn-xml-2017-05-13/senses.N.xml ...\n",
      "Loading senses/synsets from ../rwn-xml-2017-05-13/senses.V.xml ...\n",
      "Loading senses/synsets from ../rwn-xml-2017-05-13/senses.A.xml ...\n",
      "Loading senses/synsets from ../rwn-xml-2017-05-13/synsets.N.xml ...\n",
      "Loading senses/synsets from ../rwn-xml-2017-05-13/synsets.V.xml ...\n",
      "Loading senses/synsets from ../rwn-xml-2017-05-13/synsets.A.xml ...\n",
      "Number of senses: 130416\n",
      "Number of synsets: 49492\n",
      "Loading relations from ../rwn-xml-2017-05-13/synset_relations.N.xml ...\n",
      "Loading relations from ../rwn-xml-2017-05-13/synset_relations.V.xml ...\n",
      "Loading relations from ../rwn-xml-2017-05-13/synset_relations.A.xml ...\n"
     ]
    }
   ],
   "source": [
    "ruwordnet = RuWordNet(\"../rwn-xml-2017-05-13/\")"
   ]
  },
  {
   "cell_type": "code",
   "execution_count": 12,
   "metadata": {
    "collapsed": false,
    "scrolled": true
   },
   "outputs": [
    {
     "name": "stdout",
     "output_type": "stream",
     "text": [
      "141\n"
     ]
    }
   ],
   "source": [
    "comps = ruwordnet.get_connect_components()"
   ]
  },
  {
   "cell_type": "code",
   "execution_count": 13,
   "metadata": {
    "collapsed": false
   },
   "outputs": [
    {
     "data": {
      "text/plain": [
       "{'N13642',\n",
       " 'N17250',\n",
       " 'N21422',\n",
       " 'N25077',\n",
       " 'N31905',\n",
       " 'N34096',\n",
       " 'N36988',\n",
       " 'N41294'}"
      ]
     },
     "execution_count": 13,
     "metadata": {},
     "output_type": "execute_result"
    }
   ],
   "source": [
    "comps[0]"
   ]
  },
  {
   "cell_type": "code",
   "execution_count": 5,
   "metadata": {
    "collapsed": false
   },
   "outputs": [
    {
     "name": "stdout",
     "output_type": "stream",
     "text": [
      "{'id': 'N34394', 'part_of_speech': 'N', 'ruthes_name': 'ПЕНЗЕНСКАЯ ОБЛАСТЬ', 'definition': '', 'sense_list': ['119446', '119447'], 'hypernym_for': [], 'hyponym_for': ['N30503', 'N33610'], 'domain_for': [], 'antonym': [], 'pos_synonymy': []}\n"
     ]
    }
   ],
   "source": [
    "print(ruwordnet.id2synset['N34394'])"
   ]
  },
  {
   "cell_type": "code",
   "execution_count": 6,
   "metadata": {
    "collapsed": false
   },
   "outputs": [
    {
     "name": "stdout",
     "output_type": "stream",
     "text": [
      "29326\n"
     ]
    }
   ],
   "source": [
    "n_synsets = ruwordnet.get_synsets(part_of_speech=[\"N\"])\n",
    "print(len(n_synsets))"
   ]
  },
  {
   "cell_type": "code",
   "execution_count": 42,
   "metadata": {
    "collapsed": false
   },
   "outputs": [
    {
     "name": "stdout",
     "output_type": "stream",
     "text": [
      "49492\n"
     ]
    }
   ],
   "source": [
    "all_synsets = ruwordnet.get_synsets()\n",
    "print (len(all_synsets))"
   ]
  },
  {
   "cell_type": "code",
   "execution_count": 7,
   "metadata": {
    "collapsed": false
   },
   "outputs": [
    {
     "name": "stdout",
     "output_type": "stream",
     "text": [
      "{'id': 'N12658', 'part_of_speech': 'N', 'ruthes_name': 'КОДИРОВАНИЕ ОТ ЗАВИСИМОСТИ', 'definition': '', 'sense_list': ['115643', '115640', '115641', '115642'], 'hypernym_for': [], 'hyponym_for': ['N37195', 'N14084'], 'domain_for': [], 'antonym': [], 'pos_synonymy': []}\n",
      "{'id': 'N12659', 'part_of_speech': 'N', 'ruthes_name': 'ПОДГОТОВИТЬ К ИЗВЕСТИЮ', 'definition': 'готовить, настраивать соответствующим образом для восприятия чего-либо (какого-либо известия, сообщения и т. п.)', 'sense_list': ['117307', '117313'], 'hypernym_for': [], 'hyponym_for': ['N30586', 'N39232'], 'domain_for': [], 'antonym': [], 'pos_synonymy': []}\n",
      "{'id': 'N12660', 'part_of_speech': 'N', 'ruthes_name': 'ПОЛОГ', 'definition': '', 'sense_list': ['29834'], 'hypernym_for': [], 'hyponym_for': ['N26308'], 'domain_for': [], 'antonym': [], 'pos_synonymy': []}\n",
      "{'id': 'N12661', 'part_of_speech': 'N', 'ruthes_name': 'СВЕРНУТЬ (СЛОМАТЬ)', 'definition': '', 'sense_list': ['96991', '96989'], 'hypernym_for': [], 'hyponym_for': ['N21894'], 'domain_for': [], 'antonym': [], 'pos_synonymy': []}\n",
      "{'id': 'N12662', 'part_of_speech': 'N', 'ruthes_name': 'ОБЛАВА НА ЗВЕРЯ', 'definition': 'охота, при которой загонщики окружают то место, где находится зверь, и гонят его на сидящих в засаде охотников; цепь загонщиков, окружающих зверя', 'sense_list': ['50632', '50628', '50630', '50633', '50629'], 'hypernym_for': [], 'hyponym_for': ['N13453'], 'domain_for': [], 'antonym': [], 'pos_synonymy': []}\n",
      "{'id': 'N12663', 'part_of_speech': 'N', 'ruthes_name': 'РАЗВОДЫ (УЗОР)', 'definition': 'крупный, с неопределенным контуром узор, рисунок', 'sense_list': ['76909'], 'hypernym_for': ['N41334'], 'hyponym_for': ['N24469'], 'domain_for': [], 'antonym': [], 'pos_synonymy': []}\n",
      "{'id': 'N12664', 'part_of_speech': 'N', 'ruthes_name': 'ПЕРЕТЕРЕТЬСЯ (РАЗДЕЛИТЬСЯ)', 'definition': '', 'sense_list': ['122492'], 'hypernym_for': [], 'hyponym_for': ['N29020'], 'domain_for': [], 'antonym': [], 'pos_synonymy': []}\n",
      "{'id': 'N12665', 'part_of_speech': 'N', 'ruthes_name': 'АНКЕТИРОВАНИЕ', 'definition': 'опрос при помощи анкет', 'sense_list': ['100990'], 'hypernym_for': [], 'hyponym_for': ['N14238'], 'domain_for': [], 'antonym': [], 'pos_synonymy': []}\n",
      "{'id': 'N12666', 'part_of_speech': 'N', 'ruthes_name': 'ПРАВАЯ ПОЛИТИЧЕСКАЯ ОРИЕНТАЦИЯ', 'definition': '', 'sense_list': ['52625', '52621', '52624', '52626', '52623', '52622'], 'hypernym_for': ['N15301', 'N15995', 'N31494', 'N35707'], 'hyponym_for': ['N40901'], 'domain_for': [], 'antonym': [], 'pos_synonymy': []}\n",
      "{'id': 'N12667', 'part_of_speech': 'N', 'ruthes_name': 'ИСПОВЕДЬ (РЕЛИГИОЗНЫЙ ОБРЯД)', 'definition': 'в христианстве обряд покаяния в грехах перед священником и получения от него отпущения грехов', 'sense_list': ['91701', '91706', '91705', '91704', '91703', '91700', '91702'], 'hypernym_for': [], 'hyponym_for': ['N36933', 'N27651', 'N41746'], 'domain_for': [], 'antonym': [], 'pos_synonymy': []}\n"
     ]
    }
   ],
   "source": [
    "for s in n_synsets[:10]:\n",
    "    print(s)"
   ]
  },
  {
   "cell_type": "code",
   "execution_count": 15,
   "metadata": {
    "collapsed": false
   },
   "outputs": [
    {
     "name": "stdout",
     "output_type": "stream",
     "text": [
      "814\n"
     ]
    }
   ],
   "source": [
    "no_rel = ruwordnet.get_synsets_without_relations()\n",
    "print(len(no_rel))"
   ]
  },
  {
   "cell_type": "code",
   "execution_count": 16,
   "metadata": {
    "collapsed": false
   },
   "outputs": [
    {
     "name": "stdout",
     "output_type": "stream",
     "text": [
      "{'id': 'N12772', 'part_of_speech': 'N', 'ruthes_name': 'НОВИНКА, НОВОСТЬ', 'definition': '', 'sense_list': ['73830', '73829'], 'hypernym_for': [], 'hyponym_for': [], 'domain_for': [], 'antonym': [], 'pos_synonymy': []}\n",
      "{'id': 'V42089', 'part_of_speech': 'V', 'ruthes_name': 'АНОНИМНОСТЬ', 'definition': 'не имеющий указания на автора или хозяина, без имени автора или хозяина(о сочинении, письме, банковском счёте и\\xa0т.\\xa0п.)', 'sense_list': ['7073'], 'hypernym_for': [], 'hyponym_for': [], 'domain_for': [], 'antonym': [], 'pos_synonymy': []}\n",
      "{'id': 'V42121', 'part_of_speech': 'V', 'ruthes_name': 'ПРОЯСНЕНИЕ В ГОЛОВЕ', 'definition': '', 'sense_list': ['827', '830', '831', '832', '833'], 'hypernym_for': [], 'hyponym_for': [], 'domain_for': [], 'antonym': [], 'pos_synonymy': []}\n",
      "{'id': 'V42232', 'part_of_speech': 'V', 'ruthes_name': 'РАДИОАКТИВНЫЕ ОТХОДЫ', 'definition': '', 'sense_list': ['84496'], 'hypernym_for': [], 'hyponym_for': [], 'domain_for': [], 'antonym': [], 'pos_synonymy': []}\n",
      "{'id': 'V42273', 'part_of_speech': 'V', 'ruthes_name': 'ТРУДОВОЙ СТАЖ', 'definition': '', 'sense_list': ['18077'], 'hypernym_for': [], 'hyponym_for': [], 'domain_for': [], 'antonym': [], 'pos_synonymy': []}\n",
      "{'id': 'V42323', 'part_of_speech': 'V', 'ruthes_name': 'БУДДИСТ', 'definition': 'последователь буддизма', 'sense_list': ['67514'], 'hypernym_for': [], 'hyponym_for': [], 'domain_for': [], 'antonym': [], 'pos_synonymy': []}\n",
      "{'id': 'V42381', 'part_of_speech': 'V', 'ruthes_name': 'РАВНОВЕСИЕ ТЕЛА', 'definition': 'состояние неподвижности, покоя или равномерного движения, в котором находится какое-либо тело под воздействием равных, противоположно направленных и потому взаимно уничтожающихся сил и моментов сил', 'sense_list': ['19701', '19702'], 'hypernym_for': [], 'hyponym_for': [], 'domain_for': [], 'antonym': [], 'pos_synonymy': []}\n",
      "{'id': 'V42447', 'part_of_speech': 'V', 'ruthes_name': 'НЕДАВНИЙ, ПРОИЗОШЕДШИЙ НЕДАВНО', 'definition': 'произошедший в недалёком прошлом, имевший место небольшое время назад.', 'sense_list': ['1141'], 'hypernym_for': [], 'hyponym_for': [], 'domain_for': [], 'antonym': [], 'pos_synonymy': []}\n",
      "{'id': 'V42494', 'part_of_speech': 'V', 'ruthes_name': 'АВТОРИТЕТНЫЙ (ВЛИЯТЕЛЬНЫЙ)', 'definition': '', 'sense_list': ['40564', '40562'], 'hypernym_for': [], 'hyponym_for': [], 'domain_for': [], 'antonym': [], 'pos_synonymy': []}\n",
      "{'id': 'V42535', 'part_of_speech': 'V', 'ruthes_name': 'ОТЖИМАНИЕ (УПРАЖНЕНИЕ)', 'definition': '', 'sense_list': ['94427', '94425'], 'hypernym_for': [], 'hyponym_for': [], 'domain_for': [], 'antonym': [], 'pos_synonymy': []}\n"
     ]
    }
   ],
   "source": [
    "for s in no_rel[:10]:\n",
    "    print (s)"
   ]
  },
  {
   "cell_type": "code",
   "execution_count": 44,
   "metadata": {
    "collapsed": false
   },
   "outputs": [
    {
     "name": "stdout",
     "output_type": "stream",
     "text": [
      "450\n"
     ]
    }
   ],
   "source": [
    "roots = ruwordnet.get_roots()\n",
    "print(len(roots))"
   ]
  },
  {
   "cell_type": "code",
   "execution_count": 45,
   "metadata": {
    "collapsed": false
   },
   "outputs": [],
   "source": [
    "s = 0\n",
    "for r in roots:\n",
    "    s += len(ruwordnet.get_child_ids(r.id))"
   ]
  },
  {
   "cell_type": "code",
   "execution_count": 46,
   "metadata": {
    "collapsed": false
   },
   "outputs": [
    {
     "data": {
      "text/plain": [
       "135836"
      ]
     },
     "execution_count": 46,
     "metadata": {},
     "output_type": "execute_result"
    }
   ],
   "source": []
  },
  {
   "cell_type": "code",
   "execution_count": 10,
   "metadata": {
    "collapsed": false
   },
   "outputs": [
    {
     "name": "stdout",
     "output_type": "stream",
     "text": [
      "{'id': 'N13124', 'part_of_speech': 'N', 'ruthes_name': 'СЛАВЯНЕ', 'definition': '', 'sense_list': ['97323', '97322', '97325'], 'hypernym_for': ['N20366', 'N23820', 'N32246'], 'hyponym_for': [], 'domain_for': [], 'antonym': [], 'pos_synonymy': []}\n",
      "{'id': 'N13642', 'part_of_speech': 'N', 'ruthes_name': 'РОЛЬ, ПОЛОЖЕНИЕ, МЕСТО', 'definition': 'положение кого-либо в обществе, роль, отведенная кому-либо в обществе, в какой-либо деятельности', 'sense_list': ['12476', '12477', '12479'], 'hypernym_for': ['N16140', 'N16946', 'N18603', 'N18767', 'N20953', 'N20996', 'N21004', 'N22320', 'N25662', 'N25833', 'N27949', 'N28331', 'N28766', 'N29047', 'N29583', 'N30759', 'N30782', 'N31966', 'N32419', 'N33837', 'N34164', 'N35382', 'N35390', 'N37961', 'N38989', 'N39235'], 'hyponym_for': [], 'domain_for': [], 'antonym': [], 'pos_synonymy': []}\n",
      "{'id': 'N14572', 'part_of_speech': 'N', 'ruthes_name': 'КАВКАЗЦЫ', 'definition': '', 'sense_list': ['20079', '20078', '20073', '20074', '20075', '20076', '20077'], 'hypernym_for': ['N15550', 'N16103', 'N17340', 'N23089', 'N25751', 'N26065', 'N38776', 'N40506'], 'hyponym_for': [], 'domain_for': [], 'antonym': [], 'pos_synonymy': []}\n",
      "{'id': 'N15081', 'part_of_speech': 'N', 'ruthes_name': 'ВАЙНАХИ', 'definition': '', 'sense_list': ['67593'], 'hypernym_for': ['N17920', 'N38481'], 'hyponym_for': [], 'domain_for': [], 'antonym': [], 'pos_synonymy': []}\n",
      "{'id': 'N15553', 'part_of_speech': 'N', 'ruthes_name': 'СЕМИТЫ', 'definition': 'группа близких по языку народов, населяющих или населявших Северную и Восточную Африку и Юго-Западную Азию (к которой относятся древние вавилоняне, ассирийцы, финикийцы, иудеи итп, а также современные арабы, сирийцы, евреи, эфиопы)', 'sense_list': ['54631', '54632'], 'hypernym_for': ['N12944', 'N35313'], 'hyponym_for': [], 'domain_for': [], 'antonym': [], 'pos_synonymy': []}\n",
      "{'id': 'N17250', 'part_of_speech': 'N', 'ruthes_name': 'ПОСТОЯННАЯ СУЩНОСТЬ', 'definition': '', 'sense_list': ['120116'], 'hypernym_for': ['N13716', 'N14652', 'N16717', 'N18708', 'N19069', 'N20858', 'N24148', 'N27912', 'N31318', 'N34894', 'N37038', 'N41608'], 'hyponym_for': [], 'domain_for': [], 'antonym': [], 'pos_synonymy': []}\n",
      "{'id': 'N18965', 'part_of_speech': 'N', 'ruthes_name': 'АДЫГИ', 'definition': '', 'sense_list': ['7985'], 'hypernym_for': ['N13696', 'N29701', 'N35385'], 'hyponym_for': [], 'domain_for': [], 'antonym': [], 'pos_synonymy': []}\n",
      "{'id': 'N21422', 'part_of_speech': 'N', 'ruthes_name': 'ВАРИАНТ, РАЗНОВИДНОСТЬ', 'definition': 'разновидность, видоизменение чего-либо', 'sense_list': ['67625', '67626', '67628'], 'hypernym_for': ['N14248', 'N17121', 'N18983', 'N19704', 'N23228', 'N24131', 'N24556', 'N24952', 'N25802', 'N29637', 'N30381', 'N31864', 'N32861', 'N36445', 'N38084', 'N38461', 'N38762'], 'hyponym_for': [], 'domain_for': [], 'antonym': [], 'pos_synonymy': []}\n",
      "{'id': 'N22463', 'part_of_speech': 'N', 'ruthes_name': 'ХОЛМ (ВОЗВЫШЕННОСТЬ)', 'definition': 'холм, горка', 'sense_list': ['14547', '14548', '14549'], 'hypernym_for': ['N20674'], 'hyponym_for': [], 'domain_for': [], 'antonym': [], 'pos_synonymy': []}\n",
      "{'id': 'N25077', 'part_of_speech': 'N', 'ruthes_name': 'ПРОИСХОДЯЩАЯ СУЩНОСТЬ', 'definition': '', 'sense_list': ['101686', '101685'], 'hypernym_for': ['N15042', 'N17378', 'N17791', 'N18028', 'N21089', 'N21373', 'N22429', 'N23552', 'N23804', 'N24599', 'N27145', 'N27604', 'N31319', 'N31618', 'N32949', 'N33244', 'N36665', 'N36952', 'N36991', 'N38728', 'N39077', 'N39415', 'N40596', 'N41046', 'N41951'], 'hyponym_for': [], 'domain_for': [], 'antonym': [], 'pos_synonymy': []}\n",
      "{'id': 'N25902', 'part_of_speech': 'N', 'ruthes_name': 'НАГОРЬЕ', 'definition': 'обширный по площади участок земной поверхности, представляющий сочетание плоскогорий, горных хребтов и массивов, иногда чередующихся с котловинами, плато и долинами и в целом расположенный сравнительно высоко над уровнем моря', 'sense_list': ['73326'], 'hypernym_for': ['N22167', 'N31682'], 'hyponym_for': [], 'domain_for': [], 'antonym': [], 'pos_synonymy': []}\n",
      "{'id': 'N28017', 'part_of_speech': 'N', 'ruthes_name': 'ГРАФСТВО ВЕЛИКОБРИТАНИИ', 'definition': '', 'sense_list': ['103288'], 'hypernym_for': ['N29433'], 'hyponym_for': [], 'domain_for': [], 'antonym': [], 'pos_synonymy': []}\n",
      "{'id': 'N31548', 'part_of_speech': 'N', 'ruthes_name': 'ГОРА', 'definition': 'сильно возвышенная местность, большой холм', 'sense_list': ['9019', '9015', '9018', '9014'], 'hypernym_for': ['N14131', 'N15465', 'N16989', 'N18030', 'N19998', 'N20838', 'N21484', 'N23054', 'N25441', 'N25759', 'N27063', 'N27293', 'N28377', 'N31699', 'N33438', 'N36943', 'N37660', 'N40066', 'N40448'], 'hyponym_for': [], 'domain_for': [], 'antonym': [], 'pos_synonymy': []}\n",
      "{'id': 'N31905', 'part_of_speech': 'N', 'ruthes_name': 'СОСТАВНАЯ ЧАСТЬ', 'definition': 'одна из составных частей какого-либо целого', 'sense_list': ['34035', '34036'], 'hypernym_for': ['N13002', 'N13568', 'N14270', 'N14273', 'N14460', 'N15803', 'N16001', 'N17637', 'N17864', 'N17879', 'N18793', 'N21167', 'N22312', 'N22315', 'N22421', 'N23616', 'N24051', 'N24838', 'N25297', 'N25540', 'N26432', 'N26840', 'N26927', 'N27227', 'N28868', 'N29072', 'N29123', 'N30075', 'N30171', 'N30355', 'N30515', 'N30733', 'N31196', 'N31468', 'N32627', 'N34155', 'N35624', 'N35684', 'N35974', 'N37649', 'N37762', 'N37864', 'N37992', 'N38374', 'N38432', 'N41177', 'N41436'], 'hyponym_for': [], 'domain_for': [], 'antonym': [], 'pos_synonymy': []}\n",
      "{'id': 'N34096', 'part_of_speech': 'N', 'ruthes_name': 'СОВОКУПНОСТЬ, ЦЕЛОЕ', 'definition': 'совокупность каких-либо объектов, образующих единое целое', 'sense_list': ['33987', '33988', '33989'], 'hypernym_for': ['N13159', 'N13412', 'N14103', 'N14632', 'N15061', 'N15257', 'N15536', 'N15589', 'N15887', 'N17425', 'N19485', 'N19848', 'N22674', 'N23350', 'N24070', 'N24881', 'N25313', 'N26141', 'N26220', 'N26980', 'N27296', 'N27896', 'N28863', 'N29498', 'N31059', 'N32847', 'N33521', 'N34454', 'N34651', 'N35756', 'N36080', 'N36496', 'N40285', 'N40459', 'N40772', 'N41412'], 'hyponym_for': [], 'domain_for': [], 'antonym': [], 'pos_synonymy': []}\n",
      "{'id': 'N36988', 'part_of_speech': 'N', 'ruthes_name': 'ОТНОШЕНИЕ МЕЖДУ СУЩНОСТЯМИ', 'definition': '', 'sense_list': ['31131', '31132', '31134', '31135'], 'hypernym_for': ['N14245', 'N14681', 'N16691', 'N17787', 'N18149', 'N18888', 'N19413', 'N20075', 'N20419', 'N21489', 'N21560', 'N22354', 'N22562', 'N25359', 'N25796', 'N26121', 'N26715', 'N27607', 'N27689', 'N27933', 'N29855', 'N30452', 'N30864', 'N32475', 'N32801', 'N33312', 'N33938', 'N34049', 'N34352', 'N34903', 'N35807', 'N37309', 'N37514', 'N39397', 'N39490'], 'hyponym_for': [], 'domain_for': [], 'antonym': [], 'pos_synonymy': []}\n",
      "{'id': 'N41294', 'part_of_speech': 'N', 'ruthes_name': 'НОВШЕСТВО', 'definition': 'что-либо новое, только что вошедшее в обиход', 'sense_list': ['73822', '73823'], 'hypernym_for': ['N12695', 'N26952', 'N28051', 'N32819', 'N40471'], 'hyponym_for': [], 'domain_for': [], 'antonym': [], 'pos_synonymy': []}\n",
      "{'id': 'V42284', 'part_of_speech': 'V', 'ruthes_name': 'РЕАНИМАЦИЯ', 'definition': 'комплекс неотложных медицинских мероприятий, направленных на восстановление резко нарушенных или утраченных жизненно важных функций организма, находящегося в предсмертном состоянии; оживление организма после клинической смерти', 'sense_list': ['20284', '20285'], 'hypernym_for': ['V45608'], 'hyponym_for': [], 'domain_for': [], 'antonym': [], 'pos_synonymy': []}\n",
      "{'id': 'V42385', 'part_of_speech': 'V', 'ruthes_name': 'СОХРАНИТЬ СОСТОЯНИЕ', 'definition': '', 'sense_list': ['110357', '110356', '110355'], 'hypernym_for': ['V42690', 'V43554', 'V44055', 'V44214', 'V44452', 'V44631', 'V44894', 'V46897', 'V46997', 'V47552', 'V48849', 'V48928'], 'hyponym_for': [], 'domain_for': [], 'antonym': [], 'pos_synonymy': []}\n",
      "{'id': 'V42680', 'part_of_speech': 'V', 'ruthes_name': 'ОТНОШЕНИЕ МЕЖДУ СУЩНОСТЯМИ', 'definition': '', 'sense_list': ['31133'], 'hypernym_for': ['V42074', 'V42226', 'V42249', 'V42251', 'V42377', 'V42562', 'V42650', 'V42656', 'V42731', 'V42745', 'V42850', 'V43303', 'V43582', 'V43645', 'V44029', 'V44145', 'V44381', 'V44542', 'V44731', 'V44895', 'V44978', 'V45029', 'V45095', 'V45157', 'V45205', 'V45345', 'V45380', 'V45415', 'V45768', 'V45815', 'V46071', 'V46119', 'V46229', 'V46516', 'V46799', 'V46807', 'V46999', 'V47000', 'V47010', 'V47016', 'V47367', 'V47641', 'V47667', 'V47693', 'V47784', 'V48202', 'V48329', 'V48618', 'V48864', 'V49001', 'V49123', 'V49165'], 'hyponym_for': [], 'domain_for': [], 'antonym': [], 'pos_synonymy': []}\n",
      "{'id': 'V42698', 'part_of_speech': 'V', 'ruthes_name': 'ДОБРАТЬСЯ ДО МЕСТА', 'definition': 'перемещаясь, дойти, доехать, долететь и\\xa0т.\\xa0п. до какого-либо места, предела, поравняться с чем-либо, кем-либо', 'sense_list': ['70099', '70104', '70101', '70105', '70102', '70100', '70098', '70106', '70103'], 'hypernym_for': ['V42791', 'V44048', 'V44373', 'V45248', 'V45542', 'V46257', 'V46370', 'V46837', 'V48059', 'V48131', 'V48241'], 'hyponym_for': [], 'domain_for': [], 'antonym': [], 'pos_synonymy': []}\n",
      "{'id': 'V42860', 'part_of_speech': 'V', 'ruthes_name': 'УТРАТИТЬ', 'definition': 'переставать владеть кем-либо, чем-либо; терять, утрачивать кого-либо, что-либо', 'sense_list': ['52529', '52528', '52530', '52531', '52532', '52533'], 'hypernym_for': ['V42060', 'V42541', 'V43389', 'V43621', 'V43694', 'V43895', 'V45947', 'V46953', 'V47713', 'V48792', 'V49478'], 'hyponym_for': [], 'domain_for': [], 'antonym': [], 'pos_synonymy': []}\n",
      "{'id': 'V42882', 'part_of_speech': 'V', 'ruthes_name': 'РАБОТА, ФУНКЦИОНИРОВАНИЕ', 'definition': 'выполнять свои функции, быть в действии, исправно работать', 'sense_list': ['53381', '53384', '53387', '53385', '53382', '53383'], 'hypernym_for': ['V42759', 'V43532', 'V46212', 'V48517', 'V48692'], 'hyponym_for': [], 'domain_for': [], 'antonym': [], 'pos_synonymy': []}\n",
      "{'id': 'V42993', 'part_of_speech': 'V', 'ruthes_name': 'ИЗМЕНИТЬСЯ, ИЗМЕНЕНИЕ', 'definition': '', 'sense_list': ['92804', '92800', '92797', '92802', '92803', '92801'], 'hypernym_for': ['V42252', 'V42307', 'V42430', 'V42451', 'V42563', 'V42612', 'V42712', 'V42777', 'V42878', 'V42881', 'V43080', 'V43207', 'V43375', 'V43708', 'V43782', 'V43824', 'V43939', 'V44112', 'V44252', 'V44365', 'V44400', 'V44403', 'V44622', 'V44675', 'V44918', 'V45055', 'V45245', 'V45341', 'V45413', 'V45485', 'V45502', 'V45531', 'V45818', 'V45850', 'V46024', 'V46310', 'V46571', 'V46635', 'V46696', 'V46740', 'V46855', 'V46945', 'V47008', 'V47030', 'V47163', 'V47234', 'V47297', 'V47385', 'V47532', 'V47635', 'V47750', 'V47827', 'V48058', 'V48097', 'V48186', 'V48189', 'V48218', 'V48263', 'V48496', 'V48511', 'V48564', 'V48600', 'V48657', 'V48672', 'V48737', 'V48877', 'V49018', 'V49020', 'V49021', 'V49241', 'V49338', 'V49373'], 'hyponym_for': [], 'domain_for': [], 'antonym': [], 'pos_synonymy': []}\n",
      "{'id': 'V43228', 'part_of_speech': 'V', 'ruthes_name': 'ТЕПЛООБМЕН', 'definition': '', 'sense_list': ['38362', '38365'], 'hypernym_for': ['V45913'], 'hyponym_for': [], 'domain_for': [], 'antonym': [], 'pos_synonymy': []}\n",
      "{'id': 'V43623', 'part_of_speech': 'V', 'ruthes_name': 'СОХРАНИТЬСЯ БЕЗ ИЗМЕНЕНИЙ', 'definition': 'сохраняться, продолжать существование, пребывание в каком-либо месте или статусе, состоянии', 'sense_list': ['80209', '80211', '80226', '80212', '80228', '80227', '80210', '80215', '80214', '80213', '80216', '80225', '80219', '80224', '80221', '80222', '80223'], 'hypernym_for': ['V43338', 'V44706', 'V45653', 'V46048'], 'hyponym_for': [], 'domain_for': [], 'antonym': [], 'pos_synonymy': []}\n",
      "{'id': 'V43644', 'part_of_speech': 'V', 'ruthes_name': 'ВПАСТЬ В СОСТОЯНИЕ', 'definition': 'приходить в какое-либо физическое или психическое состояние; целиком отдаваться чему-либо', 'sense_list': ['44236', '44235', '44234', '44226', '44233', '44232', '44229', '44224', '44225'], 'hypernym_for': ['V42555', 'V42787', 'V43252', 'V45573', 'V47499', 'V49047', 'V49320'], 'hyponym_for': [], 'domain_for': [], 'antonym': [], 'pos_synonymy': []}\n",
      "{'id': 'V43792', 'part_of_speech': 'V', 'ruthes_name': 'ОРГАНИЗАЦИЯ, ОРГАНИЗОВАННОСТЬ', 'definition': 'чёткость структуры, порядок, слаженность и дисциплинированность как результат такого действия', 'sense_list': ['122304'], 'hypernym_for': ['V47539', 'V47547', 'V48583'], 'hyponym_for': [], 'domain_for': [], 'antonym': [], 'pos_synonymy': []}\n",
      "{'id': 'V43797', 'part_of_speech': 'V', 'ruthes_name': 'ПРОИЗОЙТИ, СЛУЧИТЬСЯ', 'definition': '', 'sense_list': ['8509', '8510', '8511', '8512', '8513', '8514', '8515', '8516', '8517', '8518', '8519', '8520', '8521', '8522', '8523', '8524', '8525'], 'hypernym_for': ['V42852', 'V43010', 'V43291', 'V44065', 'V45548', 'V45755', 'V46671', 'V46770', 'V47146', 'V47155', 'V47501', 'V47779', 'V47997', 'V48248', 'V48425', 'V48540', 'V48989', 'V48998'], 'hyponym_for': [], 'domain_for': [], 'antonym': [], 'pos_synonymy': []}\n",
      "{'id': 'V43814', 'part_of_speech': 'V', 'ruthes_name': 'ВИДИМЫЙ, ДОСТУПНЫЙ ЗРЕНИЮ', 'definition': '', 'sense_list': ['22507'], 'hypernym_for': ['V47611'], 'hyponym_for': [], 'domain_for': [], 'antonym': [], 'pos_synonymy': []}\n",
      "{'id': 'V43947', 'part_of_speech': 'V', 'ruthes_name': 'ВЫПОЛНИТЬ, ИСПОЛНИТЬ, ОСУЩЕСТВИТЬ', 'definition': 'претворять (претворить) в жизнь, осуществлять (осуществить)', 'sense_list': ['22266', '22267', '22269', '22270', '22271', '22272', '22273', '22274', '22275', '22276', '22277', '22278', '22279', '22280', '22281', '22282', '22283', '22284', '22285', '22288', '22289', '22292', '22293', '22295', '22296', '22298', '22299', '22300'], 'hypernym_for': ['V42132', 'V42164', 'V42509', 'V43125', 'V43192', 'V43424', 'V43577', 'V43832', 'V44186', 'V44549', 'V45047', 'V45142', 'V45489', 'V46219', 'V46838', 'V47193', 'V47250', 'V47494', 'V47871', 'V48084', 'V48703'], 'hyponym_for': [], 'domain_for': [], 'antonym': [], 'pos_synonymy': []}\n",
      "{'id': 'V44189', 'part_of_speech': 'V', 'ruthes_name': 'СОЕДИНИТЬСЯ В ОДНО ЦЕЛОЕ', 'definition': 'объединиться, образовать единое целое с чем-либо', 'sense_list': ['118452', '118453', '118450', '118451'], 'hypernym_for': ['V42052', 'V42479', 'V42795', 'V43963', 'V44299', 'V44807', 'V45187', 'V45513', 'V45927', 'V46006', 'V48622', 'V48667', 'V49112', 'V49117', 'V49297'], 'hyponym_for': [], 'domain_for': [], 'antonym': [], 'pos_synonymy': []}\n",
      "{'id': 'V44191', 'part_of_speech': 'V', 'ruthes_name': 'ПРАВО (ВОЗМОЖНОСТЬ)', 'definition': 'обусловленная законом возможность делать, совершать что-либо, пользоваться чем-либо', 'sense_list': ['30087'], 'hypernym_for': ['V43104', 'V43479', 'V44058', 'V44304', 'V47300'], 'hyponym_for': [], 'domain_for': [], 'antonym': [], 'pos_synonymy': []}\n",
      "{'id': 'V44392', 'part_of_speech': 'V', 'ruthes_name': 'ПОДДАТЬСЯ ДЕЙСТВИЮ', 'definition': '', 'sense_list': ['108222', '108224', '108225', '108226', '108227', '108223'], 'hypernym_for': ['V48954'], 'hyponym_for': [], 'domain_for': [], 'antonym': [], 'pos_synonymy': []}\n",
      "{'id': 'V44597', 'part_of_speech': 'V', 'ruthes_name': 'СОН, СОСТОЯНИЕ СНА', 'definition': 'физиологический процесс у животных и человека, периодически наступающее состояние покоя, отключения контроля над сознанием и снижения основных реакций организма', 'sense_list': ['5440', '5442', '5443', '5444', '5445', '5446', '5447', '5448', '5450'], 'hypernym_for': ['V42321', 'V44445'], 'hyponym_for': [], 'domain_for': [], 'antonym': [], 'pos_synonymy': []}\n",
      "{'id': 'V44625', 'part_of_speech': 'V', 'ruthes_name': 'БЕЗВЫХОДНОЕ ПОЛОЖЕНИЕ', 'definition': '', 'sense_list': ['6870', '6871', '6872', '6873', '6874', '6875'], 'hypernym_for': ['V42818'], 'hyponym_for': [], 'domain_for': [], 'antonym': [], 'pos_synonymy': []}\n",
      "{'id': 'V44677', 'part_of_speech': 'V', 'ruthes_name': 'ДЫХАНИЕ, ДЫХАТЕЛЬНЫЙ ПРОЦЕСС', 'definition': 'процесс поглощения кислорода и выделения углекислого газа живыми организмами', 'sense_list': ['46060', '46065', '46063', '46064', '46062'], 'hypernym_for': ['V43067', 'V49066'], 'hyponym_for': [], 'domain_for': [], 'antonym': [], 'pos_synonymy': []}\n",
      "{'id': 'V44704', 'part_of_speech': 'V', 'ruthes_name': 'МЫСЛИТЕЛЬНЫЙ ПРОЦЕСС', 'definition': 'процесс обработки информации мозгом человека, уточнение модели действительности в сознании', 'sense_list': ['27414', '27416', '27417', '27420', '27422', '27423', '27424', '27425', '27426', '27427', '27428', '27429', '27434'], 'hypernym_for': ['V45438', 'V45989', 'V46793', 'V46796', 'V47011', 'V48709'], 'hyponym_for': [], 'domain_for': [], 'antonym': [], 'pos_synonymy': []}\n",
      "{'id': 'V45297', 'part_of_speech': 'V', 'ruthes_name': 'ПОЯВИТЬСЯ, ПОКАЗАТЬСЯ', 'definition': 'стать видимым или оказаться вблизи', 'sense_list': ['81224', '81234', '81231', '81236', '81230', '81235', '81227', '81222', '81232', '81226', '81228', '81225', '81233'], 'hypernym_for': ['V42325', 'V42350', 'V42429', 'V42522', 'V42694', 'V42990', 'V43881', 'V44030', 'V44342', 'V44641', 'V44771', 'V44928', 'V45234', 'V45243', 'V45395', 'V45719', 'V45781', 'V46272', 'V46396', 'V46485', 'V47182', 'V47464', 'V47601', 'V47813', 'V48879', 'V48950', 'V49178', 'V49377'], 'hyponym_for': [], 'domain_for': [], 'antonym': [], 'pos_synonymy': []}\n",
      "{'id': 'V45464', 'part_of_speech': 'V', 'ruthes_name': 'ХИРУРГИЧЕСКАЯ ОПЕРАЦИЯ', 'definition': '', 'sense_list': ['16559', '16561', '16560', '16563', '16564', '16566', '16568', '16569', '16573', '16581'], 'hypernym_for': ['V42327', 'V43531', 'V43666', 'V44874', 'V48427', 'V48786', 'V48874', 'V49122'], 'hyponym_for': [], 'domain_for': [], 'antonym': [], 'pos_synonymy': []}\n",
      "{'id': 'V45543', 'part_of_speech': 'V', 'ruthes_name': 'СНЕГОПАД', 'definition': '', 'sense_list': ['16813', '16814'], 'hypernym_for': ['V44171'], 'hyponym_for': [], 'domain_for': [], 'antonym': [], 'pos_synonymy': []}\n",
      "{'id': 'V45603', 'part_of_speech': 'V', 'ruthes_name': 'ОБРАТИТЬСЯ, УСТРЕМИТЬСЯ', 'definition': 'направляться, устремляться на кого-либо или на что-либо, к кому-либо или к чему-либо (о о взоре, взгляде, мыслях, чувствах, действиях)', 'sense_list': ['107257', '107258', '107261', '107259', '107255', '107256'], 'hypernym_for': ['V42192', 'V44687'], 'hyponym_for': [], 'domain_for': [], 'antonym': [], 'pos_synonymy': []}\n",
      "{'id': 'V45643', 'part_of_speech': 'V', 'ruthes_name': 'ЗАНЯТИЕ, ДЕЯТЕЛЬНОСТЬ', 'definition': 'то, что люди делают, чем заполняют своё время', 'sense_list': ['9260'], 'hypernym_for': ['V41984', 'V42005', 'V42016', 'V42018', 'V42198', 'V42263', 'V42293', 'V42314', 'V42319', 'V42339', 'V42354', 'V42486', 'V42526', 'V42527', 'V42549', 'V42649', 'V42653', 'V42661', 'V42682', 'V42687', 'V42803', 'V42899', 'V42940', 'V42959', 'V42995', 'V43009', 'V43016', 'V43033', 'V43041', 'V43048', 'V43054', 'V43072', 'V43130', 'V43140', 'V43194', 'V43219', 'V43270', 'V43297', 'V43337', 'V43397', 'V43448', 'V43473', 'V43522', 'V43618', 'V43672', 'V43681', 'V43710', 'V43786', 'V43896', 'V43919', 'V44003', 'V44124', 'V44127', 'V44129', 'V44207', 'V44266', 'V44277', 'V44355', 'V44398', 'V44399', 'V44424', 'V44427', 'V44436', 'V44542', 'V44547', 'V44701', 'V44702', 'V44720', 'V44726', 'V44772', 'V44818', 'V44822', 'V44853', 'V44854', 'V44855', 'V44856', 'V44867', 'V44886', 'V44888', 'V44906', 'V44916', 'V44925', 'V45016', 'V45034', 'V45049', 'V45093', 'V45097', 'V45102', 'V45125', 'V45154', 'V45196', 'V45296', 'V45305', 'V45308', 'V45364', 'V45378', 'V45444', 'V45451', 'V45506', 'V45508', 'V45537', 'V45613', 'V45638', 'V45672', 'V45699', 'V45715', 'V45750', 'V45770', 'V45786', 'V45795', 'V45826', 'V45896', 'V45898', 'V45900', 'V45930', 'V45949', 'V45979', 'V46038', 'V46059', 'V46068', 'V46122', 'V46154', 'V46169', 'V46187', 'V46199', 'V46223', 'V46224', 'V46268', 'V46289', 'V46303', 'V46312', 'V46341', 'V46463', 'V46517', 'V46544', 'V46611', 'V46622', 'V46723', 'V46756', 'V46814', 'V46816', 'V46821', 'V46930', 'V46959', 'V46963', 'V46965', 'V46976', 'V47021', 'V47027', 'V47034', 'V47079', 'V47148', 'V47244', 'V47261', 'V47275', 'V47380', 'V47384', 'V47435', 'V47461', 'V47474', 'V47523', 'V47525', 'V47691', 'V47824', 'V47854', 'V47895', 'V47950', 'V47957', 'V47998', 'V48006', 'V48007', 'V48042', 'V48068', 'V48080', 'V48103', 'V48181', 'V48229', 'V48244', 'V48265', 'V48275', 'V48304', 'V48306', 'V48324', 'V48328', 'V48341', 'V48344', 'V48379', 'V48388', 'V48413', 'V48489', 'V48514', 'V48516', 'V48521', 'V48604', 'V48749', 'V48759', 'V48858', 'V48923', 'V48974', 'V49055', 'V49067', 'V49096', 'V49113', 'V49118', 'V49130', 'V49152', 'V49154', 'V49192', 'V49193', 'V49198', 'V49264', 'V49279', 'V49280', 'V49289', 'V49331', 'V49372', 'V49439'], 'hyponym_for': [], 'domain_for': [], 'antonym': [], 'pos_synonymy': []}\n",
      "{'id': 'V45944', 'part_of_speech': 'V', 'ruthes_name': 'НЕДОСТАТОК, НЕДОСТАТОЧНОЕ КОЛИЧЕСТВО', 'definition': 'нехватка, отсутствие или слишком малое количество чего-либо', 'sense_list': ['2654', '2655', '2660'], 'hypernym_for': ['V44567'], 'hyponym_for': [], 'domain_for': [], 'antonym': [], 'pos_synonymy': []}\n",
      "{'id': 'V45951', 'part_of_speech': 'V', 'ruthes_name': 'БРОЖЕНИЕ (БИОЛОГИЧЕСКИЙ ПРОЦЕСС)', 'definition': 'прото действие состояние1 бродить', 'sense_list': ['67484', '67487'], 'hypernym_for': ['V45057'], 'hyponym_for': [], 'domain_for': [], 'antonym': [], 'pos_synonymy': []}\n",
      "{'id': 'V46161', 'part_of_speech': 'V', 'ruthes_name': 'НЕПРИЯТНОЕ СОБЫТИЕ', 'definition': 'затруднительное положение, неприятное или хлопотливое происшествие', 'sense_list': ['75862'], 'hypernym_for': ['V42977', 'V45095'], 'hyponym_for': [], 'domain_for': [], 'antonym': [], 'pos_synonymy': []}\n",
      "{'id': 'V46162', 'part_of_speech': 'V', 'ruthes_name': 'ЗАДЕРЖАТЬ, ДЕЛАТЬ НЕ ВОВРЕМЯ', 'definition': '', 'sense_list': ['2529', '2528', '2530', '2531', '2534', '2535', '2536'], 'hypernym_for': ['V42233', 'V45158', 'V48047'], 'hyponym_for': [], 'domain_for': [], 'antonym': [], 'pos_synonymy': []}\n",
      "{'id': 'V46314', 'part_of_speech': 'V', 'ruthes_name': 'ДЕЙСТВИЕ, ЦЕЛЕНАПРАВЛЕННОЕ ДЕЙСТВИЕ', 'definition': 'некое единичное действие, деяние, а также поступок, проявление действий', 'sense_list': ['3484', '3485', '3487', '3489', '3488', '3491'], 'hypernym_for': ['V42056', 'V42159', 'V42190', 'V42442', 'V42533', 'V42548', 'V42549', 'V42645', 'V42682', 'V43048', 'V43124', 'V43161', 'V43169', 'V43297', 'V43318', 'V43323', 'V43346', 'V43409', 'V43481', 'V43594', 'V43654', 'V43716', 'V43804', 'V43902', 'V43927', 'V43974', 'V44024', 'V44052', 'V44542', 'V44612', 'V44634', 'V44674', 'V44739', 'V44780', 'V44789', 'V44862', 'V44949', 'V44956', 'V44989', 'V45114', 'V45150', 'V45285', 'V45299', 'V45302', 'V45451', 'V45518', 'V45612', 'V45648', 'V45906', 'V46010', 'V46032', 'V46199', 'V46356', 'V46427', 'V46456', 'V46634', 'V46647', 'V46912', 'V47042', 'V47218', 'V47314', 'V47407', 'V47513', 'V47566', 'V47603', 'V47649', 'V47661', 'V47669', 'V47722', 'V47949', 'V48039', 'V48191', 'V48233', 'V48413', 'V48559', 'V48674', 'V48822', 'V48923', 'V48943', 'V48963', 'V49037', 'V49077', 'V49209', 'V49258', 'V49282', 'V49362', 'V49382'], 'hyponym_for': [], 'domain_for': [], 'antonym': [], 'pos_synonymy': []}\n",
      "{'id': 'V46398', 'part_of_speech': 'V', 'ruthes_name': 'БРАТЬ ВО ВНИМАНИЕ', 'definition': '', 'sense_list': ['14321', '14322', '14323', '14324', '14325', '14326', '14327', '14328', '14329', '14330', '14331', '14332', '14333', '14334', '14335', '14336'], 'hypernym_for': ['V46438'], 'hyponym_for': [], 'domain_for': [], 'antonym': [], 'pos_synonymy': []}\n",
      "{'id': 'V46430', 'part_of_speech': 'V', 'ruthes_name': 'ПОДВЕДЕНИЕ ИТОГОВ', 'definition': '', 'sense_list': ['71212', '71202', '71205', '71206', '71204', '71209', '71208', '71203', '71207'], 'hypernym_for': ['V47475', 'V48118'], 'hyponym_for': [], 'domain_for': [], 'antonym': [], 'pos_synonymy': []}\n",
      "{'id': 'V46666', 'part_of_speech': 'V', 'ruthes_name': 'РАЗЪЕДИНИТЬСЯ', 'definition': '', 'sense_list': ['126215', '126214'], 'hypernym_for': ['V42035', 'V42143', 'V42157', 'V44524', 'V45138', 'V46232', 'V46990', 'V47196', 'V47506', 'V48817'], 'hyponym_for': [], 'domain_for': [], 'antonym': [], 'pos_synonymy': []}\n",
      "{'id': 'V46753', 'part_of_speech': 'V', 'ruthes_name': 'ОПЬЯНЕНИЕ', 'definition': '', 'sense_list': ['76837', '76838', '76839'], 'hypernym_for': ['V44218', 'V45792'], 'hyponym_for': [], 'domain_for': [], 'antonym': [], 'pos_synonymy': []}\n",
      "{'id': 'V46763', 'part_of_speech': 'V', 'ruthes_name': 'СТРЕМЛЕНИЕ, ЖЕЛАНИЕ', 'definition': 'внутреннее влечение, стремление к осуществлению чего-либо или к обладанию чем-либо; желание', 'sense_list': ['6391', '6394'], 'hypernym_for': ['V42247', 'V42824', 'V43331', 'V43571', 'V43727', 'V44318', 'V45903', 'V46981', 'V47811', 'V47983', 'V49460'], 'hyponym_for': [], 'domain_for': [], 'antonym': [], 'pos_synonymy': []}\n",
      "{'id': 'V46868', 'part_of_speech': 'V', 'ruthes_name': 'ТОСКА (ГРУСТЬ, УНЫНИЕ)', 'definition': '', 'sense_list': ['32886'], 'hypernym_for': ['V43776', 'V47443'], 'hyponym_for': [], 'domain_for': [], 'antonym': [], 'pos_synonymy': []}\n",
      "{'id': 'V46898', 'part_of_speech': 'V', 'ruthes_name': 'ЧУВСТВО РАДОСТИ', 'definition': 'чувство удовольствия, внутреннего удовлетворения, весёлое настроение; внешнее проявление этого чувства', 'sense_list': ['19068', '19070'], 'hypernym_for': ['V42789'], 'hyponym_for': [], 'domain_for': [], 'antonym': [], 'pos_synonymy': []}\n",
      "{'id': 'V46911', 'part_of_speech': 'V', 'ruthes_name': 'СОХРАНИТЬСЯ (НЕ ИСЧЕЗНУТЬ)', 'definition': 'сохраняться, продолжать существование, пребывание в каком-либо месте или статусе, состоянии', 'sense_list': ['80205', '80208', '80203', '80207', '80202', '80204'], 'hypernym_for': ['V42840', 'V45323', 'V46076', 'V46563', 'V48545'], 'hyponym_for': [], 'domain_for': [], 'antonym': [], 'pos_synonymy': []}\n",
      "{'id': 'V47075', 'part_of_speech': 'V', 'ruthes_name': 'САМОЧУВСТВИЕ', 'definition': 'целостное выражение единства состояния телесных и душевных процессов', 'sense_list': ['110350', '110348'], 'hypernym_for': ['V42241', 'V42297', 'V42500', 'V42629', 'V43402', 'V43404', 'V43699', 'V44103', 'V44345', 'V44426', 'V44434', 'V44478', 'V44817', 'V44899', 'V44910', 'V45085', 'V45311', 'V45526', 'V45577', 'V45614', 'V45747', 'V45902', 'V46131', 'V46768', 'V46996', 'V47581', 'V47650', 'V48038', 'V48116'], 'hyponym_for': [], 'domain_for': [], 'antonym': [], 'pos_synonymy': []}\n",
      "{'id': 'V47290', 'part_of_speech': 'V', 'ruthes_name': 'НАПРАВИТЬ, УСТРЕМИТЬ', 'definition': 'направить, обратить на кого-либо, что-либо, сосредоточить на ком-либо, чем-либо', 'sense_list': ['93872', '93876', '93877', '93875', '93874', '93873'], 'hypernym_for': ['V42013', 'V43555', 'V44033', 'V44193', 'V44687', 'V48312'], 'hyponym_for': [], 'domain_for': [], 'antonym': [], 'pos_synonymy': []}\n",
      "{'id': 'V47296', 'part_of_speech': 'V', 'ruthes_name': 'ДВИЖЕНИЕ, ПЕРЕМЕЩЕНИЕ', 'definition': 'изменение положения чего-либо в пространстве', 'sense_list': ['5824', '5829', '5830', '5831', '5832'], 'hypernym_for': ['V42182', 'V42363', 'V42502', 'V42579', 'V42619', 'V42630', 'V42665', 'V42747', 'V43188', 'V43208', 'V43251', 'V43365', 'V43425', 'V43838', 'V43878', 'V43913', 'V43948', 'V43992', 'V44022', 'V44115', 'V44438', 'V44471', 'V44743', 'V44901', 'V44971', 'V45061', 'V45080', 'V45103', 'V45671', 'V46063', 'V46069', 'V46097', 'V46143', 'V46193', 'V46195', 'V46210', 'V46292', 'V46432', 'V46467', 'V46574', 'V46604', 'V46771', 'V46777', 'V46979', 'V47044', 'V47045', 'V47053', 'V47112', 'V47207', 'V47427', 'V47586', 'V47671', 'V47684', 'V47737', 'V48102', 'V48136', 'V48159', 'V48331', 'V48399', 'V48406', 'V48523', 'V48552', 'V48553', 'V48873', 'V48960', 'V49075', 'V49231', 'V49288', 'V49411'], 'hyponym_for': [], 'domain_for': [], 'antonym': [], 'pos_synonymy': []}\n",
      "{'id': 'V47405', 'part_of_speech': 'V', 'ruthes_name': 'КОЛДОВСТВО, КОЛДОВСКИЕ ЧАРЫ', 'definition': 'Искусство чародея; волшебство, колдовство.', 'sense_list': ['14718', '14727'], 'hypernym_for': ['V46419', 'V48525'], 'hyponym_for': [], 'domain_for': [], 'antonym': [], 'pos_synonymy': []}\n",
      "{'id': 'V47479', 'part_of_speech': 'V', 'ruthes_name': 'ОТПУСК', 'definition': 'освобождение от работы, от службы на определённый срок для отдыха, лечения и\\xa0т.\\xa0п.', 'sense_list': ['15525', '15529', '15532'], 'hypernym_for': ['V45203'], 'hyponym_for': [], 'domain_for': [], 'antonym': [], 'pos_synonymy': []}\n",
      "{'id': 'V47662', 'part_of_speech': 'V', 'ruthes_name': 'МУКА, СТРАДАНИЕ, МУЧЕНИЕ', 'definition': 'физиологическое неприятное ощущение, возникающее в живом организме и сигнализирующее о нарушении, сильном дискомфорте, травме и\\xa0т.\\xa0п', 'sense_list': ['8337'], 'hypernym_for': ['V44103', 'V48830'], 'hyponym_for': [], 'domain_for': [], 'antonym': [], 'pos_synonymy': []}\n",
      "{'id': 'V47676', 'part_of_speech': 'V', 'ruthes_name': 'КРУШЕНИЕ (АВАРИЯ)', 'definition': '', 'sense_list': ['92370'], 'hypernym_for': ['V43427', 'V45978', 'V46421'], 'hyponym_for': [], 'domain_for': [], 'antonym': [], 'pos_synonymy': []}\n",
      "{'id': 'V47877', 'part_of_speech': 'V', 'ruthes_name': 'ТРУДНЫЙ ДЛЯ ВЫПОЛНЕНИЯ', 'definition': 'превышающий силы, слишком трудный', 'sense_list': ['56509', '56510'], 'hypernym_for': ['V48089'], 'hyponym_for': [], 'domain_for': [], 'antonym': [], 'pos_synonymy': []}\n",
      "{'id': 'V47894', 'part_of_speech': 'V', 'ruthes_name': 'СЧИТЫВАНИЕ ИНФОРМАЦИИ', 'definition': '', 'sense_list': ['86565', '86566', '86564'], 'hypernym_for': ['V43337'], 'hyponym_for': [], 'domain_for': [], 'antonym': [], 'pos_synonymy': []}\n",
      "{'id': 'V48092', 'part_of_speech': 'V', 'ruthes_name': 'БЕЗДЕЙСТВОВАТЬ', 'definition': '', 'sense_list': ['3174', '3175', '3173', '3177', '3179', '3176'], 'hypernym_for': ['V47882'], 'hyponym_for': [], 'domain_for': [], 'antonym': [], 'pos_synonymy': []}\n",
      "{'id': 'V48231', 'part_of_speech': 'V', 'ruthes_name': 'ОБРАЩЕНИЕ В СУД', 'definition': '', 'sense_list': ['111530', '111529'], 'hypernym_for': ['V42433'], 'hyponym_for': [], 'domain_for': [], 'antonym': [], 'pos_synonymy': []}\n",
      "{'id': 'V48271', 'part_of_speech': 'V', 'ruthes_name': 'ГОРЕТЬ, СГОРАТЬ', 'definition': '', 'sense_list': ['40050', '40051', '40052', '40054', '40055', '40057', '40059', '40061', '40062'], 'hypernym_for': ['V42002', 'V42928', 'V45997', 'V47978', 'V48201', 'V48698', 'V48988', 'V49007', 'V49012'], 'hyponym_for': [], 'domain_for': [], 'antonym': [], 'pos_synonymy': []}\n",
      "{'id': 'V48378', 'part_of_speech': 'V', 'ruthes_name': 'БОЛЕТЬ, БЫТЬ БОЛЬНЫМ', 'definition': 'страдать болезнью, хворать, быть больным', 'sense_list': ['18502', '18503', '18499', '18489', '18490', '18491', '18492', '18493', '18494', '18495', '18500', '18486', '18488', '18497', '18505', '18501', '18487', '18485', '18498', '18506'], 'hypernym_for': ['V42672', 'V44871', 'V48934'], 'hyponym_for': [], 'domain_for': [], 'antonym': [], 'pos_synonymy': []}\n",
      "{'id': 'V48382', 'part_of_speech': 'V', 'ruthes_name': 'УДИВЛЕНИЕ', 'definition': 'впечатление от чего-либо неожиданного, необычного', 'sense_list': ['6232', '6233', '6234', '6235', '6236', '6238', '6240', '6241', '6242', '6243', '6244'], 'hypernym_for': ['V44261', 'V48282'], 'hyponym_for': [], 'domain_for': [], 'antonym': [], 'pos_synonymy': []}\n",
      "{'id': 'V48625', 'part_of_speech': 'V', 'ruthes_name': 'ПОКАЗАНИЯ ПРИБОРА', 'definition': 'значение, величина, показываемая измерительным прибором', 'sense_list': ['95531', '95532', '95534', '95533', '95525'], 'hypernym_for': ['V42758'], 'hyponym_for': [], 'domain_for': [], 'antonym': [], 'pos_synonymy': []}\n",
      "{'id': 'V48677', 'part_of_speech': 'V', 'ruthes_name': 'МЕТЕЛЬ', 'definition': 'сильный ветер переменного направления со снегом; вьюга', 'sense_list': ['27100', '27101'], 'hypernym_for': ['V44171'], 'hyponym_for': [], 'domain_for': [], 'antonym': [], 'pos_synonymy': []}\n",
      "{'id': 'V48754', 'part_of_speech': 'V', 'ruthes_name': 'РАЗМЕСТИТЬСЯ', 'definition': 'расположиться, занять место где-либо', 'sense_list': ['117472', '117469', '117468', '117467', '117471', '117470'], 'hypernym_for': ['V42059', 'V42405', 'V42465', 'V42685', 'V42743', 'V42796', 'V42843', 'V44045', 'V44386', 'V44449', 'V44464', 'V44636', 'V45545', 'V45637', 'V45798', 'V46483', 'V47070', 'V47826', 'V48033', 'V48063', 'V48166', 'V48547', 'V48704', 'V48810', 'V49269', 'V49458'], 'hyponym_for': [], 'domain_for': [], 'antonym': [], 'pos_synonymy': []}\n",
      "{'id': 'V48878', 'part_of_speech': 'V', 'ruthes_name': 'ВООБРАЗИТЬ, ПРЕДСТАВИТЬ В МЫСЛЯХ', 'definition': 'мысленно представить, воспроизвести в зримых образах', 'sense_list': ['20170', '20171', '20172', '20173', '20174', '20175', '20176', '20177', '20178', '20179', '20180', '20181', '20182', '20183', '20184', '20185', '20186', '20187', '20188', '20189', '20190', '20191', '20192', '20193'], 'hypernym_for': ['V45354', 'V45989', 'V46984'], 'hyponym_for': [], 'domain_for': [], 'antonym': [], 'pos_synonymy': []}\n",
      "{'id': 'V49029', 'part_of_speech': 'V', 'ruthes_name': 'СУЩЕСТВОВАТЬ, БЫТЬ, ИМЕТЬСЯ', 'definition': '', 'sense_list': ['8526', '8527', '8528', '8529', '8531'], 'hypernym_for': ['V42659', 'V44670', 'V45765', 'V46155', 'V46340', 'V46351', 'V46817', 'V46873'], 'hyponym_for': [], 'domain_for': [], 'antonym': [], 'pos_synonymy': []}\n",
      "{'id': 'V49315', 'part_of_speech': 'V', 'ruthes_name': 'МОРОЗНАЯ ПОГОДА', 'definition': '', 'sense_list': ['27303'], 'hypernym_for': ['V42196'], 'hyponym_for': [], 'domain_for': [], 'antonym': [], 'pos_synonymy': []}\n",
      "{'id': 'A20', 'part_of_speech': 'Adj', 'ruthes_name': 'НАСТИЛ (ПОКРЫТИЕ)', 'definition': '', 'sense_list': ['50333'], 'hypernym_for': ['A970', 'A5658', 'A8103', 'A8800'], 'hyponym_for': [], 'domain_for': [], 'antonym': [], 'pos_synonymy': []}\n",
      "{'id': 'A35', 'part_of_speech': 'Adj', 'ruthes_name': 'ПРОЕКЦИЯ НА ПЛОСКОСТЬ', 'definition': 'изображение пространственных фигур на плоскости', 'sense_list': ['96105'], 'hypernym_for': ['A9124'], 'hyponym_for': [], 'domain_for': [], 'antonym': [], 'pos_synonymy': []}\n",
      "{'id': 'A42', 'part_of_speech': 'Adj', 'ruthes_name': 'НУЖНЫЙ (ТРЕБУЮЩИЙСЯ)', 'definition': '', 'sense_list': ['50545', '50546', '50548'], 'hypernym_for': ['A8', 'A1520', 'A4640', 'A6801', 'A10568'], 'hyponym_for': [], 'domain_for': [], 'antonym': [], 'pos_synonymy': []}\n",
      "{'id': 'A108', 'part_of_speech': 'Adj', 'ruthes_name': 'КОНЦЕПЦИЯ, ДОКТРИНА', 'definition': '', 'sense_list': ['90474', '90475'], 'hypernym_for': ['A857'], 'hyponym_for': [], 'domain_for': [], 'antonym': [], 'pos_synonymy': []}\n",
      "{'id': 'A164', 'part_of_speech': 'Adj', 'ruthes_name': 'ОБРАЗ (ПРЕДСТАВЛЕНИЕ)', 'definition': 'воспроизведенное памятью и вызванное в сознании ощущение', 'sense_list': ['28240', '28241'], 'hypernym_for': ['A5676', 'A7003', 'A8463'], 'hyponym_for': [], 'domain_for': [], 'antonym': [], 'pos_synonymy': []}\n",
      "{'id': 'A221', 'part_of_speech': 'Adj', 'ruthes_name': 'ПАРК ТЕХНИЧЕСКИХ СРЕДСТВ', 'definition': '', 'sense_list': ['11761'], 'hypernym_for': ['A11329'], 'hyponym_for': [], 'domain_for': [], 'antonym': [], 'pos_synonymy': []}\n",
      "{'id': 'A222', 'part_of_speech': 'Adj', 'ruthes_name': 'ВВЕСТИ ВНУТРЬ', 'definition': '', 'sense_list': ['8597'], 'hypernym_for': ['A1813', 'A6056', 'A7588', 'A8860'], 'hyponym_for': [], 'domain_for': [], 'antonym': [], 'pos_synonymy': []}\n",
      "{'id': 'A247', 'part_of_speech': 'Adj', 'ruthes_name': 'ПОСРЕДНИК', 'definition': 'лицо, действующее при заключении сделки от имени одного из её участников', 'sense_list': ['108601'], 'hypernym_for': ['A248', 'A3873', 'A4344', 'A4521', 'A10367', 'A12094', 'A12297', 'A12588'], 'hyponym_for': [], 'domain_for': [], 'antonym': [], 'pos_synonymy': []}\n",
      "{'id': 'A268', 'part_of_speech': 'Adj', 'ruthes_name': 'СООРУЖЕНИЕ, ПОСТРОЙКА', 'definition': 'искусственная надземная неподвижная структура, имеющая внутренний объём', 'sense_list': ['97815'], 'hypernym_for': ['A240', 'A278', 'A343', 'A433', 'A525', 'A534', 'A631', 'A755', 'A776', 'A1118', 'A1130', 'A1131', 'A1170', 'A1185', 'A1371', 'A1565', 'A1687', 'A1738', 'A1853', 'A2082', 'A2344', 'A2360', 'A2363', 'A2589', 'A2614', 'A2627', 'A2801', 'A2947', 'A2990', 'A3284', 'A3385', 'A3579', 'A3728', 'A3863', 'A4010', 'A4040', 'A4098', 'A4116', 'A4167', 'A4235', 'A4462', 'A4501', 'A4728', 'A4798', 'A4994', 'A5078', 'A5155', 'A5167', 'A5239', 'A5272', 'A5276', 'A5352', 'A5381', 'A5545', 'A5574', 'A5579', 'A5628', 'A5644', 'A5655', 'A5695', 'A5725', 'A5833', 'A6099', 'A6128', 'A6173', 'A6411', 'A6455', 'A6609', 'A6718', 'A6947', 'A7068', 'A7085', 'A7098', 'A7175', 'A7319', 'A7428', 'A7544', 'A7558', 'A7797', 'A7858', 'A7894', 'A7999', 'A8182', 'A8232', 'A8350', 'A8351', 'A8355', 'A8362', 'A8409', 'A8453', 'A8523', 'A8527', 'A8556', 'A8583', 'A8586', 'A8749', 'A8784', 'A8871', 'A8882', 'A8961', 'A9040', 'A9051', 'A9106', 'A9234', 'A9266', 'A9571', 'A9626', 'A9645', 'A9667', 'A9991', 'A10002', 'A10053', 'A10146', 'A10365', 'A10435', 'A10466', 'A10581', 'A10633', 'A10820', 'A10872', 'A10933', 'A10993', 'A11006', 'A11007', 'A11065', 'A11116', 'A11130', 'A11151', 'A11200', 'A11313', 'A11337', 'A11394', 'A11481', 'A11533', 'A11560', 'A11597', 'A11651', 'A11813', 'A11893', 'A11954', 'A12034', 'A12046', 'A12061', 'A12112', 'A12139', 'A12276', 'A12333', 'A12351', 'A12555'], 'hyponym_for': [], 'domain_for': [], 'antonym': [], 'pos_synonymy': []}\n",
      "{'id': 'A274', 'part_of_speech': 'Adj', 'ruthes_name': 'КРОВООСТАНАВЛИВАЮЩЕЕ СРЕДСТВО', 'definition': '', 'sense_list': ['130395', '130396'], 'hypernym_for': ['A3809'], 'hyponym_for': [], 'domain_for': [], 'antonym': [], 'pos_synonymy': []}\n",
      "{'id': 'A280', 'part_of_speech': 'Adj', 'ruthes_name': 'ЛЕСОПРОДУКЦИЯ', 'definition': '', 'sense_list': ['64645'], 'hypernym_for': ['A1787'], 'hyponym_for': [], 'domain_for': [], 'antonym': [], 'pos_synonymy': []}\n",
      "{'id': 'A281', 'part_of_speech': 'Adj', 'ruthes_name': 'ПРЕСТУПЛЕНИЕ', 'definition': 'нарушение, обход каких-то правил, норм или законов', 'sense_list': ['38870', '38873', '38877', '38889', '38898', '38899', '38903'], 'hypernym_for': ['A152', 'A203', 'A207', 'A1041', 'A1265', 'A1734', 'A3057', 'A3231', 'A3993', 'A4078', 'A4169', 'A4217', 'A5476', 'A5911', 'A6524', 'A6556', 'A6638', 'A7072', 'A7114', 'A8307', 'A8809', 'A8840', 'A8908', 'A9045', 'A10028', 'A10846', 'A11126', 'A11378', 'A11551', 'A11592', 'A12290'], 'hyponym_for': [], 'domain_for': [], 'antonym': [], 'pos_synonymy': []}\n",
      "{'id': 'A283', 'part_of_speech': 'Adj', 'ruthes_name': 'ФИЛЬМ', 'definition': '', 'sense_list': ['10232'], 'hypernym_for': ['A1321', 'A4229', 'A5770', 'A6983', 'A7549', 'A8291', 'A8945', 'A11949', 'A12449'], 'hyponym_for': [], 'domain_for': [], 'antonym': [], 'pos_synonymy': []}\n",
      "{'id': 'A287', 'part_of_speech': 'Adj', 'ruthes_name': 'ОПЫТ (СОВОКУПНОСТЬ ЗНАНИЙ И УМЕНИЙ)', 'definition': '', 'sense_list': ['11689'], 'hypernym_for': ['A7123'], 'hyponym_for': [], 'domain_for': [], 'antonym': [], 'pos_synonymy': []}\n",
      "{'id': 'A357', 'part_of_speech': 'Adj', 'ruthes_name': 'ЕДА, ПИЩА', 'definition': 'процесс принятия пищи', 'sense_list': ['4150', '4149'], 'hypernym_for': ['A463', 'A938', 'A1644', 'A1856', 'A1997', 'A2390', 'A2404', 'A2433', 'A2679', 'A3169', 'A3421', 'A3712', 'A3789', 'A4426', 'A4738', 'A5548', 'A5600', 'A5755', 'A6244', 'A6541', 'A7517', 'A8090', 'A8662', 'A9150', 'A9451', 'A9457', 'A9562', 'A9628', 'A9878', 'A10188', 'A10897', 'A11626', 'A11878', 'A12404', 'A12472'], 'hyponym_for': [], 'domain_for': [], 'antonym': [], 'pos_synonymy': []}\n",
      "{'id': 'A360', 'part_of_speech': 'Adj', 'ruthes_name': 'ТАБЛИЦА', 'definition': '', 'sense_list': ['13521'], 'hypernym_for': ['A2024', 'A7095'], 'hyponym_for': [], 'domain_for': [], 'antonym': [], 'pos_synonymy': []}\n",
      "{'id': 'A429', 'part_of_speech': 'Adj', 'ruthes_name': 'СОЗДАТЬ (СДЕЛАТЬ СУЩЕСТВУЮЩИМ)', 'definition': 'сотворение, произведение чего-либо', 'sense_list': ['78468'], 'hypernym_for': ['A395', 'A430', 'A571', 'A1174', 'A1510', 'A2302', 'A2424', 'A2583', 'A2747', 'A2825', 'A2862', 'A4036', 'A4619', 'A4656', 'A4710', 'A4822', 'A5672', 'A5947', 'A6348', 'A6548', 'A6980', 'A7156', 'A7247', 'A7680', 'A8121', 'A8757', 'A9938', 'A10742', 'A10829', 'A10881', 'A12018'], 'hyponym_for': [], 'domain_for': [], 'antonym': [], 'pos_synonymy': []}\n",
      "{'id': 'A447', 'part_of_speech': 'Adj', 'ruthes_name': 'НАЛЕТ НА ПОВЕРХНОСТИ', 'definition': '', 'sense_list': ['18304'], 'hypernym_for': ['A1074', 'A3664', 'A6597', 'A8208'], 'hyponym_for': [], 'domain_for': [], 'antonym': [], 'pos_synonymy': []}\n",
      "{'id': 'A458', 'part_of_speech': 'Adj', 'ruthes_name': 'МИРОВОЗЗРЕНИЕ', 'definition': 'совокупность принципов, взглядов и убеждений, определяющих отношение к действительности, к миру', 'sense_list': ['38372'], 'hypernym_for': ['A253', 'A614', 'A702', 'A1005', 'A1761', 'A1877', 'A2317', 'A3939', 'A4454', 'A6608', 'A7385', 'A7742', 'A7938', 'A8056', 'A8136', 'A8219', 'A8981', 'A9197', 'A9716', 'A10225', 'A10579', 'A10700', 'A10773', 'A12559'], 'hyponym_for': [], 'domain_for': [], 'antonym': [], 'pos_synonymy': []}\n",
      "{'id': 'A474', 'part_of_speech': 'Adj', 'ruthes_name': 'ДУЖКА', 'definition': '', 'sense_list': ['24286'], 'hypernym_for': ['A3812'], 'hyponym_for': [], 'domain_for': [], 'antonym': [], 'pos_synonymy': []}\n",
      "{'id': 'A494', 'part_of_speech': 'Adj', 'ruthes_name': 'МЕНТАЛЬНЫЙ ПРОЦЕСС', 'definition': '', 'sense_list': ['116015'], 'hypernym_for': ['A61', 'A154', 'A1111', 'A1660', 'A2156', 'A2532', 'A2538', 'A2622', 'A3606', 'A3669', 'A3671', 'A3676', 'A4092', 'A4281', 'A4526', 'A4813', 'A6660', 'A6882', 'A8059', 'A9122', 'A9195', 'A10574', 'A10698', 'A11000', 'A11500', 'A12151', 'A12165'], 'hyponym_for': [], 'domain_for': [], 'antonym': [], 'pos_synonymy': []}\n",
      "{'id': 'A495', 'part_of_speech': 'Adj', 'ruthes_name': 'РЕЛИГИОЗНАЯ КОНФЕССИЯ', 'definition': 'религиозное ответвление, объединение, исповедующее общую религию, но имеющее своё направление, своё вероучение, свою обрядность', 'sense_list': ['106233', '106231'], 'hypernym_for': ['A1319', 'A8179', 'A10312', 'A11530'], 'hyponym_for': [], 'domain_for': [], 'antonym': [], 'pos_synonymy': []}\n",
      "{'id': 'A504', 'part_of_speech': 'Adj', 'ruthes_name': 'КЕРАМИЧЕСКИЕ МАТЕРИАЛЫ', 'definition': '', 'sense_list': ['91952'], 'hypernym_for': ['A2122', 'A2860', 'A5088', 'A7196'], 'hyponym_for': [], 'domain_for': [], 'antonym': [], 'pos_synonymy': []}\n",
      "{'id': 'A559', 'part_of_speech': 'Adj', 'ruthes_name': 'ПОРОШОК', 'definition': 'масса измельчённых твёрдых веществ, обладающая свойством сыпучести', 'sense_list': ['76032', '76034', '76035'], 'hypernym_for': ['A1733', 'A5466', 'A6105', 'A6622', 'A7244', 'A8269'], 'hyponym_for': [], 'domain_for': [], 'antonym': [], 'pos_synonymy': []}\n",
      "{'id': 'A563', 'part_of_speech': 'Adj', 'ruthes_name': 'ЛОКАЦИЯ', 'definition': 'определение местонахождения какого-либо объекта посредством анализа сигналов, отражённых от него или испущенных им', 'sense_list': ['72612'], 'hypernym_for': ['A2389', 'A9815'], 'hyponym_for': [], 'domain_for': [], 'antonym': [], 'pos_synonymy': []}\n",
      "{'id': 'A588', 'part_of_speech': 'Adj', 'ruthes_name': 'СЧИТАТЬ, ОПРЕДЕЛЯТЬ КОЛИЧЕСТВО', 'definition': 'сосчитать; определить количество, сумму чего-либо', 'sense_list': ['13448'], 'hypernym_for': ['A7449', 'A7452', 'A9736'], 'hyponym_for': [], 'domain_for': [], 'antonym': [], 'pos_synonymy': []}\n",
      "{'id': 'A592', 'part_of_speech': 'Adj', 'ruthes_name': 'ПЕЧАТНАЯ ПРОДУКЦИЯ', 'definition': '', 'sense_list': ['51711'], 'hypernym_for': ['A1147', 'A2142', 'A4201', 'A4456', 'A5832', 'A6522', 'A6778', 'A8236', 'A9249', 'A9273', 'A9584', 'A10101', 'A10313'], 'hyponym_for': [], 'domain_for': [], 'antonym': [], 'pos_synonymy': []}\n",
      "{'id': 'A651', 'part_of_speech': 'Adj', 'ruthes_name': 'РАСПАСТЬСЯ НА СОСТАВНЫЕ ЧАСТИ', 'definition': 'разделяться на части, распадаться на составные элементы', 'sense_list': ['53481'], 'hypernym_for': ['A5114', 'A5467'], 'hyponym_for': [], 'domain_for': [], 'antonym': [], 'pos_synonymy': []}\n",
      "{'id': 'A675', 'part_of_speech': 'Adj', 'ruthes_name': 'УПЛОТНИТЬ (УВЕЛИЧИТЬ КОЛИЧЕСТВО В ОБЪЕМЕ)', 'definition': 'увеличение плотности чего-либо', 'sense_list': ['111026'], 'hypernym_for': ['A1222', 'A6990'], 'hyponym_for': [], 'domain_for': [], 'antonym': [], 'pos_synonymy': []}\n",
      "{'id': 'A679', 'part_of_speech': 'Adj', 'ruthes_name': 'ВОДОЕМ', 'definition': '', 'sense_list': ['44138'], 'hypernym_for': ['A1620', 'A4527', 'A6594', 'A11498', 'A11957', 'A12253'], 'hyponym_for': [], 'domain_for': [], 'antonym': [], 'pos_synonymy': []}\n",
      "{'id': 'A739', 'part_of_speech': 'Adj', 'ruthes_name': 'СТОРОНА В ДОГОВОРЕ', 'definition': 'каждая из сторон (лицо или учреждение) в договоре по отношению к другой стороне', 'sense_list': ['81587'], 'hypernym_for': ['A4388', 'A8379'], 'hyponym_for': [], 'domain_for': [], 'antonym': [], 'pos_synonymy': []}\n",
      "{'id': 'A749', 'part_of_speech': 'Adj', 'ruthes_name': 'ПОЗИЦИИ ВОЙСК', 'definition': '', 'sense_list': ['75813'], 'hypernym_for': ['A10066'], 'hyponym_for': [], 'domain_for': [], 'antonym': [], 'pos_synonymy': []}\n",
      "{'id': 'A758', 'part_of_speech': 'Adj', 'ruthes_name': 'ПРЕОБРАЗОВАТЬ, ПЕРЕДЕЛАТЬ', 'definition': 'существенное изменение формы, свойств какого-либо объекта', 'sense_list': ['117119'], 'hypernym_for': ['A323', 'A1728', 'A2952', 'A4088', 'A6681', 'A6775', 'A7411'], 'hyponym_for': [], 'domain_for': [], 'antonym': [], 'pos_synonymy': []}\n",
      "{'id': 'A763', 'part_of_speech': 'Adj', 'ruthes_name': 'МАГМА', 'definition': 'расплавленная огненная масса преимущественно силикатного состава, образующаяся в глубинных зонах Земли', 'sense_list': ['26878', '26879'], 'hypernym_for': ['A4121'], 'hyponym_for': [], 'domain_for': [], 'antonym': [], 'pos_synonymy': []}\n",
      "{'id': 'A792', 'part_of_speech': 'Adj', 'ruthes_name': 'ФОСФАТ', 'definition': '', 'sense_list': ['57065'], 'hypernym_for': ['A2278', 'A6962'], 'hyponym_for': [], 'domain_for': [], 'antonym': [], 'pos_synonymy': []}\n",
      "{'id': 'A827', 'part_of_speech': 'Adj', 'ruthes_name': 'СРАВНИТЬ, СОПОСТАВИТЬ', 'definition': '', 'sense_list': ['81333', '81330', '81332'], 'hypernym_for': ['A4361', 'A4847'], 'hyponym_for': [], 'domain_for': [], 'antonym': [], 'pos_synonymy': []}\n",
      "{'id': 'A847', 'part_of_speech': 'Adj', 'ruthes_name': 'ОКОННЫЙ ПРОЕМ', 'definition': 'проём в стене здания либо стенке транспортного средства для пропускания света и/или воздуха', 'sense_list': ['11633'], 'hypernym_for': ['A9410'], 'hyponym_for': [], 'domain_for': [], 'antonym': [], 'pos_synonymy': []}\n",
      "{'id': 'A880', 'part_of_speech': 'Adj', 'ruthes_name': 'ЗАХВАТИТЬ, ЗАВЛАДЕТЬ', 'definition': 'брать силой; овладевать', 'sense_list': ['37165'], 'hypernym_for': ['A796', 'A1134', 'A1812', 'A3646', 'A5476', 'A6738', 'A9385', 'A9548', 'A11384'], 'hyponym_for': [], 'domain_for': [], 'antonym': [], 'pos_synonymy': []}\n",
      "{'id': 'A927', 'part_of_speech': 'Adj', 'ruthes_name': 'УСИЛИТЬ (УВЕЛИЧИТЬ СИЛУ)', 'definition': '', 'sense_list': ['80125'], 'hypernym_for': ['A9981', 'A12416'], 'hyponym_for': [], 'domain_for': [], 'antonym': [], 'pos_synonymy': []}\n",
      "{'id': 'A942', 'part_of_speech': 'Adj', 'ruthes_name': 'СОЧЕТАНИЕ, КОМБИНАЦИЯ', 'definition': '', 'sense_list': ['110378'], 'hypernym_for': ['A2395', 'A2816', 'A3253', 'A3562', 'A3709', 'A3898', 'A4120', 'A4257', 'A5387', 'A5524', 'A6239', 'A7664', 'A7792', 'A10410', 'A11509'], 'hyponym_for': [], 'domain_for': [], 'antonym': [], 'pos_synonymy': []}\n",
      "{'id': 'A949', 'part_of_speech': 'Adj', 'ruthes_name': 'ТКАНЬ ОРГАНИЗМА', 'definition': 'строительный материал живого организма, анатомическая структура, состоящая из сравнительно однородных клеток', 'sense_list': ['32760'], 'hypernym_for': ['A319', 'A2000', 'A2008', 'A2041', 'A2291', 'A3838', 'A4615', 'A6314', 'A11514', 'A12599'], 'hyponym_for': [], 'domain_for': [], 'antonym': [], 'pos_synonymy': []}\n",
      "{'id': 'A986', 'part_of_speech': 'Adj', 'ruthes_name': 'МУЗЫКАЛЬНЫЙ ИНТЕРВАЛ', 'definition': 'разность между высотами двух звуков', 'sense_list': ['91604'], 'hypernym_for': ['A7026'], 'hyponym_for': [], 'domain_for': [], 'antonym': [], 'pos_synonymy': []}\n",
      "{'id': 'A1001', 'part_of_speech': 'Adj', 'ruthes_name': 'ДЕМОНСТРИРОВАТЬ (ПОКАЗАТЬ НАГЛЯДНО)', 'definition': 'показ, представление чего-либо', 'sense_list': ['29769'], 'hypernym_for': ['A9403'], 'hyponym_for': [], 'domain_for': [], 'antonym': [], 'pos_synonymy': []}\n",
      "{'id': 'A1020', 'part_of_speech': 'Adj', 'ruthes_name': 'ПОТРЕБИТЕЛЬ', 'definition': 'тот, кто покупает или пользуется товаром или услугой', 'sense_list': ['122707'], 'hypernym_for': ['A10682', 'A11362', 'A11844'], 'hyponym_for': [], 'domain_for': [], 'antonym': [], 'pos_synonymy': []}\n",
      "{'id': 'A1032', 'part_of_speech': 'Adj', 'ruthes_name': 'АНГЕЛ (СЛУЖИТЕЛЬ БОГА)', 'definition': 'сверхъестественное бесплотное cущество, дух, Божий посланник, в живописи и архитектуре обычно изображаемый в виде светловолосого крылатого мальчика или юноши', 'sense_list': ['21283'], 'hypernym_for': ['A8229'], 'hyponym_for': [], 'domain_for': [], 'antonym': [], 'pos_synonymy': []}\n",
      "{'id': 'A1087', 'part_of_speech': 'Adj', 'ruthes_name': 'КОМПЛЕКТ (НАБОР)', 'definition': '', 'sense_list': ['92129'], 'hypernym_for': ['A4385', 'A6973'], 'hyponym_for': [], 'domain_for': [], 'antonym': [], 'pos_synonymy': []}\n",
      "{'id': 'A1126', 'part_of_speech': 'Adj', 'ruthes_name': 'СМЕСЬ (ВЕЩЕСТВО)', 'definition': 'смесь, сочетание чего-либо', 'sense_list': ['31643'], 'hypernym_for': ['A1086', 'A1547', 'A1658', 'A5326', 'A10284', 'A12076', 'A12361', 'A12426'], 'hyponym_for': [], 'domain_for': [], 'antonym': [], 'pos_synonymy': []}\n",
      "{'id': 'A1155', 'part_of_speech': 'Adj', 'ruthes_name': 'ВОРС НА ТКАНИ, КОЖЕ', 'definition': 'короткий густой слой волосков или шерстинок, покрывающий лицевую сторону некоторых тканей', 'sense_list': ['8807', '8806', '8808'], 'hypernym_for': ['A4584'], 'hyponym_for': [], 'domain_for': [], 'antonym': [], 'pos_synonymy': []}\n",
      "{'id': 'A1171', 'part_of_speech': 'Adj', 'ruthes_name': 'ЦЕЛЛЮЛОЗНО-БУМАЖНАЯ ПРОДУКЦИЯ', 'definition': '', 'sense_list': ['103433'], 'hypernym_for': ['A1633'], 'hyponym_for': [], 'domain_for': [], 'antonym': [], 'pos_synonymy': []}\n",
      "{'id': 'A1179', 'part_of_speech': 'Adj', 'ruthes_name': 'ОПОРНО-ДВИГАТЕЛЬНЫЙ АППАРАТ', 'definition': '', 'sense_list': ['66370'], 'hypernym_for': ['A3347', 'A11248'], 'hyponym_for': [], 'domain_for': [], 'antonym': [], 'pos_synonymy': []}\n",
      "{'id': 'A1186', 'part_of_speech': 'Adj', 'ruthes_name': 'РАССЛЕДОВАНИЕ ПРЕСТУПЛЕНИЙ', 'definition': 'процесс, направленный на выяснение обстоятельство чего-либо, обычно преступления', 'sense_list': ['19532', '19534'], 'hypernym_for': ['A10300'], 'hyponym_for': [], 'domain_for': [], 'antonym': [], 'pos_synonymy': []}\n",
      "{'id': 'A1193', 'part_of_speech': 'Adj', 'ruthes_name': 'РЕСУРС, ИСТОЧНИК', 'definition': '', 'sense_list': ['54067'], 'hypernym_for': ['A988', 'A1007', 'A4422', 'A6949', 'A7842', 'A9341'], 'hyponym_for': [], 'domain_for': [], 'antonym': [], 'pos_synonymy': []}\n",
      "{'id': 'A1203', 'part_of_speech': 'Adj', 'ruthes_name': 'КЛЕТКА ДЛЯ ЖИВОТНЫХ', 'definition': 'сооружение или помещение, стены (стенки) которого состоят из параллельных друг другу или пересекающихся прутьев, палок и т. п.', 'sense_list': ['47808'], 'hypernym_for': ['A2254'], 'hyponym_for': [], 'domain_for': [], 'antonym': [], 'pos_synonymy': []}\n",
      "{'id': 'A1205', 'part_of_speech': 'Adj', 'ruthes_name': 'СВОД (ПЕРЕКРЫТИЕ)', 'definition': '', 'sense_list': ['12766'], 'hypernym_for': ['A6626'], 'hyponym_for': [], 'domain_for': [], 'antonym': [], 'pos_synonymy': []}\n",
      "{'id': 'A1280', 'part_of_speech': 'Adj', 'ruthes_name': 'РЕКА', 'definition': 'разновидность водотока; водный поток, значительный по объёму и направляющийся по относительно постоянному руслу от истока к устью', 'sense_list': ['12395'], 'hypernym_for': ['A36', 'A254', 'A420', 'A969', 'A1161', 'A1551', 'A1637', 'A1827', 'A1972', 'A2271', 'A3019', 'A3130', 'A3578', 'A3734', 'A4132', 'A4294', 'A4969', 'A5143', 'A5174', 'A5663', 'A5753', 'A5843', 'A6215', 'A6612', 'A6783', 'A6794', 'A6897', 'A6925', 'A7286', 'A7400', 'A7723', 'A8194', 'A8427', 'A8659', 'A8715', 'A9428', 'A10077', 'A11141', 'A11312', 'A11326', 'A11483', 'A11559', 'A12017', 'A12114', 'A12381'], 'hyponym_for': [], 'domain_for': [], 'antonym': [], 'pos_synonymy': []}\n",
      "{'id': 'A1365', 'part_of_speech': 'Adj', 'ruthes_name': 'ОБСТОЯТЕЛЬСТВА, ОБСТАНОВКА, УСЛОВИЯ', 'definition': 'совокупность условий и обстоятельств, создающих те или иные отношения; обстановка, положение', 'sense_list': ['5770', '5777'], 'hypernym_for': ['A10', 'A61', 'A81', 'A174', 'A311', 'A390', 'A493', 'A609', 'A627', 'A657', 'A711', 'A727', 'A751', 'A777', 'A888', 'A913', 'A989', 'A1408', 'A1465', 'A1576', 'A1744', 'A1783', 'A1831', 'A1943', 'A1998', 'A2015', 'A2048', 'A2126', 'A2144', 'A2148', 'A2194', 'A2279', 'A2532', 'A2602', 'A2661', 'A2877', 'A2935', 'A2984', 'A3038', 'A3105', 'A3209', 'A3238', 'A3276', 'A3414', 'A3495', 'A3501', 'A3612', 'A3618', 'A3665', 'A3692', 'A3783', 'A3893', 'A4189', 'A4195', 'A4206', 'A4256', 'A4287', 'A4438', 'A4602', 'A4638', 'A4694', 'A4774', 'A4958', 'A5054', 'A5138', 'A5152', 'A5243', 'A5268', 'A5315', 'A5358', 'A5384', 'A5408', 'A5483', 'A5531', 'A5634', 'A5688', 'A5775', 'A5807', 'A5879', 'A5881', 'A5910', 'A5953', 'A6024', 'A6044', 'A6109', 'A6127', 'A6335', 'A6354', 'A6469', 'A6472', 'A6529', 'A6547', 'A6580', 'A6722', 'A6765', 'A6768', 'A6876', 'A7024', 'A7212', 'A7220', 'A7322', 'A7406', 'A7647', 'A7685', 'A7875', 'A7881', 'A7927', 'A8029', 'A8178', 'A8190', 'A8211', 'A8364', 'A8382', 'A8622', 'A8667', 'A8759', 'A8778', 'A8804', 'A8992', 'A9043', 'A9187', 'A9467', 'A9656', 'A9679', 'A9693', 'A9696', 'A9828', 'A10152', 'A10251', 'A10252', 'A10301', 'A10325', 'A10347', 'A10449', 'A10499', 'A10513', 'A10732', 'A10783', 'A10890', 'A10894', 'A10918', 'A10926', 'A11056', 'A11062', 'A11111', 'A11195', 'A11226', 'A11270', 'A11423', 'A11500', 'A11564', 'A11638', 'A11663', 'A11752', 'A11880', 'A11947', 'A11967', 'A11970', 'A12216', 'A12300', 'A12364', 'A12377', 'A12379', 'A12413', 'A12417', 'A12485', 'A12502', 'A12552', 'A12584'], 'hyponym_for': [], 'domain_for': [], 'antonym': [], 'pos_synonymy': []}\n",
      "{'id': 'A1431', 'part_of_speech': 'Adj', 'ruthes_name': 'ЯДОВИТОЕ ВЕЩЕСТВО', 'definition': '', 'sense_list': ['1711'], 'hypernym_for': ['A990', 'A995', 'A1149', 'A1894', 'A5916', 'A7152', 'A8192', 'A9295', 'A9323', 'A9772', 'A12215'], 'hyponym_for': [], 'domain_for': [], 'antonym': [], 'pos_synonymy': []}\n",
      "{'id': 'A1443', 'part_of_speech': 'Adj', 'ruthes_name': 'РОЛЬ, ПОЛОЖЕНИЕ, МЕСТО', 'definition': 'положение кого-либо в обществе, роль, отведенная кому-либо в обществе, в какой-либо деятельности', 'sense_list': ['12478'], 'hypernym_for': ['A333', 'A354', 'A499', 'A604', 'A678', 'A790', 'A806', 'A929', 'A971', 'A990', 'A1007', 'A1017', 'A1074', 'A1301', 'A1314', 'A1571', 'A1647', 'A1651', 'A1685', 'A1793', 'A1905', 'A2693', 'A2705', 'A2971', 'A3031', 'A3128', 'A3175', 'A3319', 'A3581', 'A3691', 'A3699', 'A3701', 'A3739', 'A3847', 'A3860', 'A3870', 'A3874', 'A4003', 'A4006', 'A4055', 'A4256', 'A4295', 'A4530', 'A4675', 'A4813', 'A4885', 'A5110', 'A5251', 'A5400', 'A5426', 'A5641', 'A5783', 'A6312', 'A6412', 'A6486', 'A6772', 'A6929', 'A7066', 'A7154', 'A7216', 'A7474', 'A7524', 'A7541', 'A7614', 'A7859', 'A7878', 'A8062', 'A8088', 'A8261', 'A8469', 'A8516', 'A8687', 'A8822', 'A8861', 'A8915', 'A8970', 'A9550', 'A9560', 'A9603', 'A9635', 'A9725', 'A9852', 'A9853', 'A9880', 'A9954', 'A10025', 'A10069', 'A10167', 'A10189', 'A10380', 'A10520', 'A10660', 'A11304', 'A11305', 'A11491', 'A11508', 'A11594', 'A11936', 'A11940', 'A12268', 'A12389', 'A12443', 'A12573'], 'hyponym_for': [], 'domain_for': [], 'antonym': [], 'pos_synonymy': []}\n",
      "{'id': 'A1444', 'part_of_speech': 'Adj', 'ruthes_name': 'ВСЕЛИТЬСЯ, ЗАСЕЛИТЬСЯ', 'definition': '', 'sense_list': ['23016'], 'hypernym_for': ['A2191'], 'hyponym_for': [], 'domain_for': [], 'antonym': [], 'pos_synonymy': []}\n",
      "{'id': 'A1458', 'part_of_speech': 'Adj', 'ruthes_name': 'МАТЕМАТИЧЕСКАЯ ФУНКЦИЯ', 'definition': 'переменная величина, меняющаяся в зависимости от изменения другой величины, а также закон, определяющий свойства такого изменения', 'sense_list': ['80454'], 'hypernym_for': ['A4647', 'A6896'], 'hyponym_for': [], 'domain_for': [], 'antonym': [], 'pos_synonymy': []}\n",
      "{'id': 'A1535', 'part_of_speech': 'Adj', 'ruthes_name': 'ДЕКОРАЦИЯ (ИЗОБРАЖЕНИЕ)', 'definition': 'изображения и предметы обстановки, используемые на театральной сцене и киносъемочной площадке для имитации места действия', 'sense_list': ['105079'], 'hypernym_for': ['A1607', 'A4252'], 'hyponym_for': [], 'domain_for': [], 'antonym': [], 'pos_synonymy': []}\n",
      "{'id': 'A1545', 'part_of_speech': 'Adj', 'ruthes_name': 'КРЕДИТОР', 'definition': 'заимодавец; тот, кто даёт взаймы', 'sense_list': ['92308'], 'hypernym_for': ['A2447', 'A4469'], 'hyponym_for': [], 'domain_for': [], 'antonym': [], 'pos_synonymy': []}\n",
      "{'id': 'A1554', 'part_of_speech': 'Adj', 'ruthes_name': 'ДВИЖЕНИЕ, ПЕРЕМЕЩЕНИЕ', 'definition': 'изменение положения чего-либо в пространстве', 'sense_list': ['5821', '5827'], 'hypernym_for': ['A58', 'A82', 'A197', 'A411', 'A486', 'A934', 'A999', 'A1350', 'A1406', 'A1503', 'A1752', 'A1759', 'A1883', 'A2180', 'A2228', 'A2305', 'A2319', 'A2346', 'A2479', 'A2601', 'A2722', 'A2786', 'A2834', 'A2934', 'A2942', 'A3204', 'A3274', 'A3487', 'A3658', 'A3689', 'A3864', 'A4013', 'A4016', 'A4248', 'A4315', 'A4374', 'A4484', 'A4842', 'A5121', 'A5153', 'A5211', 'A5678', 'A5784', 'A5822', 'A6149', 'A6224', 'A6428', 'A6693', 'A6710', 'A6946', 'A7047', 'A7234', 'A7238', 'A7243', 'A7275', 'A7589', 'A7826', 'A7904', 'A8073', 'A8151', 'A8213', 'A8243', 'A8341', 'A8434', 'A8552', 'A8853', 'A8908', 'A9397', 'A9485', 'A9661', 'A9720', 'A9739', 'A9943', 'A10552', 'A10707', 'A10783', 'A10819', 'A11021', 'A11150', 'A11262', 'A11350', 'A11511', 'A11680', 'A11864', 'A11983', 'A12049', 'A12149', 'A12546'], 'hyponym_for': [], 'domain_for': [], 'antonym': [], 'pos_synonymy': []}\n",
      "{'id': 'A1597', 'part_of_speech': 'Adj', 'ruthes_name': 'ОБЩЕСТВО, СОЦИУМ', 'definition': 'коллектив, множество людей, характеризующийся общностью социальной, экономической и культурной жизни', 'sense_list': ['55218', '55219'], 'hypernym_for': ['A261', 'A5045'], 'hyponym_for': [], 'domain_for': [], 'antonym': [], 'pos_synonymy': []}\n",
      "{'id': 'A1646', 'part_of_speech': 'Adj', 'ruthes_name': 'ПРИУКРАСИТЬ, ВЫГОДНО ПРЕДСТАВИТЬ', 'definition': 'представить, изобразить в более красивом, привлекательном виде (чем в действительности)', 'sense_list': ['1037', '1038'], 'hypernym_for': ['A11145', 'A12271'], 'hyponym_for': [], 'domain_for': [], 'antonym': [], 'pos_synonymy': []}\n",
      "{'id': 'A1713', 'part_of_speech': 'Adj', 'ruthes_name': 'СТЕБЕЛЬ РАСТЕНИЯ', 'definition': 'часть растения, несущая листья, почки, цветки, часто ответвления', 'sense_list': ['78772', '78774', '78773'], 'hypernym_for': ['A1599', 'A4368', 'A4855', 'A8133', 'A9251', 'A10214', 'A11904'], 'hyponym_for': [], 'domain_for': [], 'antonym': [], 'pos_synonymy': []}\n",
      "{'id': 'A1770', 'part_of_speech': 'Adj', 'ruthes_name': 'ЧУВСТВО, ЭМОЦИЯ', 'definition': 'внутреннее чувство человека, душевное волнение', 'sense_list': ['57994'], 'hypernym_for': ['A66', 'A1060', 'A1313', 'A1494', 'A2371', 'A2396', 'A2659', 'A3038', 'A3105', 'A3234', 'A3359', 'A3540', 'A4602', 'A5357', 'A5767', 'A5922', 'A5972', 'A6141', 'A6531', 'A7137', 'A7331', 'A7333', 'A7847', 'A8047', 'A8075', 'A9215', 'A9502', 'A9612', 'A9687', 'A10058', 'A10154', 'A10530', 'A10830', 'A11134', 'A11243', 'A11339', 'A11821', 'A11860', 'A11915', 'A11947', 'A12615'], 'hyponym_for': [], 'domain_for': [], 'antonym': [], 'pos_synonymy': []}\n",
      "{'id': 'A1778', 'part_of_speech': 'Adj', 'ruthes_name': 'НИЗИНА, НИЗМЕННОЕ МЕСТО', 'definition': 'более низкое место, углубление, впадина, спуск', 'sense_list': ['50481', '50482'], 'hypernym_for': ['A9742', 'A12488'], 'hyponym_for': [], 'domain_for': [], 'antonym': [], 'pos_synonymy': []}\n",
      "{'id': 'A1796', 'part_of_speech': 'Adj', 'ruthes_name': 'ПОХВАЛА', 'definition': 'лестный, положительный отзыв о ком-либо, чём-либо, высказываемое одобрение кого-либо, чего-либо', 'sense_list': ['76136'], 'hypernym_for': ['A4200', 'A7412'], 'hyponym_for': [], 'domain_for': [], 'antonym': [], 'pos_synonymy': []}\n",
      "{'id': 'A1823', 'part_of_speech': 'Adj', 'ruthes_name': 'УПРЯЖКА ЖИВОТНЫХ', 'definition': '', 'sense_list': ['80092'], 'hypernym_for': ['A1828'], 'hyponym_for': [], 'domain_for': [], 'antonym': [], 'pos_synonymy': []}\n",
      "{'id': 'A1889', 'part_of_speech': 'Adj', 'ruthes_name': 'РАЗОРИТЬ (ЛИШИТЬ ИМУЩЕСТВА)', 'definition': 'лишить достатка, богатства; ввергнуть в бедность, нищету', 'sense_list': ['82226'], 'hypernym_for': ['A514', 'A3937'], 'hyponym_for': [], 'domain_for': [], 'antonym': [], 'pos_synonymy': []}\n",
      "{'id': 'A1912', 'part_of_speech': 'Adj', 'ruthes_name': 'КЛЕТКА ОРГАНИЗМА', 'definition': '', 'sense_list': ['38039'], 'hypernym_for': ['A2728', 'A5561', 'A5752', 'A6965', 'A8676', 'A8884'], 'hyponym_for': [], 'domain_for': [], 'antonym': [], 'pos_synonymy': []}\n",
      "{'id': 'A1962', 'part_of_speech': 'Adj', 'ruthes_name': 'ОБМАНУТЬ, ВВЕСТИ В ЗАБЛУЖДЕНИЕ', 'definition': 'ввести кого-либо в заблуждение, сказать неправду, поступить нечестно', 'sense_list': ['28181', '28189'], 'hypernym_for': ['A2323', 'A2381', 'A5726', 'A6807', 'A7114', 'A8085', 'A8307', 'A8862', 'A8920', 'A9497', 'A11519'], 'hyponym_for': [], 'domain_for': [], 'antonym': [], 'pos_synonymy': []}\n",
      "{'id': 'A2019', 'part_of_speech': 'Adj', 'ruthes_name': 'РУГАТЕЛЬСТВО, БРАНЬ', 'definition': 'оскорбительные, бранные слова, ругань, осуждение, порицание, упрёки', 'sense_list': ['21860'], 'hypernym_for': ['A1947'], 'hyponym_for': [], 'domain_for': [], 'antonym': [], 'pos_synonymy': []}\n",
      "{'id': 'A2037', 'part_of_speech': 'Adj', 'ruthes_name': 'ЛЕТУЧЕЕ ВЕЩЕСТВО', 'definition': '', 'sense_list': ['72510'], 'hypernym_for': ['A1484', 'A5350', 'A5971', 'A11877', 'A12361'], 'hyponym_for': [], 'domain_for': [], 'antonym': [], 'pos_synonymy': []}\n",
      "{'id': 'A2046', 'part_of_speech': 'Adj', 'ruthes_name': 'БОК, БОКОВАЯ ЧАСТЬ', 'definition': '', 'sense_list': ['3707'], 'hypernym_for': ['A434', 'A753', 'A3349', 'A4674', 'A4972', 'A5010', 'A5018', 'A6277', 'A7075', 'A8473', 'A10213', 'A10424', 'A10584', 'A11023', 'A12635'], 'hyponym_for': [], 'domain_for': [], 'antonym': [], 'pos_synonymy': []}\n",
      "{'id': 'A2070', 'part_of_speech': 'Adj', 'ruthes_name': 'ОВРАГ', 'definition': 'относительно глубокая крутосклонная незадернованная ложбина, образованная временным водотоком', 'sense_list': ['28357'], 'hypernym_for': ['A2650', 'A4401', 'A9742'], 'hyponym_for': [], 'domain_for': [], 'antonym': [], 'pos_synonymy': []}\n",
      "{'id': 'A2100', 'part_of_speech': 'Adj', 'ruthes_name': 'СКОБКА (ГРАФИЧЕСКИЙ ЗНАК)', 'definition': 'знак препинания\\xa0— отвесная черта, обычно полукруглая, которая ставится впереди и позади различных поясняющих слов (вводных и иных)', 'sense_list': ['54854'], 'hypernym_for': ['A1530'], 'hyponym_for': [], 'domain_for': [], 'antonym': [], 'pos_synonymy': []}\n",
      "{'id': 'A2106', 'part_of_speech': 'Adj', 'ruthes_name': 'ОХРАНЯТЬ', 'definition': '', 'sense_list': ['38277', '38280'], 'hypernym_for': ['A1345', 'A1645', 'A10748'], 'hyponym_for': [], 'domain_for': [], 'antonym': [], 'pos_synonymy': []}\n",
      "{'id': 'A2112', 'part_of_speech': 'Adj', 'ruthes_name': 'СКУЛЬПТУРНОЕ ПРОИЗВЕДЕНИЕ', 'definition': 'скульптурное изображение; статуя', 'sense_list': ['65100'], 'hypernym_for': ['A8058', 'A10535', 'A10797', 'A10820', 'A12166'], 'hyponym_for': [], 'domain_for': [], 'antonym': [], 'pos_synonymy': []}\n",
      "{'id': 'A2149', 'part_of_speech': 'Adj', 'ruthes_name': 'ПОВЕРНУТЬ ПРИ ДВИЖЕНИИ', 'definition': '', 'sense_list': ['63017'], 'hypernym_for': ['A3487', 'A4484'], 'hyponym_for': [], 'domain_for': [], 'antonym': [], 'pos_synonymy': []}\n",
      "{'id': 'A2151', 'part_of_speech': 'Adj', 'ruthes_name': 'ВЕШАТЬ (ПОМЕСТИТЬ)', 'definition': 'поместить на весу, то есть без опоры снизу', 'sense_list': ['43917'], 'hypernym_for': ['A11711'], 'hyponym_for': [], 'domain_for': [], 'antonym': [], 'pos_synonymy': []}\n",
      "{'id': 'A2169', 'part_of_speech': 'Adj', 'ruthes_name': 'НОРМА (ПРАВИЛО)', 'definition': 'установленное правило или положение, общепринятый порядок', 'sense_list': ['27978'], 'hypernym_for': ['A1340', 'A4856', 'A6207', 'A11925', 'A12311'], 'hyponym_for': [], 'domain_for': [], 'antonym': [], 'pos_synonymy': []}\n",
      "{'id': 'A2250', 'part_of_speech': 'Adj', 'ruthes_name': 'ЖИВОЙ ОРГАНИЗМ', 'definition': 'живое существо, как правило, низкоорганизованное', 'sense_list': ['24451'], 'hypernym_for': ['A482', 'A1251', 'A2558', 'A3059', 'A3590', 'A4218', 'A4404', 'A4578', 'A4623', 'A4735', 'A4907', 'A5128', 'A5497', 'A5620', 'A6837', 'A7345', 'A7649', 'A8180', 'A8648', 'A9184', 'A9895', 'A11060', 'A11061', 'A11163', 'A11414', 'A11646', 'A11851'], 'hyponym_for': [], 'domain_for': [], 'antonym': [], 'pos_synonymy': []}\n",
      "{'id': 'A2255', 'part_of_speech': 'Adj', 'ruthes_name': 'СИМВОЛ (УСЛОВНЫЙ ЗНАК)', 'definition': 'условное обозначение, знак', 'sense_list': ['54781'], 'hypernym_for': ['A2987', 'A3620', 'A5387', 'A11641', 'A12345'], 'hyponym_for': [], 'domain_for': [], 'antonym': [], 'pos_synonymy': []}\n",
      "{'id': 'A2343', 'part_of_speech': 'Adj', 'ruthes_name': 'АНТРОПОГЕННОЕ ВОЗДЕЙСТВИЕ', 'definition': 'хозяйственная деятельность человечества как дестабилизирующий фактор изменения природы', 'sense_list': ['127344'], 'hypernym_for': ['A585', 'A5526', 'A6652', 'A7301', 'A8922', 'A11423'], 'hyponym_for': [], 'domain_for': [], 'antonym': [], 'pos_synonymy': []}\n",
      "{'id': 'A2356', 'part_of_speech': 'Adj', 'ruthes_name': 'ТЕРРИТОРИЯ, УЧАСТОК', 'definition': '', 'sense_list': ['80241', '80240'], 'hypernym_for': ['A23', 'A163', 'A181', 'A208', 'A296', 'A375', 'A415', 'A542', 'A680', 'A828', 'A915', 'A1138', 'A1172', 'A1177', 'A1202', 'A1256', 'A1285', 'A1316', 'A1327', 'A1553', 'A1590', 'A1712', 'A1789', 'A1973', 'A2240', 'A2270', 'A2272', 'A2408', 'A2470', 'A2491', 'A2519', 'A2534', 'A2636', 'A2651', 'A2699', 'A2743', 'A2763', 'A2943', 'A3145', 'A3400', 'A3401', 'A3414', 'A3422', 'A3502', 'A3543', 'A3580', 'A3593', 'A3652', 'A3699', 'A3718', 'A3785', 'A3788', 'A3804', 'A3843', 'A3964', 'A4416', 'A4517', 'A4743', 'A4843', 'A4985', 'A5141', 'A5224', 'A5302', 'A5541', 'A5621', 'A5630', 'A5671', 'A5714', 'A5794', 'A5801', 'A5817', 'A5865', 'A5934', 'A5985', 'A6090', 'A6202', 'A6325', 'A6340', 'A6341', 'A6346', 'A6353', 'A6405', 'A6441', 'A6475', 'A6498', 'A6636', 'A6667', 'A6733', 'A6785', 'A6868', 'A6924', 'A7060', 'A7491', 'A7628', 'A7639', 'A7670', 'A7690', 'A7886', 'A7918', 'A7945', 'A8067', 'A8330', 'A8348', 'A8418', 'A8576', 'A8595', 'A8897', 'A9016', 'A9069', 'A9381', 'A9400', 'A9419', 'A9423', 'A9488', 'A9583', 'A9589', 'A9627', 'A9709', 'A9710', 'A9733', 'A9833', 'A10010', 'A10064', 'A10197', 'A10212', 'A10302', 'A10475', 'A10501', 'A10538', 'A10572', 'A10650', 'A10720', 'A10734', 'A10768', 'A10792', 'A10796', 'A11010', 'A11046', 'A11063', 'A11143', 'A11307', 'A11387', 'A11427', 'A11457', 'A11727', 'A11856', 'A11859', 'A12005', 'A12069', 'A12106', 'A12269', 'A12298', 'A12405', 'A12503', 'A12535', 'A12585'], 'hyponym_for': [], 'domain_for': [], 'antonym': [], 'pos_synonymy': []}\n",
      "{'id': 'A2369', 'part_of_speech': 'Adj', 'ruthes_name': 'ИСПЫТАТЬ, ПРОВЕРИТЬ', 'definition': 'проверка объекта с целью оценить какие-то его качества', 'sense_list': ['81081', '81079'], 'hypernym_for': ['A6201', 'A8635', 'A9244'], 'hyponym_for': [], 'domain_for': [], 'antonym': [], 'pos_synonymy': []}\n",
      "{'id': 'A2405', 'part_of_speech': 'Adj', 'ruthes_name': 'ВОЛНОВАТЬ, ВЫЗЫВАТЬ ЧУВСТВО ВОЛНЕНИЯ', 'definition': '', 'sense_list': ['85298'], 'hypernym_for': ['A5557', 'A8378', 'A11527', 'A12279'], 'hyponym_for': [], 'domain_for': [], 'antonym': [], 'pos_synonymy': []}\n",
      "{'id': 'A2419', 'part_of_speech': 'Adj', 'ruthes_name': 'ВЫПОЛНИТЬ, ИСПОЛНИТЬ, ОСУЩЕСТВИТЬ', 'definition': 'претворять (претворить) в жизнь, осуществлять (осуществить)', 'sense_list': ['22301', '22302'], 'hypernym_for': ['A207', 'A430', 'A653', 'A999', 'A1053', 'A1111', 'A1281', 'A1747', 'A1883', 'A2281', 'A2538', 'A2622', 'A2757', 'A2891', 'A2895', 'A3669', 'A3676', 'A3955', 'A3971', 'A4092', 'A4813', 'A4944', 'A5275', 'A5651', 'A5822', 'A6175', 'A6457', 'A6714', 'A8078', 'A8266', 'A8341', 'A8853', 'A8876', 'A8984', 'A9122', 'A9195', 'A9432', 'A9819', 'A10544', 'A10574', 'A10698', 'A11021', 'A11442', 'A12151', 'A12165', 'A12289', 'A12290', 'A12343'], 'hyponym_for': [], 'domain_for': [], 'antonym': [], 'pos_synonymy': []}\n",
      "{'id': 'A2431', 'part_of_speech': 'Adj', 'ruthes_name': 'РАЗНЫЙ, НЕОДИНАКОВЫЙ', 'definition': 'неодинаковый, несхожий с кем-либо или чем-либо в чём-либо; различный отличающийся, непохожий', 'sense_list': ['23877', '23878', '23879', '23880', '23881', '23882', '23883', '23884', '23887'], 'hypernym_for': ['A1411', 'A1580', 'A5237', 'A5376', 'A8926', 'A9766'], 'hyponym_for': [], 'domain_for': [], 'antonym': [], 'pos_synonymy': []}\n",
      "{'id': 'A2677', 'part_of_speech': 'Adj', 'ruthes_name': 'МЕТАЛЛИЧЕСКОЕ ИЗДЕЛИЕ', 'definition': '', 'sense_list': ['27129'], 'hypernym_for': ['A2153', 'A2847', 'A5344', 'A6630', 'A6863', 'A7422', 'A9448', 'A10026', 'A10727', 'A12088', 'A12130'], 'hyponym_for': [], 'domain_for': [], 'antonym': [], 'pos_synonymy': []}\n",
      "{'id': 'A2735', 'part_of_speech': 'Adj', 'ruthes_name': 'НЕФТЕГАЗОВОЕ МЕСТОРОЖДЕНИЕ', 'definition': '', 'sense_list': ['61719'], 'hypernym_for': ['A7227', 'A9255'], 'hyponym_for': [], 'domain_for': [], 'antonym': [], 'pos_synonymy': []}\n",
      "{'id': 'A2758', 'part_of_speech': 'Adj', 'ruthes_name': 'КАСАТЬСЯ, ИМЕТЬ ОТНОШЕНИЕ', 'definition': 'обращаться с кем-либо, реагировать на что-либо определённым образом', 'sense_list': ['40585'], 'hypernym_for': ['A6782'], 'hyponym_for': [], 'domain_for': [], 'antonym': [], 'pos_synonymy': []}\n",
      "{'id': 'A2800', 'part_of_speech': 'Adj', 'ruthes_name': 'ЭТАП ПРОЦЕССА', 'definition': 'стадия; отдельная часть, промежуток времени в течение какого-либо процесса', 'sense_list': ['5955'], 'hypernym_for': ['A41', 'A5152', 'A8060', 'A8934', 'A9907', 'A10242', 'A10817', 'A11777', 'A12151'], 'hyponym_for': [], 'domain_for': [], 'antonym': [], 'pos_synonymy': []}\n",
      "{'id': 'A2865', 'part_of_speech': 'Adj', 'ruthes_name': 'РУЧКА ДЛЯ ДЕРЖАНИЯ', 'definition': 'часть предмета, за которую его можно брать рукой, держать или перемещать', 'sense_list': ['30732'], 'hypernym_for': ['A1299', 'A6713'], 'hyponym_for': [], 'domain_for': [], 'antonym': [], 'pos_synonymy': []}\n",
      "{'id': 'A2898', 'part_of_speech': 'Adj', 'ruthes_name': 'ВАРИАНТ, РАЗНОВИДНОСТЬ', 'definition': 'разновидность, видоизменение чего-либо', 'sense_list': ['67627'], 'hypernym_for': ['A121', 'A766', 'A1070', 'A1629', 'A1658', 'A2598', 'A2748', 'A2804', 'A3198', 'A3565', 'A3708', 'A4122', 'A4215', 'A4808', 'A5819', 'A5837', 'A7778', 'A8829', 'A9517', 'A10080', 'A10177', 'A10583', 'A10678', 'A10924', 'A11180', 'A11289', 'A11433', 'A11475', 'A11577', 'A11790'], 'hyponym_for': [], 'domain_for': [], 'antonym': [], 'pos_synonymy': []}\n",
      "{'id': 'A2899', 'part_of_speech': 'Adj', 'ruthes_name': 'ЛАКОКРАСОЧНАЯ ПРОДУКЦИЯ', 'definition': '', 'sense_list': ['113513'], 'hypernym_for': ['A574', 'A1117'], 'hyponym_for': [], 'domain_for': [], 'antonym': [], 'pos_synonymy': []}\n",
      "{'id': 'A2909', 'part_of_speech': 'Adj', 'ruthes_name': 'ПИЩЕВКУСОВЫЕ ПРОДУКТЫ', 'definition': '', 'sense_list': ['100691'], 'hypernym_for': ['A1667', 'A2073', 'A2335', 'A3828', 'A3885', 'A3942', 'A4079', 'A4785', 'A5820', 'A6838', 'A7284', 'A7473', 'A10857', 'A11105', 'A11201'], 'hyponym_for': [], 'domain_for': [], 'antonym': [], 'pos_synonymy': []}\n",
      "{'id': 'A2954', 'part_of_speech': 'Adj', 'ruthes_name': 'ЖЕЛОБ ДЛЯ СТОКА', 'definition': '', 'sense_list': ['24426', '24427'], 'hypernym_for': ['A7063'], 'hyponym_for': [], 'domain_for': [], 'antonym': [], 'pos_synonymy': []}\n",
      "{'id': 'A2963', 'part_of_speech': 'Adj', 'ruthes_name': 'ВЫСТУП, ВЫСТУПАЮЩАЯ ЧАСТЬ', 'definition': 'участок поверхности объекта, поднимающийся, выдающийся относительно других участков, дальше других отстоящий от центра объекта.', 'sense_list': ['44619'], 'hypernym_for': ['A1790', 'A2698', 'A2704', 'A2902', 'A2930', 'A4603', 'A6436', 'A7119', 'A7497', 'A7746', 'A9132', 'A9540', 'A9969', 'A10276', 'A10974', 'A12477'], 'hyponym_for': [], 'domain_for': [], 'antonym': [], 'pos_synonymy': []}\n",
      "{'id': 'A2965', 'part_of_speech': 'Adj', 'ruthes_name': 'УСКОРИТЬ ДВИЖЕНИЕ', 'definition': 'сделать более быстрым; ускорить', 'sense_list': ['98430'], 'hypernym_for': ['A12045'], 'hyponym_for': [], 'domain_for': [], 'antonym': [], 'pos_synonymy': []}\n",
      "{'id': 'A3062', 'part_of_speech': 'Adj', 'ruthes_name': 'ФОТОГРАФИЧЕСКОЕ ИЗОБРАЖЕНИЕ', 'definition': 'изображение, полученное при фотографировании', 'sense_list': ['14473'], 'hypernym_for': ['A1688', 'A3214', 'A4965'], 'hyponym_for': [], 'domain_for': [], 'antonym': [], 'pos_synonymy': []}\n",
      "{'id': 'A3084', 'part_of_speech': 'Adj', 'ruthes_name': 'ОТСЫЛКА В ТЕКСТЕ', 'definition': '', 'sense_list': ['55332'], 'hypernym_for': ['A237', 'A421'], 'hyponym_for': [], 'domain_for': [], 'antonym': [], 'pos_synonymy': []}\n",
      "{'id': 'A3092', 'part_of_speech': 'Adj', 'ruthes_name': 'УВЛАЖНИТЬ', 'definition': '', 'sense_list': ['110871'], 'hypernym_for': ['A10000'], 'hyponym_for': [], 'domain_for': [], 'antonym': [], 'pos_synonymy': []}\n",
      "{'id': 'A3103', 'part_of_speech': 'Adj', 'ruthes_name': 'РАСПОЛОЖЕНИЕ, ПОРЯДОК РАЗМЕЩЕНИЯ', 'definition': 'место и порядок размещения чего-либо', 'sense_list': ['41756'], 'hypernym_for': ['A342', 'A376', 'A546', 'A783', 'A962', 'A1291', 'A1300', 'A1466', 'A1759', 'A2166', 'A2536', 'A2547', 'A2841', 'A3229', 'A3279', 'A3750', 'A3811', 'A3966', 'A4507', 'A4585', 'A4663', 'A4937', 'A5127', 'A5609', 'A5657', 'A5823', 'A5874', 'A6011', 'A6715', 'A6924', 'A6954', 'A7486', 'A7500', 'A7769', 'A8199', 'A8255', 'A8805', 'A9477', 'A10253', 'A10291', 'A10644', 'A11553', 'A11598', 'A12127', 'A12136', 'A12609'], 'hyponym_for': [], 'domain_for': [], 'antonym': [], 'pos_synonymy': []}\n",
      "{'id': 'A3141', 'part_of_speech': 'Adj', 'ruthes_name': 'СУМКА ДЛЯ НОШЕНИЯ', 'definition': 'сравнительно небольшое вместилище из ткани, кожи или другого мягкого материала для ношения предметов', 'sense_list': ['32279'], 'hypernym_for': ['A2394', 'A4105', 'A4896', 'A5761', 'A7718', 'A7909', 'A11781'], 'hyponym_for': [], 'domain_for': [], 'antonym': [], 'pos_synonymy': []}\n",
      "{'id': 'A3178', 'part_of_speech': 'Adj', 'ruthes_name': 'КОНЦЕНТРАТ (ВЕЩЕСТВО)', 'definition': '', 'sense_list': ['115723'], 'hypernym_for': ['A6301'], 'hyponym_for': [], 'domain_for': [], 'antonym': [], 'pos_synonymy': []}\n",
      "{'id': 'A3181', 'part_of_speech': 'Adj', 'ruthes_name': 'НОВШЕСТВО', 'definition': 'что-либо новое, только что вошедшее в обиход', 'sense_list': ['73824'], 'hypernym_for': ['A7805'], 'hyponym_for': [], 'domain_for': [], 'antonym': [], 'pos_synonymy': []}\n",
      "{'id': 'A3186', 'part_of_speech': 'Adj', 'ruthes_name': 'ДНО ВОДНОГО ОБЪЕКТА', 'definition': 'дно естественного водного бассейна; почва такого дна', 'sense_list': ['4049'], 'hypernym_for': ['A2192', 'A5133'], 'hyponym_for': [], 'domain_for': [], 'antonym': [], 'pos_synonymy': []}\n",
      "{'id': 'A3203', 'part_of_speech': 'Adj', 'ruthes_name': 'ВХОД, МЕСТО ВХОДА', 'definition': '', 'sense_list': ['8947'], 'hypernym_for': ['A1150', 'A2467', 'A4263', 'A4662', 'A5563'], 'hyponym_for': [], 'domain_for': [], 'antonym': [], 'pos_synonymy': []}\n",
      "{'id': 'A3299', 'part_of_speech': 'Adj', 'ruthes_name': 'ЦИКЛИЧЕСКИЙ ПРОЦЕСС', 'definition': 'совершающийся циклами, в виде повторяющихся циклов', 'sense_list': ['14684', '14685'], 'hypernym_for': ['A4685', 'A5217', 'A7238'], 'hyponym_for': [], 'domain_for': [], 'antonym': [], 'pos_synonymy': []}\n",
      "{'id': 'A3309', 'part_of_speech': 'Adj', 'ruthes_name': 'РАВНОВЕСИЕ (УСТОЙЧИВОЕ СООТНОШЕНИЕ)', 'definition': '', 'sense_list': ['42944'], 'hypernym_for': ['A4291'], 'hyponym_for': [], 'domain_for': [], 'antonym': [], 'pos_synonymy': []}\n",
      "{'id': 'A3322', 'part_of_speech': 'Adj', 'ruthes_name': 'КРАСКА, КРАСЯЩИЙ СОСТАВ', 'definition': 'вещество, используемое для придания предметам того или иного цвета, для живописи и\\xa0т.\\xa0п.', 'sense_list': ['48298'], 'hypernym_for': ['A574', 'A7475', 'A7724', 'A8615', 'A9826', 'A9930'], 'hyponym_for': [], 'domain_for': [], 'antonym': [], 'pos_synonymy': []}\n",
      "{'id': 'A3337', 'part_of_speech': 'Adj', 'ruthes_name': 'КАСАТЬСЯ, ДОТРАГИВАТЬСЯ', 'definition': '', 'sense_list': ['71417'], 'hypernym_for': ['A620', 'A904', 'A1344', 'A1432', 'A2740', 'A2786', 'A3831', 'A4244', 'A4561', 'A5432', 'A5465', 'A5956', 'A6919', 'A8442', 'A8471', 'A8894', 'A9118', 'A9717', 'A10613', 'A10642'], 'hyponym_for': [], 'domain_for': [], 'antonym': [], 'pos_synonymy': []}\n",
      "{'id': 'A3386', 'part_of_speech': 'Adj', 'ruthes_name': 'ПРИПЛОД ЖИВОТНОГО', 'definition': '', 'sense_list': ['76345'], 'hypernym_for': ['A1279', 'A1914', 'A3982', 'A5732', 'A7178', 'A9561', 'A11679'], 'hyponym_for': [], 'domain_for': [], 'antonym': [], 'pos_synonymy': []}\n",
      "{'id': 'A3390', 'part_of_speech': 'Adj', 'ruthes_name': 'КОМНАТА (ПОМЕЩЕНИЕ)', 'definition': '', 'sense_list': ['71835'], 'hypernym_for': ['A4887', 'A9040', 'A9664', 'A10414'], 'hyponym_for': [], 'domain_for': [], 'antonym': [], 'pos_synonymy': []}\n",
      "{'id': 'A3404', 'part_of_speech': 'Adj', 'ruthes_name': 'ОКСИДЫ', 'definition': 'соединение химического элемента с кислородом, в котором атомы кислорода не связаны между собой', 'sense_list': ['28462', '28463'], 'hypernym_for': ['A605', 'A4686', 'A5064', 'A6307', 'A8241', 'A10709'], 'hyponym_for': [], 'domain_for': [], 'antonym': [], 'pos_synonymy': []}\n",
      "{'id': 'A3433', 'part_of_speech': 'Adj', 'ruthes_name': 'ПРОЛИВ', 'definition': 'сравнительно узкая полоса воды, разъединяющая участки суши и соединяющая два водных бассейна или две части водного бассейна', 'sense_list': ['53065'], 'hypernym_for': ['A4925', 'A12169'], 'hyponym_for': [], 'domain_for': [], 'antonym': [], 'pos_synonymy': []}\n",
      "{'id': 'A3435', 'part_of_speech': 'Adj', 'ruthes_name': 'СОСУД (ВМЕСТИЛИЩЕ)', 'definition': 'вместилище для жидких или сыпучих тел', 'sense_list': ['31854'], 'hypernym_for': ['A27', 'A1188', 'A1397', 'A1742', 'A1875', 'A2586', 'A2685', 'A3283', 'A3426', 'A4046', 'A4557', 'A4610', 'A4713', 'A4837', 'A5866', 'A6022', 'A6255', 'A7014', 'A8015', 'A9139', 'A9169', 'A9335', 'A10151', 'A10326', 'A10927', 'A11310'], 'hyponym_for': [], 'domain_for': [], 'antonym': [], 'pos_synonymy': []}\n",
      "{'id': 'A3504', 'part_of_speech': 'Adj', 'ruthes_name': 'ОЩУЩАТЬ, ВОСПРИНИМАТЬ', 'definition': 'чувствовать, испытывать эмоцию', 'sense_list': ['74831', '74825'], 'hypernym_for': ['A70', 'A774', 'A1847', 'A2347', 'A2845', 'A4999', 'A8781', 'A9122', 'A11145'], 'hyponym_for': [], 'domain_for': [], 'antonym': [], 'pos_synonymy': []}\n",
      "{'id': 'A3556', 'part_of_speech': 'Adj', 'ruthes_name': 'ПРОВАЛИТЬСЯ, ПОТЕРПЕТЬ ПРОВАЛ', 'definition': 'не справиться с чем-либо (с делом, работой и т. п.), не сдать (экзамен и т. п.), потерпеть провал, неудачу в что-либо', 'sense_list': ['1007', '1013'], 'hypernym_for': ['A5287'], 'hyponym_for': [], 'domain_for': [], 'antonym': [], 'pos_synonymy': []}\n",
      "{'id': 'A3573', 'part_of_speech': 'Adj', 'ruthes_name': 'НАПРАВЛЕНИЕ В ПРОСТРАНСТВЕ', 'definition': 'пространство, находящееся в каком-либо направлении от чего-либо, а также само это направление', 'sense_list': ['10753'], 'hypernym_for': ['A497', 'A2065', 'A2167', 'A2793', 'A6566', 'A7464', 'A8183', 'A9248', 'A9922', 'A12383'], 'hyponym_for': [], 'domain_for': [], 'antonym': [], 'pos_synonymy': []}\n",
      "{'id': 'A3583', 'part_of_speech': 'Adj', 'ruthes_name': 'ПОЛИМЕРНОЕ СОЕДИНЕНИЕ', 'definition': 'высокомолекулярное соединение, в котором атомы образуют линейные или разветвленные цепи, а также пространственные трехмерные структуры.', 'sense_list': ['95577', '95581', '95582'], 'hypernym_for': ['A361', 'A7601', 'A7707', 'A9715', 'A10558', 'A10851', 'A11216'], 'hyponym_for': [], 'domain_for': [], 'antonym': [], 'pos_synonymy': []}\n"
     ]
    }
   ],
   "source": [
    "for p in roots[:200]:\n",
    "    print(p)"
   ]
  },
  {
   "cell_type": "code",
   "execution_count": 32,
   "metadata": {
    "collapsed": false
   },
   "outputs": [],
   "source": [
    "tree = ruwordnet.get_tree('V42860')"
   ]
  },
  {
   "cell_type": "code",
   "execution_count": 41,
   "metadata": {
    "collapsed": false
   },
   "outputs": [
    {
     "name": "stdout",
     "output_type": "stream",
     "text": [
      "['V42060', 'V42541', 'V43389', 'V42355', 'V47806', 'V43621', 'V44585', 'V49277', 'V49357', 'V43694', 'V43895', 'V43875', 'V46338', 'V43734', 'V48375', 'V48847', 'V43937', 'V44032', 'V48050', 'V45947', 'V46953', 'V42106', 'V42783', 'V42499', 'V47742', 'V47713', 'V48792', 'V49478', 'V43928', 'V44864', 'V46875', 'V47592']\n"
     ]
    }
   ],
   "source": [
    "child_ids = ruwordnet.get_child_ids('V42860')\n",
    "print(child_ids)"
   ]
  },
  {
   "cell_type": "code",
   "execution_count": 33,
   "metadata": {
    "collapsed": false
   },
   "outputs": [
    {
     "name": "stdout",
     "output_type": "stream",
     "text": [
      "{'УТРАТИТЬ': {'МЕРКНУТЬ': {}, 'РАЗРЯДИТЬСЯ, ПОТЕРЯТЬ ЗАРЯД': {}, 'НЕМЕТЬ, ЗАНЕМЕТЬ': {'ДЕРЕВЕНЕТЬ,КОСТЕНЕТЬ (НЕМЕТЬ, ВОЗМОЖНО ОТВЕРДЕВАЯ)': {'КОЧЕНЕТЬ ОТ ХОЛОДА': {}}}, 'РАССТАТЬСЯ (ЛИШИТЬСЯ КОГО-ЧЕГО-Н.)': {'ОСТАВИТЬ ЗАНЯТИЕ': {'ЗАПУСТИТЬ ЗАНЯТИЯ': {}, 'ВЫЙТИ ИЗ СОСТАВА': {}}}, 'ПОПЛАТИТЬСЯ': {}, 'УТРАТИТЬ ИМУЩЕСТВО': {'ПОГОРЕТЬ (УТРАТИТЬ ИМУЩЕСТВО)': {}, 'ТЕРЯТЬ, УТЕРЯТЬ': {'ЗАБЫТЬ ВЗЯТЬ': {}, 'ДЕВАТЬ НЕИЗВЕСТНО КУДА': {}}, 'БЕДНЕТЬ (СТАНОВИТЬСЯ НЕИМУЩИМ)': {'НИЩАТЬ, ВПАДАТЬ В НИЩЕТУ': {}, 'РАЗОРИТЬСЯ': {'БАНКРОТСТВО, НЕСОСТОЯТЕЛЬНОСТЬ': {}}}}, 'ОТВЫКНУТЬ, УТРАТИТЬ ПРИВЫЧКУ': {}, 'УТРАТИТЬ СВОЮ ЧАСТЬ': {'РОНЯТЬ ПОКРОВ': {'ЛИНЬКА ЖИВОТНЫХ': {}}, 'ЛЫСЕТЬ, ТЕРЯТЬ ВОЛОСЫ': {}, 'ТРАВМАТИЧЕСКАЯ АМПУТАЦИЯ': {}}, 'ОСИРОТЕТЬ, ОСТАТЬСЯ СИРОТОЙ': {}, 'РАСПРОСТИТЬСЯ (ЛИШИТЬСЯ)': {}, 'ОПУСТЕТЬ, СТАТЬ ПУСТЫМ': {'ОБЕЗЛЮДЕТЬ': {}, 'ОСИРОТЕТЬ (ОПУСТЕТЬ, СТАТЬ НЕУСТРОЕННЫМ)': {}, 'ВЫМЕРЕТЬ (ОПУСТЕТЬ)': {}, 'ЗАСНУТЬ (ОПУСТЕТЬ И ЗАТИХНУТЬ)': {}}}}\n"
     ]
    }
   ],
   "source": [
    "print(tree)"
   ]
  },
  {
   "cell_type": "code",
   "execution_count": 30,
   "metadata": {
    "collapsed": false
   },
   "outputs": [
    {
     "name": "stdout",
     "output_type": "stream",
     "text": [
      "{'id': 'N12683', 'part_of_speech': 'N', 'ruthes_name': 'СИСТЕМНЫЙ АДМИНИСТРАТОР', 'definition': 'специалист, занимающийся наладкой и поддержанием работоспособности компьютерной сети, парка компьютеров', 'sense_list': ['113534'], 'hypernym_for': [], 'hyponym_for': ['N34464', 'N38221'], 'domain_for': [], 'antonym': [], 'pos_synonymy': []}\n"
     ]
    }
   ],
   "source": [
    "print (ruwordnet.id2synset['N12683'])"
   ]
  },
  {
   "cell_type": "code",
   "execution_count": 91,
   "metadata": {
    "collapsed": false
   },
   "outputs": [
    {
     "data": {
      "text/plain": [
       "['A12648',\n",
       " 'A12649',\n",
       " 'A12650',\n",
       " 'A12651',\n",
       " 'A12652',\n",
       " 'A12653',\n",
       " 'A12654',\n",
       " 'A12655',\n",
       " 'A12656',\n",
       " 'A12657']"
      ]
     },
     "execution_count": 91,
     "metadata": {},
     "output_type": "execute_result"
    }
   ],
   "source": [
    "list(ruwordnet.id2synset.keys())[-10:]"
   ]
  },
  {
   "cell_type": "code",
   "execution_count": 93,
   "metadata": {
    "collapsed": false
   },
   "outputs": [
    {
     "name": "stdout",
     "output_type": "stream",
     "text": [
      "{'id': 'A12654', 'part_of_speech': 'Adj', 'ruthes_name': 'КУРОРТ', 'definition': 'местность с целебными природными свойствами и с учреждениями для лечебных целей и для отдыха', 'sense_list': ['48528'], 'hypernym_for': [], 'domain_for': [], 'antonym': [], 'pos_synonymy': []}\n"
     ]
    }
   ],
   "source": [
    "print(ruwordnet.id2synset['A12654'])"
   ]
  },
  {
   "cell_type": "code",
   "execution_count": 96,
   "metadata": {
    "collapsed": false
   },
   "outputs": [
    {
     "name": "stdout",
     "output_type": "stream",
     "text": [
      "Number of senses: 130416\n",
      "Number of synses: 49492\n"
     ]
    }
   ],
   "source": [
    "ruwordnet.get_stat()"
   ]
  },
  {
   "cell_type": "code",
   "execution_count": 17,
   "metadata": {
    "collapsed": false
   },
   "outputs": [
    {
     "data": {
      "text/plain": [
       "'!\"#$%&\\'()*+,-./:;<=>?@[\\\\]^_`{|}~'"
      ]
     },
     "execution_count": 17,
     "metadata": {},
     "output_type": "execute_result"
    }
   ],
   "source": [
    "import string\n",
    "string.punctuation"
   ]
  },
  {
   "cell_type": "code",
   "execution_count": 47,
   "metadata": {
    "collapsed": true
   },
   "outputs": [],
   "source": [
    "tree = etree.parse(\"../rwn-xml-2017-05-13/synsets.N.xml\")"
   ]
  },
  {
   "cell_type": "code",
   "execution_count": 48,
   "metadata": {
    "collapsed": false
   },
   "outputs": [],
   "source": [
    "root = tree.getroot()"
   ]
  },
  {
   "cell_type": "code",
   "execution_count": 49,
   "metadata": {
    "collapsed": false
   },
   "outputs": [
    {
     "data": {
      "text/plain": [
       "<Element 'synsets' at 0x7ff849f2acc8>"
      ]
     },
     "execution_count": 49,
     "metadata": {},
     "output_type": "execute_result"
    }
   ],
   "source": [
    "root"
   ]
  },
  {
   "cell_type": "code",
   "execution_count": 78,
   "metadata": {
    "collapsed": false,
    "scrolled": true
   },
   "outputs": [
    {
     "name": "stdout",
     "output_type": "stream",
     "text": [
      "<Element 'synset' at 0x7ff849f2ad18>\n",
      "{'id': 'N12658', 'ruthes_name': 'КОДИРОВАНИЕ ОТ ЗАВИСИМОСТИ', 'definition': '', 'part_of_speech': 'N'}\n",
      "<Element 'sense' at 0x7ff849f2ad68> {'id': '115643'}\n",
      "<Element 'sense' at 0x7ff849f2adb8> {'id': '115640'}\n",
      "<Element 'sense' at 0x7ff849f2ae08> {'id': '115641'}\n",
      "<Element 'sense' at 0x7ff849f2ae58> {'id': '115642'}\n",
      "<Element 'synset' at 0x7ff849f2aea8>\n",
      "{'id': 'N12659', 'ruthes_name': 'ПОДГОТОВИТЬ К ИЗВЕСТИЮ', 'definition': 'готовить, настраивать соответствующим образом для восприятия чего-либо (какого-либо известия, сообщения и т. п.)', 'part_of_speech': 'N'}\n",
      "<Element 'sense' at 0x7ff849f2aef8> {'id': '117307'}\n",
      "<Element 'sense' at 0x7ff849f2af48> {'id': '117313'}\n",
      "<Element 'synset' at 0x7ff849f2af98>\n",
      "{'id': 'N12660', 'ruthes_name': 'ПОЛОГ', 'definition': '', 'part_of_speech': 'N'}\n",
      "<Element 'sense' at 0x7ff84f050048> {'id': '29834'}\n",
      "<Element 'synset' at 0x7ff84f050098>\n",
      "{'id': 'N12661', 'ruthes_name': 'СВЕРНУТЬ (СЛОМАТЬ)', 'definition': '', 'part_of_speech': 'N'}\n",
      "<Element 'sense' at 0x7ff84f0500e8> {'id': '96991'}\n",
      "<Element 'sense' at 0x7ff84f050138> {'id': '96989'}\n",
      "<Element 'synset' at 0x7ff84f050188>\n",
      "{'id': 'N12662', 'ruthes_name': 'ОБЛАВА НА ЗВЕРЯ', 'definition': 'охота, при которой загонщики окружают то место, где находится зверь, и гонят его на сидящих в засаде охотников; цепь загонщиков, окружающих зверя', 'part_of_speech': 'N'}\n",
      "<Element 'sense' at 0x7ff84f0501d8> {'id': '50632'}\n",
      "<Element 'sense' at 0x7ff84f050228> {'id': '50628'}\n",
      "<Element 'sense' at 0x7ff84f050278> {'id': '50630'}\n",
      "<Element 'sense' at 0x7ff84f0502c8> {'id': '50633'}\n",
      "<Element 'sense' at 0x7ff84f050318> {'id': '50629'}\n",
      "<Element 'synset' at 0x7ff84f050368>\n",
      "{'id': 'N12663', 'ruthes_name': 'РАЗВОДЫ (УЗОР)', 'definition': 'крупный, с неопределенным контуром узор, рисунок', 'part_of_speech': 'N'}\n",
      "<Element 'sense' at 0x7ff84f0503b8> {'id': '76909'}\n",
      "<Element 'synset' at 0x7ff84f050408>\n",
      "{'id': 'N12664', 'ruthes_name': 'ПЕРЕТЕРЕТЬСЯ (РАЗДЕЛИТЬСЯ)', 'definition': '', 'part_of_speech': 'N'}\n",
      "<Element 'sense' at 0x7ff84f050458> {'id': '122492'}\n",
      "<Element 'synset' at 0x7ff84f0504a8>\n",
      "{'id': 'N12665', 'ruthes_name': 'АНКЕТИРОВАНИЕ', 'definition': 'опрос при помощи анкет', 'part_of_speech': 'N'}\n",
      "<Element 'sense' at 0x7ff84f0504f8> {'id': '100990'}\n",
      "<Element 'synset' at 0x7ff84f050548>\n",
      "{'id': 'N12666', 'ruthes_name': 'ПРАВАЯ ПОЛИТИЧЕСКАЯ ОРИЕНТАЦИЯ', 'definition': '', 'part_of_speech': 'N'}\n",
      "<Element 'sense' at 0x7ff84f050598> {'id': '52625'}\n",
      "<Element 'sense' at 0x7ff84f0505e8> {'id': '52621'}\n",
      "<Element 'sense' at 0x7ff84f050638> {'id': '52624'}\n",
      "<Element 'sense' at 0x7ff84f050688> {'id': '52626'}\n",
      "<Element 'sense' at 0x7ff84f0506d8> {'id': '52623'}\n",
      "<Element 'sense' at 0x7ff84f050728> {'id': '52622'}\n",
      "<Element 'synset' at 0x7ff84f050778>\n",
      "{'id': 'N12667', 'ruthes_name': 'ИСПОВЕДЬ (РЕЛИГИОЗНЫЙ ОБРЯД)', 'definition': 'в христианстве обряд покаяния в грехах перед священником и получения от него отпущения грехов', 'part_of_speech': 'N'}\n",
      "<Element 'sense' at 0x7ff84f0507c8> {'id': '91701'}\n",
      "<Element 'sense' at 0x7ff84f050818> {'id': '91706'}\n",
      "<Element 'sense' at 0x7ff84f050868> {'id': '91705'}\n",
      "<Element 'sense' at 0x7ff84f0508b8> {'id': '91704'}\n",
      "<Element 'sense' at 0x7ff84f050908> {'id': '91703'}\n",
      "<Element 'sense' at 0x7ff84f050958> {'id': '91700'}\n",
      "<Element 'sense' at 0x7ff84f0509a8> {'id': '91702'}\n"
     ]
    }
   ],
   "source": [
    "for s in root[:10]:\n",
    "    print(s)\n",
    "    print(s.attrib)\n",
    "    for v in s:\n",
    "        print(v, v.attrib)"
   ]
  },
  {
   "cell_type": "code",
   "execution_count": 11,
   "metadata": {
    "collapsed": false
   },
   "outputs": [
    {
     "data": {
      "text/plain": [
       "77372"
      ]
     },
     "execution_count": 11,
     "metadata": {},
     "output_type": "execute_result"
    }
   ],
   "source": [
    "len(root)"
   ]
  },
  {
   "cell_type": "code",
   "execution_count": 12,
   "metadata": {
    "collapsed": false
   },
   "outputs": [
    {
     "name": "stdout",
     "output_type": "stream",
     "text": [
      "77374 ../rwn-xml-2017-05-13/senses.N.xml\r\n"
     ]
    }
   ],
   "source": [
    "!wc -l ../rwn-xml-2017-05-13/senses.N.xml"
   ]
  },
  {
   "cell_type": "code",
   "execution_count": null,
   "metadata": {
    "collapsed": true
   },
   "outputs": [],
   "source": []
  }
 ],
 "metadata": {
  "anaconda-cloud": {},
  "kernelspec": {
   "display_name": "Python [conda env:condapython3]",
   "language": "python",
   "name": "conda-env-condapython3-py"
  },
  "language_info": {
   "codemirror_mode": {
    "name": "ipython",
    "version": 3
   },
   "file_extension": ".py",
   "mimetype": "text/x-python",
   "name": "python",
   "nbconvert_exporter": "python",
   "pygments_lexer": "ipython3",
   "version": "3.6.3"
  }
 },
 "nbformat": 4,
 "nbformat_minor": 2
}
