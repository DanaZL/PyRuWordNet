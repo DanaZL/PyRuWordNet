{
 "cells": [
  {
   "cell_type": "code",
   "execution_count": 11,
   "metadata": {
    "collapsed": false
   },
   "outputs": [],
   "source": [
    "import os\n",
    "from copy import deepcopy\n",
    "import xml.etree.ElementTree as etree"
   ]
  },
  {
   "cell_type": "code",
   "execution_count": 26,
   "metadata": {
    "collapsed": false
   },
   "outputs": [],
   "source": [
    "class Sense(object):\n",
    "    def __init__(self,\n",
    "                 id,\n",
    "                 synset_id,\n",
    "                 synt_type,\n",
    "                 name,\n",
    "                 lemma,\n",
    "                 main_word,\n",
    "                 poses,\n",
    "                 meaning):\n",
    "        \"\"\"\n",
    "        Sense class\n",
    "        \"\"\"\n",
    "        self.id = id\n",
    "        self.synset_id = synset_id\n",
    "        self.synt_type = synt_type\n",
    "        self.name = name\n",
    "        self.lemma = lemma\n",
    "        self.main_word = main_word\n",
    "        self.poses = poses\n",
    "        self.meaning = meaning\n",
    "        self.composed_of = None\n",
    "        self.derived_from = None\n",
    "        \n",
    "    def __str__(self):\n",
    "        return str(self.__dict__)\n",
    "    \n",
    "# <synset id=\"A4790\" ruthes_name=\"ЦИРКОВОЙ МАНЕЖ\"\n",
    "# definition=\"большая круглая площадка посреди цирка, место, где выступают артисты\" part_of_speech=\"Adj\">\n",
    "#     <sense id=\"21311\">АРЕННЫЙ</sense>\n",
    "#     <sense id=\"21312\">МАНЕЖНЫЙ</sense>\n",
    "# </synset>\n",
    "        \n",
    "class Synset(object):\n",
    "    def __init__(self,\n",
    "                 id,\n",
    "                 ruthes_name,\n",
    "                 definition,\n",
    "                 part_of_speech\n",
    "                ):\n",
    "        self.id = id\n",
    "        self.part_of_speech = part_of_speech\n",
    "        self.ruthes_name = ruthes_name\n",
    "        self.definition = definition\n",
    "        self.sense_list = []\n",
    "        self.hypernym_for = []\n",
    "        self.hyponym_for = []\n",
    "        self.domain_for = []\n",
    "        self.antonym = []\n",
    "        self.pos_synonymy = []\n",
    "        \n",
    "    def __str__(self):\n",
    "        return str(self.__dict__)\n",
    "        \n",
    "        \n",
    "class RuWordNet(object):\n",
    "    def __init__(self, ruwordnet_path):\n",
    "        self.ruwordnet_path = ruwordnet_path\n",
    "        self.id2sense = {}\n",
    "        self.id2synset = {}\n",
    "        \n",
    "        self.__load_senses_and_synsets()\n",
    "        self.__load_relations()\n",
    "    \n",
    "    def __load_senses_and_synsets(self):\n",
    "        n_senses_path = os.path.join(self.ruwordnet_path, \"senses.N.xml\")\n",
    "        v_senses_path = os.path.join(self.ruwordnet_path, \"senses.V.xml\")\n",
    "        a_senses_path = os.path.join(self.ruwordnet_path, \"senses.A.xml\")\n",
    "        n_synsets_path = os.path.join(self.ruwordnet_path, \"synsets.N.xml\")\n",
    "        v_synsets_path = os.path.join(self.ruwordnet_path, \"synsets.V.xml\")\n",
    "        a_synsets_path = os.path.join(self.ruwordnet_path, \"synsets.A.xml\")\n",
    "        senses_synsets_paths = [n_senses_path, v_senses_path, a_senses_path,\n",
    "                        n_synsets_path, v_synsets_path, a_synsets_path]\n",
    "        \n",
    "        for path_idx, path in enumerate(senses_synsets_paths):\n",
    "            if not os.path.exists(path):\n",
    "                print(\"File {} does not exist! Stop loading RuWordNet\".format(path))\n",
    "                break\n",
    "            \n",
    "            print(\"Loading senses/synsets from {} ...\".format(path))\n",
    "            tree = etree.parse(path)\n",
    "            root = tree.getroot()\n",
    "            for value in root:\n",
    "                value_id = value.attrib[\"id\"]\n",
    "                if path_idx < 3:\n",
    "                    assert value_id not in self.id2sense, 'Error: sense id {} already exist'.format(value_id)\n",
    "                    self.id2sense[value_id] = Sense(**value.attrib)\n",
    "                else:\n",
    "                    assert value_id not in self.id2synset, 'Error: synset id {} already exist'.format(value_id)\n",
    "                    new_synset = Synset(**value.attrib)\n",
    "                    for sense in value:\n",
    "                        new_synset.sense_list.append(sense.attrib['id'])\n",
    "                    self.id2synset[value_id] = new_synset\n",
    "                    \n",
    "        self.get_stat()\n",
    "        \n",
    "    def __load_relations(self):\n",
    "        \"\"\"\n",
    "        Only hypernymy loading today\n",
    "        \"\"\"\n",
    "        n_relations_path = os.path.join(self.ruwordnet_path, \"synset_relations.N.xml\")\n",
    "        v_relations_path = os.path.join(self.ruwordnet_path, \"synset_relations.V.xml\")\n",
    "        a_relations_path = os.path.join(self.ruwordnet_path, \"synset_relations.A.xml\")\n",
    "        \n",
    "        relations_paths = [n_relations_path, v_relations_path, a_relations_path]\n",
    "        \n",
    "        for path_idx, path in enumerate(relations_paths):\n",
    "            if not os.path.exists(path):\n",
    "                print(\"File {} does not exist! Stop loading RuWordNet\".format(path))\n",
    "                break\n",
    "                \n",
    "            print(\"Loading relations from {} ...\".format(path))\n",
    "            tree = etree.parse(path)\n",
    "            root = tree.getroot()\n",
    "            for value in root:\n",
    "                parent_id = value.attrib[\"parent_id\"]\n",
    "                child_id = value.attrib[\"child_id\"]\n",
    "                relation_name = value.attrib[\"name\"]\n",
    "                \n",
    "                if relation_name == \"hypernym\":\n",
    "                    self.id2synset[child_id].hypernym_for.append(child_id)\n",
    "                    self.id2synset[parent_id].hyponym_for.append(child_id)\n",
    "                    \n",
    "                \n",
    "    def get_stat(self):\n",
    "        print(\"Number of senses: {}\".format(len(self.id2sense)))\n",
    "        print(\"Number of synsets: {}\".format(len(self.id2synset)))\n",
    "        \n",
    "    def get_roots(self):\n",
    "        root_synsets = []\n",
    "        for synset_id, synset in self.id2synset.items():\n",
    "            if len(synset.hyponym_for) == 0 and len(synset.hypernym_for) != 0:\n",
    "                root_synsets.append(deepcopy(synset))\n",
    "        return root_synsets"
   ]
  },
  {
   "cell_type": "code",
   "execution_count": 27,
   "metadata": {
    "collapsed": false
   },
   "outputs": [
    {
     "name": "stdout",
     "output_type": "stream",
     "text": [
      "Loading senses/synsets from ../rwn-xml-2017-05-13/senses.N.xml ...\n",
      "Loading senses/synsets from ../rwn-xml-2017-05-13/senses.V.xml ...\n",
      "Loading senses/synsets from ../rwn-xml-2017-05-13/senses.A.xml ...\n",
      "Loading senses/synsets from ../rwn-xml-2017-05-13/synsets.N.xml ...\n",
      "Loading senses/synsets from ../rwn-xml-2017-05-13/synsets.V.xml ...\n",
      "Loading senses/synsets from ../rwn-xml-2017-05-13/synsets.A.xml ...\n",
      "Number of senses: 130416\n",
      "Number of synsets: 49492\n",
      "Loading relations from ../rwn-xml-2017-05-13/synset_relations.N.xml ...\n",
      "Loading relations from ../rwn-xml-2017-05-13/synset_relations.V.xml ...\n",
      "Loading relations from ../rwn-xml-2017-05-13/synset_relations.A.xml ...\n"
     ]
    }
   ],
   "source": [
    "ruwordnet = RuWordNet(\"../rwn-xml-2017-05-13/\")"
   ]
  },
  {
   "cell_type": "code",
   "execution_count": 28,
   "metadata": {
    "collapsed": false
   },
   "outputs": [
    {
     "name": "stdout",
     "output_type": "stream",
     "text": [
      "459\n"
     ]
    }
   ],
   "source": [
    "roots = ruwordnet.get_roots()\n",
    "print(len(roots))"
   ]
  },
  {
   "cell_type": "code",
   "execution_count": 29,
   "metadata": {
    "collapsed": false
   },
   "outputs": [
    {
     "name": "stdout",
     "output_type": "stream",
     "text": [
      "{'id': 'N13124', 'part_of_speech': 'N', 'ruthes_name': 'СЛАВЯНЕ', 'definition': '', 'sense_list': ['97323', '97322', '97325'], 'hypernym_for': ['N13124', 'N13124', 'N13124'], 'hyponym_for': [], 'domain_for': [], 'antonym': [], 'pos_synonymy': []}\n",
      "{'id': 'N13642', 'part_of_speech': 'N', 'ruthes_name': 'РОЛЬ, ПОЛОЖЕНИЕ, МЕСТО', 'definition': 'положение кого-либо в обществе, роль, отведенная кому-либо в обществе, в какой-либо деятельности', 'sense_list': ['12476', '12477', '12479'], 'hypernym_for': ['N13642', 'N13642', 'N13642', 'N13642', 'N13642', 'N13642', 'N13642', 'N13642', 'N13642', 'N13642', 'N13642', 'N13642', 'N13642', 'N13642', 'N13642', 'N13642', 'N13642', 'N13642', 'N13642', 'N13642', 'N13642', 'N13642', 'N13642', 'N13642', 'N13642', 'N13642'], 'hyponym_for': [], 'domain_for': [], 'antonym': [], 'pos_synonymy': []}\n",
      "{'id': 'N14572', 'part_of_speech': 'N', 'ruthes_name': 'КАВКАЗЦЫ', 'definition': '', 'sense_list': ['20079', '20078', '20073', '20074', '20075', '20076', '20077'], 'hypernym_for': ['N14572', 'N14572', 'N14572', 'N14572', 'N14572', 'N14572', 'N14572', 'N14572'], 'hyponym_for': [], 'domain_for': [], 'antonym': [], 'pos_synonymy': []}\n",
      "{'id': 'N15081', 'part_of_speech': 'N', 'ruthes_name': 'ВАЙНАХИ', 'definition': '', 'sense_list': ['67593'], 'hypernym_for': ['N15081', 'N15081'], 'hyponym_for': [], 'domain_for': [], 'antonym': [], 'pos_synonymy': []}\n",
      "{'id': 'N15553', 'part_of_speech': 'N', 'ruthes_name': 'СЕМИТЫ', 'definition': 'группа близких по языку народов, населяющих или населявших Северную и Восточную Африку и Юго-Западную Азию (к которой относятся древние вавилоняне, ассирийцы, финикийцы, иудеи итп, а также современные арабы, сирийцы, евреи, эфиопы)', 'sense_list': ['54631', '54632'], 'hypernym_for': ['N15553', 'N15553'], 'hyponym_for': [], 'domain_for': [], 'antonym': [], 'pos_synonymy': []}\n",
      "{'id': 'N17250', 'part_of_speech': 'N', 'ruthes_name': 'ПОСТОЯННАЯ СУЩНОСТЬ', 'definition': '', 'sense_list': ['120116'], 'hypernym_for': ['N17250', 'N17250', 'N17250', 'N17250', 'N17250', 'N17250', 'N17250', 'N17250', 'N17250', 'N17250', 'N17250', 'N17250'], 'hyponym_for': [], 'domain_for': [], 'antonym': [], 'pos_synonymy': []}\n",
      "{'id': 'N18965', 'part_of_speech': 'N', 'ruthes_name': 'АДЫГИ', 'definition': '', 'sense_list': ['7985'], 'hypernym_for': ['N18965', 'N18965', 'N18965'], 'hyponym_for': [], 'domain_for': [], 'antonym': [], 'pos_synonymy': []}\n",
      "{'id': 'N21422', 'part_of_speech': 'N', 'ruthes_name': 'ВАРИАНТ, РАЗНОВИДНОСТЬ', 'definition': 'разновидность, видоизменение чего-либо', 'sense_list': ['67625', '67626', '67628'], 'hypernym_for': ['N21422', 'N21422', 'N21422', 'N21422', 'N21422', 'N21422', 'N21422', 'N21422', 'N21422', 'N21422', 'N21422', 'N21422', 'N21422', 'N21422', 'N21422', 'N21422', 'N21422'], 'hyponym_for': [], 'domain_for': [], 'antonym': [], 'pos_synonymy': []}\n",
      "{'id': 'N22463', 'part_of_speech': 'N', 'ruthes_name': 'ХОЛМ (ВОЗВЫШЕННОСТЬ)', 'definition': 'холм, горка', 'sense_list': ['14547', '14548', '14549'], 'hypernym_for': ['N22463'], 'hyponym_for': [], 'domain_for': [], 'antonym': [], 'pos_synonymy': []}\n",
      "{'id': 'N25077', 'part_of_speech': 'N', 'ruthes_name': 'ПРОИСХОДЯЩАЯ СУЩНОСТЬ', 'definition': '', 'sense_list': ['101686', '101685'], 'hypernym_for': ['N25077', 'N25077', 'N25077', 'N25077', 'N25077', 'N25077', 'N25077', 'N25077', 'N25077', 'N25077', 'N25077', 'N25077', 'N25077', 'N25077', 'N25077', 'N25077', 'N25077', 'N25077', 'N25077', 'N25077', 'N25077', 'N25077', 'N25077', 'N25077', 'N25077'], 'hyponym_for': [], 'domain_for': [], 'antonym': [], 'pos_synonymy': []}\n",
      "{'id': 'N25902', 'part_of_speech': 'N', 'ruthes_name': 'НАГОРЬЕ', 'definition': 'обширный по площади участок земной поверхности, представляющий сочетание плоскогорий, горных хребтов и массивов, иногда чередующихся с котловинами, плато и долинами и в целом расположенный сравнительно высоко над уровнем моря', 'sense_list': ['73326'], 'hypernym_for': ['N25902', 'N25902'], 'hyponym_for': [], 'domain_for': [], 'antonym': [], 'pos_synonymy': []}\n",
      "{'id': 'N28017', 'part_of_speech': 'N', 'ruthes_name': 'ГРАФСТВО ВЕЛИКОБРИТАНИИ', 'definition': '', 'sense_list': ['103288'], 'hypernym_for': ['N28017'], 'hyponym_for': [], 'domain_for': [], 'antonym': [], 'pos_synonymy': []}\n",
      "{'id': 'N31548', 'part_of_speech': 'N', 'ruthes_name': 'ГОРА', 'definition': 'сильно возвышенная местность, большой холм', 'sense_list': ['9019', '9015', '9018', '9014'], 'hypernym_for': ['N31548', 'N31548', 'N31548', 'N31548', 'N31548', 'N31548', 'N31548', 'N31548', 'N31548', 'N31548', 'N31548', 'N31548', 'N31548', 'N31548', 'N31548', 'N31548', 'N31548', 'N31548', 'N31548'], 'hyponym_for': [], 'domain_for': [], 'antonym': [], 'pos_synonymy': []}\n",
      "{'id': 'N31905', 'part_of_speech': 'N', 'ruthes_name': 'СОСТАВНАЯ ЧАСТЬ', 'definition': 'одна из составных частей какого-либо целого', 'sense_list': ['34035', '34036'], 'hypernym_for': ['N31905', 'N31905', 'N31905', 'N31905', 'N31905', 'N31905', 'N31905', 'N31905', 'N31905', 'N31905', 'N31905', 'N31905', 'N31905', 'N31905', 'N31905', 'N31905', 'N31905', 'N31905', 'N31905', 'N31905', 'N31905', 'N31905', 'N31905', 'N31905', 'N31905', 'N31905', 'N31905', 'N31905', 'N31905', 'N31905', 'N31905', 'N31905', 'N31905', 'N31905', 'N31905', 'N31905', 'N31905', 'N31905', 'N31905', 'N31905', 'N31905', 'N31905', 'N31905', 'N31905', 'N31905', 'N31905', 'N31905'], 'hyponym_for': [], 'domain_for': [], 'antonym': [], 'pos_synonymy': []}\n",
      "{'id': 'N34096', 'part_of_speech': 'N', 'ruthes_name': 'СОВОКУПНОСТЬ, ЦЕЛОЕ', 'definition': 'совокупность каких-либо объектов, образующих единое целое', 'sense_list': ['33987', '33988', '33989'], 'hypernym_for': ['N34096', 'N34096', 'N34096', 'N34096', 'N34096', 'N34096', 'N34096', 'N34096', 'N34096', 'N34096', 'N34096', 'N34096', 'N34096', 'N34096', 'N34096', 'N34096', 'N34096', 'N34096', 'N34096', 'N34096', 'N34096', 'N34096', 'N34096', 'N34096', 'N34096', 'N34096', 'N34096', 'N34096', 'N34096', 'N34096', 'N34096', 'N34096', 'N34096', 'N34096', 'N34096', 'N34096'], 'hyponym_for': [], 'domain_for': [], 'antonym': [], 'pos_synonymy': []}\n",
      "{'id': 'N36988', 'part_of_speech': 'N', 'ruthes_name': 'ОТНОШЕНИЕ МЕЖДУ СУЩНОСТЯМИ', 'definition': '', 'sense_list': ['31131', '31132', '31134', '31135'], 'hypernym_for': ['N36988', 'N36988', 'N36988', 'N36988', 'N36988', 'N36988', 'N36988', 'N36988', 'N36988', 'N36988', 'N36988', 'N36988', 'N36988', 'N36988', 'N36988', 'N36988', 'N36988', 'N36988', 'N36988', 'N36988', 'N36988', 'N36988', 'N36988', 'N36988', 'N36988', 'N36988', 'N36988', 'N36988', 'N36988', 'N36988', 'N36988', 'N36988', 'N36988', 'N36988', 'N36988'], 'hyponym_for': [], 'domain_for': [], 'antonym': [], 'pos_synonymy': []}\n",
      "{'id': 'N41294', 'part_of_speech': 'N', 'ruthes_name': 'НОВШЕСТВО', 'definition': 'что-либо новое, только что вошедшее в обиход', 'sense_list': ['73822', '73823'], 'hypernym_for': ['N41294', 'N41294', 'N41294', 'N41294', 'N41294'], 'hyponym_for': [], 'domain_for': [], 'antonym': [], 'pos_synonymy': []}\n",
      "{'id': 'V42284', 'part_of_speech': 'V', 'ruthes_name': 'РЕАНИМАЦИЯ', 'definition': 'комплекс неотложных медицинских мероприятий, направленных на восстановление резко нарушенных или утраченных жизненно важных функций организма, находящегося в предсмертном состоянии; оживление организма после клинической смерти', 'sense_list': ['20284', '20285'], 'hypernym_for': ['V42284'], 'hyponym_for': [], 'domain_for': [], 'antonym': [], 'pos_synonymy': []}\n",
      "{'id': 'V42385', 'part_of_speech': 'V', 'ruthes_name': 'СОХРАНИТЬ СОСТОЯНИЕ', 'definition': '', 'sense_list': ['110357', '110356', '110355'], 'hypernym_for': ['V42385', 'V42385', 'V42385', 'V42385', 'V42385', 'V42385', 'V42385', 'V42385', 'V42385', 'V42385', 'V42385', 'V42385'], 'hyponym_for': [], 'domain_for': [], 'antonym': [], 'pos_synonymy': []}\n",
      "{'id': 'V42680', 'part_of_speech': 'V', 'ruthes_name': 'ОТНОШЕНИЕ МЕЖДУ СУЩНОСТЯМИ', 'definition': '', 'sense_list': ['31133'], 'hypernym_for': ['V42680', 'V42680', 'V42680', 'V42680', 'V42680', 'V42680', 'V42680', 'V42680', 'V42680', 'V42680', 'V42680', 'V42680', 'V42680', 'V42680', 'V42680', 'V42680', 'V42680', 'V42680', 'V42680', 'V42680', 'V42680', 'V42680', 'V42680', 'V42680', 'V42680', 'V42680', 'V42680', 'V42680', 'V42680', 'V42680', 'V42680', 'V42680', 'V42680', 'V42680', 'V42680', 'V42680', 'V42680', 'V42680', 'V42680', 'V42680', 'V42680', 'V42680', 'V42680', 'V42680', 'V42680', 'V42680', 'V42680', 'V42680', 'V42680', 'V42680', 'V42680', 'V42680'], 'hyponym_for': [], 'domain_for': [], 'antonym': [], 'pos_synonymy': []}\n",
      "{'id': 'V42698', 'part_of_speech': 'V', 'ruthes_name': 'ДОБРАТЬСЯ ДО МЕСТА', 'definition': 'перемещаясь, дойти, доехать, долететь и\\xa0т.\\xa0п. до какого-либо места, предела, поравняться с чем-либо, кем-либо', 'sense_list': ['70099', '70104', '70101', '70105', '70102', '70100', '70098', '70106', '70103'], 'hypernym_for': ['V42698', 'V42698', 'V42698', 'V42698', 'V42698', 'V42698', 'V42698', 'V42698', 'V42698', 'V42698', 'V42698'], 'hyponym_for': [], 'domain_for': [], 'antonym': [], 'pos_synonymy': []}\n",
      "{'id': 'V42860', 'part_of_speech': 'V', 'ruthes_name': 'УТРАТИТЬ', 'definition': 'переставать владеть кем-либо, чем-либо; терять, утрачивать кого-либо, что-либо', 'sense_list': ['52529', '52528', '52530', '52531', '52532', '52533'], 'hypernym_for': ['V42860', 'V42860', 'V42860', 'V42860', 'V42860', 'V42860', 'V42860', 'V42860', 'V42860', 'V42860', 'V42860'], 'hyponym_for': [], 'domain_for': [], 'antonym': [], 'pos_synonymy': []}\n",
      "{'id': 'V42882', 'part_of_speech': 'V', 'ruthes_name': 'РАБОТА, ФУНКЦИОНИРОВАНИЕ', 'definition': 'выполнять свои функции, быть в действии, исправно работать', 'sense_list': ['53381', '53384', '53387', '53385', '53382', '53383'], 'hypernym_for': ['V42882', 'V42882', 'V42882', 'V42882', 'V42882'], 'hyponym_for': [], 'domain_for': [], 'antonym': [], 'pos_synonymy': []}\n",
      "{'id': 'V42993', 'part_of_speech': 'V', 'ruthes_name': 'ИЗМЕНИТЬСЯ, ИЗМЕНЕНИЕ', 'definition': '', 'sense_list': ['92804', '92800', '92797', '92802', '92803', '92801'], 'hypernym_for': ['V42993', 'V42993', 'V42993', 'V42993', 'V42993', 'V42993', 'V42993', 'V42993', 'V42993', 'V42993', 'V42993', 'V42993', 'V42993', 'V42993', 'V42993', 'V42993', 'V42993', 'V42993', 'V42993', 'V42993', 'V42993', 'V42993', 'V42993', 'V42993', 'V42993', 'V42993', 'V42993', 'V42993', 'V42993', 'V42993', 'V42993', 'V42993', 'V42993', 'V42993', 'V42993', 'V42993', 'V42993', 'V42993', 'V42993', 'V42993', 'V42993', 'V42993', 'V42993', 'V42993', 'V42993', 'V42993', 'V42993', 'V42993', 'V42993', 'V42993', 'V42993', 'V42993', 'V42993', 'V42993', 'V42993', 'V42993', 'V42993', 'V42993', 'V42993', 'V42993', 'V42993', 'V42993', 'V42993', 'V42993', 'V42993', 'V42993', 'V42993', 'V42993', 'V42993', 'V42993', 'V42993', 'V42993'], 'hyponym_for': [], 'domain_for': [], 'antonym': [], 'pos_synonymy': []}\n",
      "{'id': 'V43228', 'part_of_speech': 'V', 'ruthes_name': 'ТЕПЛООБМЕН', 'definition': '', 'sense_list': ['38362', '38365'], 'hypernym_for': ['V43228'], 'hyponym_for': [], 'domain_for': [], 'antonym': [], 'pos_synonymy': []}\n",
      "{'id': 'V43623', 'part_of_speech': 'V', 'ruthes_name': 'СОХРАНИТЬСЯ БЕЗ ИЗМЕНЕНИЙ', 'definition': 'сохраняться, продолжать существование, пребывание в каком-либо месте или статусе, состоянии', 'sense_list': ['80209', '80211', '80226', '80212', '80228', '80227', '80210', '80215', '80214', '80213', '80216', '80225', '80219', '80224', '80221', '80222', '80223'], 'hypernym_for': ['V43623', 'V43623', 'V43623', 'V43623'], 'hyponym_for': [], 'domain_for': [], 'antonym': [], 'pos_synonymy': []}\n",
      "{'id': 'V43644', 'part_of_speech': 'V', 'ruthes_name': 'ВПАСТЬ В СОСТОЯНИЕ', 'definition': 'приходить в какое-либо физическое или психическое состояние; целиком отдаваться чему-либо', 'sense_list': ['44236', '44235', '44234', '44226', '44233', '44232', '44229', '44224', '44225'], 'hypernym_for': ['V43644', 'V43644', 'V43644', 'V43644', 'V43644', 'V43644', 'V43644'], 'hyponym_for': [], 'domain_for': [], 'antonym': [], 'pos_synonymy': []}\n",
      "{'id': 'V43792', 'part_of_speech': 'V', 'ruthes_name': 'ОРГАНИЗАЦИЯ, ОРГАНИЗОВАННОСТЬ', 'definition': 'чёткость структуры, порядок, слаженность и дисциплинированность как результат такого действия', 'sense_list': ['122304'], 'hypernym_for': ['V43792', 'V43792', 'V43792'], 'hyponym_for': [], 'domain_for': [], 'antonym': [], 'pos_synonymy': []}\n",
      "{'id': 'V43797', 'part_of_speech': 'V', 'ruthes_name': 'ПРОИЗОЙТИ, СЛУЧИТЬСЯ', 'definition': '', 'sense_list': ['8509', '8510', '8511', '8512', '8513', '8514', '8515', '8516', '8517', '8518', '8519', '8520', '8521', '8522', '8523', '8524', '8525'], 'hypernym_for': ['V43797', 'V43797', 'V43797', 'V43797', 'V43797', 'V43797', 'V43797', 'V43797', 'V43797', 'V43797', 'V43797', 'V43797', 'V43797', 'V43797', 'V43797', 'V43797', 'V43797', 'V43797'], 'hyponym_for': [], 'domain_for': [], 'antonym': [], 'pos_synonymy': []}\n",
      "{'id': 'V43814', 'part_of_speech': 'V', 'ruthes_name': 'ВИДИМЫЙ, ДОСТУПНЫЙ ЗРЕНИЮ', 'definition': '', 'sense_list': ['22507'], 'hypernym_for': ['V43814'], 'hyponym_for': [], 'domain_for': [], 'antonym': [], 'pos_synonymy': []}\n",
      "{'id': 'V43947', 'part_of_speech': 'V', 'ruthes_name': 'ВЫПОЛНИТЬ, ИСПОЛНИТЬ, ОСУЩЕСТВИТЬ', 'definition': 'претворять (претворить) в жизнь, осуществлять (осуществить)', 'sense_list': ['22266', '22267', '22269', '22270', '22271', '22272', '22273', '22274', '22275', '22276', '22277', '22278', '22279', '22280', '22281', '22282', '22283', '22284', '22285', '22288', '22289', '22292', '22293', '22295', '22296', '22298', '22299', '22300'], 'hypernym_for': ['V43947', 'V43947', 'V43947', 'V43947', 'V43947', 'V43947', 'V43947', 'V43947', 'V43947', 'V43947', 'V43947', 'V43947', 'V43947', 'V43947', 'V43947', 'V43947', 'V43947', 'V43947', 'V43947', 'V43947', 'V43947'], 'hyponym_for': [], 'domain_for': [], 'antonym': [], 'pos_synonymy': []}\n",
      "{'id': 'V44189', 'part_of_speech': 'V', 'ruthes_name': 'СОЕДИНИТЬСЯ В ОДНО ЦЕЛОЕ', 'definition': 'объединиться, образовать единое целое с чем-либо', 'sense_list': ['118452', '118453', '118450', '118451'], 'hypernym_for': ['V44189', 'V44189', 'V44189', 'V44189', 'V44189', 'V44189', 'V44189', 'V44189', 'V44189', 'V44189', 'V44189', 'V44189', 'V44189', 'V44189', 'V44189'], 'hyponym_for': [], 'domain_for': [], 'antonym': [], 'pos_synonymy': []}\n",
      "{'id': 'V44191', 'part_of_speech': 'V', 'ruthes_name': 'ПРАВО (ВОЗМОЖНОСТЬ)', 'definition': 'обусловленная законом возможность делать, совершать что-либо, пользоваться чем-либо', 'sense_list': ['30087'], 'hypernym_for': ['V44191', 'V44191', 'V44191', 'V44191', 'V44191'], 'hyponym_for': [], 'domain_for': [], 'antonym': [], 'pos_synonymy': []}\n",
      "{'id': 'V44392', 'part_of_speech': 'V', 'ruthes_name': 'ПОДДАТЬСЯ ДЕЙСТВИЮ', 'definition': '', 'sense_list': ['108222', '108224', '108225', '108226', '108227', '108223'], 'hypernym_for': ['V44392'], 'hyponym_for': [], 'domain_for': [], 'antonym': [], 'pos_synonymy': []}\n",
      "{'id': 'V44597', 'part_of_speech': 'V', 'ruthes_name': 'СОН, СОСТОЯНИЕ СНА', 'definition': 'физиологический процесс у животных и человека, периодически наступающее состояние покоя, отключения контроля над сознанием и снижения основных реакций организма', 'sense_list': ['5440', '5442', '5443', '5444', '5445', '5446', '5447', '5448', '5450'], 'hypernym_for': ['V44597', 'V44597'], 'hyponym_for': [], 'domain_for': [], 'antonym': [], 'pos_synonymy': []}\n",
      "{'id': 'V44625', 'part_of_speech': 'V', 'ruthes_name': 'БЕЗВЫХОДНОЕ ПОЛОЖЕНИЕ', 'definition': '', 'sense_list': ['6870', '6871', '6872', '6873', '6874', '6875'], 'hypernym_for': ['V44625'], 'hyponym_for': [], 'domain_for': [], 'antonym': [], 'pos_synonymy': []}\n",
      "{'id': 'V44677', 'part_of_speech': 'V', 'ruthes_name': 'ДЫХАНИЕ, ДЫХАТЕЛЬНЫЙ ПРОЦЕСС', 'definition': 'процесс поглощения кислорода и выделения углекислого газа живыми организмами', 'sense_list': ['46060', '46065', '46063', '46064', '46062'], 'hypernym_for': ['V44677', 'V44677'], 'hyponym_for': [], 'domain_for': [], 'antonym': [], 'pos_synonymy': []}\n",
      "{'id': 'V44704', 'part_of_speech': 'V', 'ruthes_name': 'МЫСЛИТЕЛЬНЫЙ ПРОЦЕСС', 'definition': 'процесс обработки информации мозгом человека, уточнение модели действительности в сознании', 'sense_list': ['27414', '27416', '27417', '27420', '27422', '27423', '27424', '27425', '27426', '27427', '27428', '27429', '27434'], 'hypernym_for': ['V44704', 'V44704', 'V44704', 'V44704', 'V44704', 'V44704'], 'hyponym_for': [], 'domain_for': [], 'antonym': [], 'pos_synonymy': []}\n",
      "{'id': 'V45297', 'part_of_speech': 'V', 'ruthes_name': 'ПОЯВИТЬСЯ, ПОКАЗАТЬСЯ', 'definition': 'стать видимым или оказаться вблизи', 'sense_list': ['81224', '81234', '81231', '81236', '81230', '81235', '81227', '81222', '81232', '81226', '81228', '81225', '81233'], 'hypernym_for': ['V45297', 'V45297', 'V45297', 'V45297', 'V45297', 'V45297', 'V45297', 'V45297', 'V45297', 'V45297', 'V45297', 'V45297', 'V45297', 'V45297', 'V45297', 'V45297', 'V45297', 'V45297', 'V45297', 'V45297', 'V45297', 'V45297', 'V45297', 'V45297', 'V45297', 'V45297', 'V45297', 'V45297'], 'hyponym_for': [], 'domain_for': [], 'antonym': [], 'pos_synonymy': []}\n",
      "{'id': 'V45464', 'part_of_speech': 'V', 'ruthes_name': 'ХИРУРГИЧЕСКАЯ ОПЕРАЦИЯ', 'definition': '', 'sense_list': ['16559', '16561', '16560', '16563', '16564', '16566', '16568', '16569', '16573', '16581'], 'hypernym_for': ['V45464', 'V45464', 'V45464', 'V45464', 'V45464', 'V45464', 'V45464', 'V45464'], 'hyponym_for': [], 'domain_for': [], 'antonym': [], 'pos_synonymy': []}\n",
      "{'id': 'V45543', 'part_of_speech': 'V', 'ruthes_name': 'СНЕГОПАД', 'definition': '', 'sense_list': ['16813', '16814'], 'hypernym_for': ['V45543'], 'hyponym_for': [], 'domain_for': [], 'antonym': [], 'pos_synonymy': []}\n",
      "{'id': 'V45603', 'part_of_speech': 'V', 'ruthes_name': 'ОБРАТИТЬСЯ, УСТРЕМИТЬСЯ', 'definition': 'направляться, устремляться на кого-либо или на что-либо, к кому-либо или к чему-либо (о о взоре, взгляде, мыслях, чувствах, действиях)', 'sense_list': ['107257', '107258', '107261', '107259', '107255', '107256'], 'hypernym_for': ['V45603', 'V45603'], 'hyponym_for': [], 'domain_for': [], 'antonym': [], 'pos_synonymy': []}\n",
      "{'id': 'V45643', 'part_of_speech': 'V', 'ruthes_name': 'ЗАНЯТИЕ, ДЕЯТЕЛЬНОСТЬ', 'definition': 'то, что люди делают, чем заполняют своё время', 'sense_list': ['9260'], 'hypernym_for': ['V45643', 'V45643', 'V45643', 'V45643', 'V45643', 'V45643', 'V45643', 'V45643', 'V45643', 'V45643', 'V45643', 'V45643', 'V45643', 'V45643', 'V45643', 'V45643', 'V45643', 'V45643', 'V45643', 'V45643', 'V45643', 'V45643', 'V45643', 'V45643', 'V45643', 'V45643', 'V45643', 'V45643', 'V45643', 'V45643', 'V45643', 'V45643', 'V45643', 'V45643', 'V45643', 'V45643', 'V45643', 'V45643', 'V45643', 'V45643', 'V45643', 'V45643', 'V45643', 'V45643', 'V45643', 'V45643', 'V45643', 'V45643', 'V45643', 'V45643', 'V45643', 'V45643', 'V45643', 'V45643', 'V45643', 'V45643', 'V45643', 'V45643', 'V45643', 'V45643', 'V45643', 'V45643', 'V45643', 'V45643', 'V45643', 'V45643', 'V45643', 'V45643', 'V45643', 'V45643', 'V45643', 'V45643', 'V45643', 'V45643', 'V45643', 'V45643', 'V45643', 'V45643', 'V45643', 'V45643', 'V45643', 'V45643', 'V45643', 'V45643', 'V45643', 'V45643', 'V45643', 'V45643', 'V45643', 'V45643', 'V45643', 'V45643', 'V45643', 'V45643', 'V45643', 'V45643', 'V45643', 'V45643', 'V45643', 'V45643', 'V45643', 'V45643', 'V45643', 'V45643', 'V45643', 'V45643', 'V45643', 'V45643', 'V45643', 'V45643', 'V45643', 'V45643', 'V45643', 'V45643', 'V45643', 'V45643', 'V45643', 'V45643', 'V45643', 'V45643', 'V45643', 'V45643', 'V45643', 'V45643', 'V45643', 'V45643', 'V45643', 'V45643', 'V45643', 'V45643', 'V45643', 'V45643', 'V45643', 'V45643', 'V45643', 'V45643', 'V45643', 'V45643', 'V45643', 'V45643', 'V45643', 'V45643', 'V45643', 'V45643', 'V45643', 'V45643', 'V45643', 'V45643', 'V45643', 'V45643', 'V45643', 'V45643', 'V45643', 'V45643', 'V45643', 'V45643', 'V45643', 'V45643', 'V45643', 'V45643', 'V45643', 'V45643', 'V45643', 'V45643', 'V45643', 'V45643', 'V45643', 'V45643', 'V45643', 'V45643', 'V45643', 'V45643', 'V45643', 'V45643', 'V45643', 'V45643', 'V45643', 'V45643', 'V45643', 'V45643', 'V45643', 'V45643', 'V45643', 'V45643', 'V45643', 'V45643', 'V45643', 'V45643', 'V45643', 'V45643', 'V45643', 'V45643', 'V45643', 'V45643', 'V45643', 'V45643', 'V45643', 'V45643', 'V45643', 'V45643', 'V45643', 'V45643', 'V45643', 'V45643', 'V45643', 'V45643', 'V45643', 'V45643', 'V45643', 'V45643', 'V45643', 'V45643', 'V45643', 'V45643', 'V45643', 'V45643', 'V45643'], 'hyponym_for': [], 'domain_for': [], 'antonym': [], 'pos_synonymy': []}\n",
      "{'id': 'V45944', 'part_of_speech': 'V', 'ruthes_name': 'НЕДОСТАТОК, НЕДОСТАТОЧНОЕ КОЛИЧЕСТВО', 'definition': 'нехватка, отсутствие или слишком малое количество чего-либо', 'sense_list': ['2654', '2655', '2660'], 'hypernym_for': ['V45944'], 'hyponym_for': [], 'domain_for': [], 'antonym': [], 'pos_synonymy': []}\n",
      "{'id': 'V45951', 'part_of_speech': 'V', 'ruthes_name': 'БРОЖЕНИЕ (БИОЛОГИЧЕСКИЙ ПРОЦЕСС)', 'definition': 'прото действие состояние1 бродить', 'sense_list': ['67484', '67487'], 'hypernym_for': ['V45951'], 'hyponym_for': [], 'domain_for': [], 'antonym': [], 'pos_synonymy': []}\n",
      "{'id': 'V46161', 'part_of_speech': 'V', 'ruthes_name': 'НЕПРИЯТНОЕ СОБЫТИЕ', 'definition': 'затруднительное положение, неприятное или хлопотливое происшествие', 'sense_list': ['75862'], 'hypernym_for': ['V46161', 'V46161'], 'hyponym_for': [], 'domain_for': [], 'antonym': [], 'pos_synonymy': []}\n",
      "{'id': 'V46162', 'part_of_speech': 'V', 'ruthes_name': 'ЗАДЕРЖАТЬ, ДЕЛАТЬ НЕ ВОВРЕМЯ', 'definition': '', 'sense_list': ['2529', '2528', '2530', '2531', '2534', '2535', '2536'], 'hypernym_for': ['V46162', 'V46162', 'V46162'], 'hyponym_for': [], 'domain_for': [], 'antonym': [], 'pos_synonymy': []}\n",
      "{'id': 'V46314', 'part_of_speech': 'V', 'ruthes_name': 'ДЕЙСТВИЕ, ЦЕЛЕНАПРАВЛЕННОЕ ДЕЙСТВИЕ', 'definition': 'некое единичное действие, деяние, а также поступок, проявление действий', 'sense_list': ['3484', '3485', '3487', '3489', '3488', '3491'], 'hypernym_for': ['V46314', 'V46314', 'V46314', 'V46314', 'V46314', 'V46314', 'V46314', 'V46314', 'V46314', 'V46314', 'V46314', 'V46314', 'V46314', 'V46314', 'V46314', 'V46314', 'V46314', 'V46314', 'V46314', 'V46314', 'V46314', 'V46314', 'V46314', 'V46314', 'V46314', 'V46314', 'V46314', 'V46314', 'V46314', 'V46314', 'V46314', 'V46314', 'V46314', 'V46314', 'V46314', 'V46314', 'V46314', 'V46314', 'V46314', 'V46314', 'V46314', 'V46314', 'V46314', 'V46314', 'V46314', 'V46314', 'V46314', 'V46314', 'V46314', 'V46314', 'V46314', 'V46314', 'V46314', 'V46314', 'V46314', 'V46314', 'V46314', 'V46314', 'V46314', 'V46314', 'V46314', 'V46314', 'V46314', 'V46314', 'V46314', 'V46314', 'V46314', 'V46314', 'V46314', 'V46314', 'V46314', 'V46314', 'V46314', 'V46314', 'V46314', 'V46314', 'V46314', 'V46314', 'V46314', 'V46314', 'V46314', 'V46314', 'V46314', 'V46314', 'V46314', 'V46314', 'V46314'], 'hyponym_for': [], 'domain_for': [], 'antonym': [], 'pos_synonymy': []}\n",
      "{'id': 'V46398', 'part_of_speech': 'V', 'ruthes_name': 'БРАТЬ ВО ВНИМАНИЕ', 'definition': '', 'sense_list': ['14321', '14322', '14323', '14324', '14325', '14326', '14327', '14328', '14329', '14330', '14331', '14332', '14333', '14334', '14335', '14336'], 'hypernym_for': ['V46398'], 'hyponym_for': [], 'domain_for': [], 'antonym': [], 'pos_synonymy': []}\n",
      "{'id': 'V46430', 'part_of_speech': 'V', 'ruthes_name': 'ПОДВЕДЕНИЕ ИТОГОВ', 'definition': '', 'sense_list': ['71212', '71202', '71205', '71206', '71204', '71209', '71208', '71203', '71207'], 'hypernym_for': ['V46430', 'V46430'], 'hyponym_for': [], 'domain_for': [], 'antonym': [], 'pos_synonymy': []}\n",
      "{'id': 'V46666', 'part_of_speech': 'V', 'ruthes_name': 'РАЗЪЕДИНИТЬСЯ', 'definition': '', 'sense_list': ['126215', '126214'], 'hypernym_for': ['V46666', 'V46666', 'V46666', 'V46666', 'V46666', 'V46666', 'V46666', 'V46666', 'V46666', 'V46666'], 'hyponym_for': [], 'domain_for': [], 'antonym': [], 'pos_synonymy': []}\n",
      "{'id': 'V46753', 'part_of_speech': 'V', 'ruthes_name': 'ОПЬЯНЕНИЕ', 'definition': '', 'sense_list': ['76837', '76838', '76839'], 'hypernym_for': ['V46753', 'V46753'], 'hyponym_for': [], 'domain_for': [], 'antonym': [], 'pos_synonymy': []}\n",
      "{'id': 'V46763', 'part_of_speech': 'V', 'ruthes_name': 'СТРЕМЛЕНИЕ, ЖЕЛАНИЕ', 'definition': 'внутреннее влечение, стремление к осуществлению чего-либо или к обладанию чем-либо; желание', 'sense_list': ['6391', '6394'], 'hypernym_for': ['V46763', 'V46763', 'V46763', 'V46763', 'V46763', 'V46763', 'V46763', 'V46763', 'V46763', 'V46763', 'V46763'], 'hyponym_for': [], 'domain_for': [], 'antonym': [], 'pos_synonymy': []}\n",
      "{'id': 'V46868', 'part_of_speech': 'V', 'ruthes_name': 'ТОСКА (ГРУСТЬ, УНЫНИЕ)', 'definition': '', 'sense_list': ['32886'], 'hypernym_for': ['V46868', 'V46868'], 'hyponym_for': [], 'domain_for': [], 'antonym': [], 'pos_synonymy': []}\n",
      "{'id': 'V46898', 'part_of_speech': 'V', 'ruthes_name': 'ЧУВСТВО РАДОСТИ', 'definition': 'чувство удовольствия, внутреннего удовлетворения, весёлое настроение; внешнее проявление этого чувства', 'sense_list': ['19068', '19070'], 'hypernym_for': ['V46898'], 'hyponym_for': [], 'domain_for': [], 'antonym': [], 'pos_synonymy': []}\n",
      "{'id': 'V46911', 'part_of_speech': 'V', 'ruthes_name': 'СОХРАНИТЬСЯ (НЕ ИСЧЕЗНУТЬ)', 'definition': 'сохраняться, продолжать существование, пребывание в каком-либо месте или статусе, состоянии', 'sense_list': ['80205', '80208', '80203', '80207', '80202', '80204'], 'hypernym_for': ['V46911', 'V46911', 'V46911', 'V46911', 'V46911'], 'hyponym_for': [], 'domain_for': [], 'antonym': [], 'pos_synonymy': []}\n",
      "{'id': 'V47075', 'part_of_speech': 'V', 'ruthes_name': 'САМОЧУВСТВИЕ', 'definition': 'целостное выражение единства состояния телесных и душевных процессов', 'sense_list': ['110350', '110348'], 'hypernym_for': ['V47075', 'V47075', 'V47075', 'V47075', 'V47075', 'V47075', 'V47075', 'V47075', 'V47075', 'V47075', 'V47075', 'V47075', 'V47075', 'V47075', 'V47075', 'V47075', 'V47075', 'V47075', 'V47075', 'V47075', 'V47075', 'V47075', 'V47075', 'V47075', 'V47075', 'V47075', 'V47075', 'V47075', 'V47075'], 'hyponym_for': [], 'domain_for': [], 'antonym': [], 'pos_synonymy': []}\n",
      "{'id': 'V47290', 'part_of_speech': 'V', 'ruthes_name': 'НАПРАВИТЬ, УСТРЕМИТЬ', 'definition': 'направить, обратить на кого-либо, что-либо, сосредоточить на ком-либо, чем-либо', 'sense_list': ['93872', '93876', '93877', '93875', '93874', '93873'], 'hypernym_for': ['V47290', 'V47290', 'V47290', 'V47290', 'V47290', 'V47290'], 'hyponym_for': [], 'domain_for': [], 'antonym': [], 'pos_synonymy': []}\n",
      "{'id': 'V47296', 'part_of_speech': 'V', 'ruthes_name': 'ДВИЖЕНИЕ, ПЕРЕМЕЩЕНИЕ', 'definition': 'изменение положения чего-либо в пространстве', 'sense_list': ['5824', '5829', '5830', '5831', '5832'], 'hypernym_for': ['V47296', 'V47296', 'V47296', 'V47296', 'V47296', 'V47296', 'V47296', 'V47296', 'V47296', 'V47296', 'V47296', 'V47296', 'V47296', 'V47296', 'V47296', 'V47296', 'V47296', 'V47296', 'V47296', 'V47296', 'V47296', 'V47296', 'V47296', 'V47296', 'V47296', 'V47296', 'V47296', 'V47296', 'V47296', 'V47296', 'V47296', 'V47296', 'V47296', 'V47296', 'V47296', 'V47296', 'V47296', 'V47296', 'V47296', 'V47296', 'V47296', 'V47296', 'V47296', 'V47296', 'V47296', 'V47296', 'V47296', 'V47296', 'V47296', 'V47296', 'V47296', 'V47296', 'V47296', 'V47296', 'V47296', 'V47296', 'V47296', 'V47296', 'V47296', 'V47296', 'V47296', 'V47296', 'V47296', 'V47296', 'V47296', 'V47296', 'V47296', 'V47296', 'V47296'], 'hyponym_for': [], 'domain_for': [], 'antonym': [], 'pos_synonymy': []}\n",
      "{'id': 'V47405', 'part_of_speech': 'V', 'ruthes_name': 'КОЛДОВСТВО, КОЛДОВСКИЕ ЧАРЫ', 'definition': 'Искусство чародея; волшебство, колдовство.', 'sense_list': ['14718', '14727'], 'hypernym_for': ['V47405', 'V47405'], 'hyponym_for': [], 'domain_for': [], 'antonym': [], 'pos_synonymy': []}\n",
      "{'id': 'V47479', 'part_of_speech': 'V', 'ruthes_name': 'ОТПУСК', 'definition': 'освобождение от работы, от службы на определённый срок для отдыха, лечения и\\xa0т.\\xa0п.', 'sense_list': ['15525', '15529', '15532'], 'hypernym_for': ['V47479'], 'hyponym_for': [], 'domain_for': [], 'antonym': [], 'pos_synonymy': []}\n",
      "{'id': 'V47662', 'part_of_speech': 'V', 'ruthes_name': 'МУКА, СТРАДАНИЕ, МУЧЕНИЕ', 'definition': 'физиологическое неприятное ощущение, возникающее в живом организме и сигнализирующее о нарушении, сильном дискомфорте, травме и\\xa0т.\\xa0п', 'sense_list': ['8337'], 'hypernym_for': ['V47662', 'V47662'], 'hyponym_for': [], 'domain_for': [], 'antonym': [], 'pos_synonymy': []}\n",
      "{'id': 'V47676', 'part_of_speech': 'V', 'ruthes_name': 'КРУШЕНИЕ (АВАРИЯ)', 'definition': '', 'sense_list': ['92370'], 'hypernym_for': ['V47676', 'V47676', 'V47676'], 'hyponym_for': [], 'domain_for': [], 'antonym': [], 'pos_synonymy': []}\n",
      "{'id': 'V47877', 'part_of_speech': 'V', 'ruthes_name': 'ТРУДНЫЙ ДЛЯ ВЫПОЛНЕНИЯ', 'definition': 'превышающий силы, слишком трудный', 'sense_list': ['56509', '56510'], 'hypernym_for': ['V47877'], 'hyponym_for': [], 'domain_for': [], 'antonym': [], 'pos_synonymy': []}\n",
      "{'id': 'V47894', 'part_of_speech': 'V', 'ruthes_name': 'СЧИТЫВАНИЕ ИНФОРМАЦИИ', 'definition': '', 'sense_list': ['86565', '86566', '86564'], 'hypernym_for': ['V47894'], 'hyponym_for': [], 'domain_for': [], 'antonym': [], 'pos_synonymy': []}\n",
      "{'id': 'V48092', 'part_of_speech': 'V', 'ruthes_name': 'БЕЗДЕЙСТВОВАТЬ', 'definition': '', 'sense_list': ['3174', '3175', '3173', '3177', '3179', '3176'], 'hypernym_for': ['V48092'], 'hyponym_for': [], 'domain_for': [], 'antonym': [], 'pos_synonymy': []}\n",
      "{'id': 'V48231', 'part_of_speech': 'V', 'ruthes_name': 'ОБРАЩЕНИЕ В СУД', 'definition': '', 'sense_list': ['111530', '111529'], 'hypernym_for': ['V48231'], 'hyponym_for': [], 'domain_for': [], 'antonym': [], 'pos_synonymy': []}\n",
      "{'id': 'V48271', 'part_of_speech': 'V', 'ruthes_name': 'ГОРЕТЬ, СГОРАТЬ', 'definition': '', 'sense_list': ['40050', '40051', '40052', '40054', '40055', '40057', '40059', '40061', '40062'], 'hypernym_for': ['V48271', 'V48271', 'V48271', 'V48271', 'V48271', 'V48271', 'V48271', 'V48271', 'V48271'], 'hyponym_for': [], 'domain_for': [], 'antonym': [], 'pos_synonymy': []}\n",
      "{'id': 'V48378', 'part_of_speech': 'V', 'ruthes_name': 'БОЛЕТЬ, БЫТЬ БОЛЬНЫМ', 'definition': 'страдать болезнью, хворать, быть больным', 'sense_list': ['18502', '18503', '18499', '18489', '18490', '18491', '18492', '18493', '18494', '18495', '18500', '18486', '18488', '18497', '18505', '18501', '18487', '18485', '18498', '18506'], 'hypernym_for': ['V48378', 'V48378', 'V48378'], 'hyponym_for': [], 'domain_for': [], 'antonym': [], 'pos_synonymy': []}\n",
      "{'id': 'V48382', 'part_of_speech': 'V', 'ruthes_name': 'УДИВЛЕНИЕ', 'definition': 'впечатление от чего-либо неожиданного, необычного', 'sense_list': ['6232', '6233', '6234', '6235', '6236', '6238', '6240', '6241', '6242', '6243', '6244'], 'hypernym_for': ['V48382', 'V48382'], 'hyponym_for': [], 'domain_for': [], 'antonym': [], 'pos_synonymy': []}\n",
      "{'id': 'V48625', 'part_of_speech': 'V', 'ruthes_name': 'ПОКАЗАНИЯ ПРИБОРА', 'definition': 'значение, величина, показываемая измерительным прибором', 'sense_list': ['95531', '95532', '95534', '95533', '95525'], 'hypernym_for': ['V48625'], 'hyponym_for': [], 'domain_for': [], 'antonym': [], 'pos_synonymy': []}\n",
      "{'id': 'V48677', 'part_of_speech': 'V', 'ruthes_name': 'МЕТЕЛЬ', 'definition': 'сильный ветер переменного направления со снегом; вьюга', 'sense_list': ['27100', '27101'], 'hypernym_for': ['V48677'], 'hyponym_for': [], 'domain_for': [], 'antonym': [], 'pos_synonymy': []}\n",
      "{'id': 'V48754', 'part_of_speech': 'V', 'ruthes_name': 'РАЗМЕСТИТЬСЯ', 'definition': 'расположиться, занять место где-либо', 'sense_list': ['117472', '117469', '117468', '117467', '117471', '117470'], 'hypernym_for': ['V48754', 'V48754', 'V48754', 'V48754', 'V48754', 'V48754', 'V48754', 'V48754', 'V48754', 'V48754', 'V48754', 'V48754', 'V48754', 'V48754', 'V48754', 'V48754', 'V48754', 'V48754', 'V48754', 'V48754', 'V48754', 'V48754', 'V48754', 'V48754', 'V48754', 'V48754'], 'hyponym_for': [], 'domain_for': [], 'antonym': [], 'pos_synonymy': []}\n",
      "{'id': 'V48878', 'part_of_speech': 'V', 'ruthes_name': 'ВООБРАЗИТЬ, ПРЕДСТАВИТЬ В МЫСЛЯХ', 'definition': 'мысленно представить, воспроизвести в зримых образах', 'sense_list': ['20170', '20171', '20172', '20173', '20174', '20175', '20176', '20177', '20178', '20179', '20180', '20181', '20182', '20183', '20184', '20185', '20186', '20187', '20188', '20189', '20190', '20191', '20192', '20193'], 'hypernym_for': ['V48878', 'V48878', 'V48878'], 'hyponym_for': [], 'domain_for': [], 'antonym': [], 'pos_synonymy': []}\n",
      "{'id': 'V49029', 'part_of_speech': 'V', 'ruthes_name': 'СУЩЕСТВОВАТЬ, БЫТЬ, ИМЕТЬСЯ', 'definition': '', 'sense_list': ['8526', '8527', '8528', '8529', '8531'], 'hypernym_for': ['V49029', 'V49029', 'V49029', 'V49029', 'V49029', 'V49029', 'V49029', 'V49029'], 'hyponym_for': [], 'domain_for': [], 'antonym': [], 'pos_synonymy': []}\n",
      "{'id': 'V49315', 'part_of_speech': 'V', 'ruthes_name': 'МОРОЗНАЯ ПОГОДА', 'definition': '', 'sense_list': ['27303'], 'hypernym_for': ['V49315'], 'hyponym_for': [], 'domain_for': [], 'antonym': [], 'pos_synonymy': []}\n",
      "{'id': 'A20', 'part_of_speech': 'Adj', 'ruthes_name': 'НАСТИЛ (ПОКРЫТИЕ)', 'definition': '', 'sense_list': ['50333'], 'hypernym_for': ['A20', 'A20', 'A20', 'A20'], 'hyponym_for': [], 'domain_for': [], 'antonym': [], 'pos_synonymy': []}\n",
      "{'id': 'A35', 'part_of_speech': 'Adj', 'ruthes_name': 'ПРОЕКЦИЯ НА ПЛОСКОСТЬ', 'definition': 'изображение пространственных фигур на плоскости', 'sense_list': ['96105'], 'hypernym_for': ['A35'], 'hyponym_for': [], 'domain_for': [], 'antonym': [], 'pos_synonymy': []}\n",
      "{'id': 'A42', 'part_of_speech': 'Adj', 'ruthes_name': 'НУЖНЫЙ (ТРЕБУЮЩИЙСЯ)', 'definition': '', 'sense_list': ['50545', '50546', '50548'], 'hypernym_for': ['A42', 'A42', 'A42', 'A42', 'A42'], 'hyponym_for': [], 'domain_for': [], 'antonym': [], 'pos_synonymy': []}\n",
      "{'id': 'A108', 'part_of_speech': 'Adj', 'ruthes_name': 'КОНЦЕПЦИЯ, ДОКТРИНА', 'definition': '', 'sense_list': ['90474', '90475'], 'hypernym_for': ['A108'], 'hyponym_for': [], 'domain_for': [], 'antonym': [], 'pos_synonymy': []}\n",
      "{'id': 'A164', 'part_of_speech': 'Adj', 'ruthes_name': 'ОБРАЗ (ПРЕДСТАВЛЕНИЕ)', 'definition': 'воспроизведенное памятью и вызванное в сознании ощущение', 'sense_list': ['28240', '28241'], 'hypernym_for': ['A164', 'A164', 'A164'], 'hyponym_for': [], 'domain_for': [], 'antonym': [], 'pos_synonymy': []}\n",
      "{'id': 'A221', 'part_of_speech': 'Adj', 'ruthes_name': 'ПАРК ТЕХНИЧЕСКИХ СРЕДСТВ', 'definition': '', 'sense_list': ['11761'], 'hypernym_for': ['A221'], 'hyponym_for': [], 'domain_for': [], 'antonym': [], 'pos_synonymy': []}\n",
      "{'id': 'A222', 'part_of_speech': 'Adj', 'ruthes_name': 'ВВЕСТИ ВНУТРЬ', 'definition': '', 'sense_list': ['8597'], 'hypernym_for': ['A222', 'A222', 'A222', 'A222'], 'hyponym_for': [], 'domain_for': [], 'antonym': [], 'pos_synonymy': []}\n",
      "{'id': 'A247', 'part_of_speech': 'Adj', 'ruthes_name': 'ПОСРЕДНИК', 'definition': 'лицо, действующее при заключении сделки от имени одного из её участников', 'sense_list': ['108601'], 'hypernym_for': ['A247', 'A247', 'A247', 'A247', 'A247', 'A247', 'A247', 'A247'], 'hyponym_for': [], 'domain_for': [], 'antonym': [], 'pos_synonymy': []}\n",
      "{'id': 'A268', 'part_of_speech': 'Adj', 'ruthes_name': 'СООРУЖЕНИЕ, ПОСТРОЙКА', 'definition': 'искусственная надземная неподвижная структура, имеющая внутренний объём', 'sense_list': ['97815'], 'hypernym_for': ['A268', 'A268', 'A268', 'A268', 'A268', 'A268', 'A268', 'A268', 'A268', 'A268', 'A268', 'A268', 'A268', 'A268', 'A268', 'A268', 'A268', 'A268', 'A268', 'A268', 'A268', 'A268', 'A268', 'A268', 'A268', 'A268', 'A268', 'A268', 'A268', 'A268', 'A268', 'A268', 'A268', 'A268', 'A268', 'A268', 'A268', 'A268', 'A268', 'A268', 'A268', 'A268', 'A268', 'A268', 'A268', 'A268', 'A268', 'A268', 'A268', 'A268', 'A268', 'A268', 'A268', 'A268', 'A268', 'A268', 'A268', 'A268', 'A268', 'A268', 'A268', 'A268', 'A268', 'A268', 'A268', 'A268', 'A268', 'A268', 'A268', 'A268', 'A268', 'A268', 'A268', 'A268', 'A268', 'A268', 'A268', 'A268', 'A268', 'A268', 'A268', 'A268', 'A268', 'A268', 'A268', 'A268', 'A268', 'A268', 'A268', 'A268', 'A268', 'A268', 'A268', 'A268', 'A268', 'A268', 'A268', 'A268', 'A268', 'A268', 'A268', 'A268', 'A268', 'A268', 'A268', 'A268', 'A268', 'A268', 'A268', 'A268', 'A268', 'A268', 'A268', 'A268', 'A268', 'A268', 'A268', 'A268', 'A268', 'A268', 'A268', 'A268', 'A268', 'A268', 'A268', 'A268', 'A268', 'A268', 'A268', 'A268', 'A268', 'A268', 'A268', 'A268', 'A268', 'A268', 'A268', 'A268', 'A268', 'A268', 'A268', 'A268', 'A268', 'A268', 'A268', 'A268', 'A268', 'A268', 'A268'], 'hyponym_for': [], 'domain_for': [], 'antonym': [], 'pos_synonymy': []}\n",
      "{'id': 'A274', 'part_of_speech': 'Adj', 'ruthes_name': 'КРОВООСТАНАВЛИВАЮЩЕЕ СРЕДСТВО', 'definition': '', 'sense_list': ['130395', '130396'], 'hypernym_for': ['A274'], 'hyponym_for': [], 'domain_for': [], 'antonym': [], 'pos_synonymy': []}\n",
      "{'id': 'A280', 'part_of_speech': 'Adj', 'ruthes_name': 'ЛЕСОПРОДУКЦИЯ', 'definition': '', 'sense_list': ['64645'], 'hypernym_for': ['A280'], 'hyponym_for': [], 'domain_for': [], 'antonym': [], 'pos_synonymy': []}\n",
      "{'id': 'A281', 'part_of_speech': 'Adj', 'ruthes_name': 'ПРЕСТУПЛЕНИЕ', 'definition': 'нарушение, обход каких-то правил, норм или законов', 'sense_list': ['38870', '38873', '38877', '38889', '38898', '38899', '38903'], 'hypernym_for': ['A281', 'A281', 'A281', 'A281', 'A281', 'A281', 'A281', 'A281', 'A281', 'A281', 'A281', 'A281', 'A281', 'A281', 'A281', 'A281', 'A281', 'A281', 'A281', 'A281', 'A281', 'A281', 'A281', 'A281', 'A281', 'A281', 'A281', 'A281', 'A281', 'A281', 'A281'], 'hyponym_for': [], 'domain_for': [], 'antonym': [], 'pos_synonymy': []}\n",
      "{'id': 'A283', 'part_of_speech': 'Adj', 'ruthes_name': 'ФИЛЬМ', 'definition': '', 'sense_list': ['10232'], 'hypernym_for': ['A283', 'A283', 'A283', 'A283', 'A283', 'A283', 'A283', 'A283', 'A283'], 'hyponym_for': [], 'domain_for': [], 'antonym': [], 'pos_synonymy': []}\n",
      "{'id': 'A287', 'part_of_speech': 'Adj', 'ruthes_name': 'ОПЫТ (СОВОКУПНОСТЬ ЗНАНИЙ И УМЕНИЙ)', 'definition': '', 'sense_list': ['11689'], 'hypernym_for': ['A287'], 'hyponym_for': [], 'domain_for': [], 'antonym': [], 'pos_synonymy': []}\n",
      "{'id': 'A357', 'part_of_speech': 'Adj', 'ruthes_name': 'ЕДА, ПИЩА', 'definition': 'процесс принятия пищи', 'sense_list': ['4150', '4149'], 'hypernym_for': ['A357', 'A357', 'A357', 'A357', 'A357', 'A357', 'A357', 'A357', 'A357', 'A357', 'A357', 'A357', 'A357', 'A357', 'A357', 'A357', 'A357', 'A357', 'A357', 'A357', 'A357', 'A357', 'A357', 'A357', 'A357', 'A357', 'A357', 'A357', 'A357', 'A357', 'A357', 'A357', 'A357', 'A357', 'A357'], 'hyponym_for': [], 'domain_for': [], 'antonym': [], 'pos_synonymy': []}\n",
      "{'id': 'A360', 'part_of_speech': 'Adj', 'ruthes_name': 'ТАБЛИЦА', 'definition': '', 'sense_list': ['13521'], 'hypernym_for': ['A360', 'A360'], 'hyponym_for': [], 'domain_for': [], 'antonym': [], 'pos_synonymy': []}\n",
      "{'id': 'A429', 'part_of_speech': 'Adj', 'ruthes_name': 'СОЗДАТЬ (СДЕЛАТЬ СУЩЕСТВУЮЩИМ)', 'definition': 'сотворение, произведение чего-либо', 'sense_list': ['78468'], 'hypernym_for': ['A429', 'A429', 'A429', 'A429', 'A429', 'A429', 'A429', 'A429', 'A429', 'A429', 'A429', 'A429', 'A429', 'A429', 'A429', 'A429', 'A429', 'A429', 'A429', 'A429', 'A429', 'A429', 'A429', 'A429', 'A429', 'A429', 'A429', 'A429', 'A429', 'A429', 'A429'], 'hyponym_for': [], 'domain_for': [], 'antonym': [], 'pos_synonymy': []}\n",
      "{'id': 'A447', 'part_of_speech': 'Adj', 'ruthes_name': 'НАЛЕТ НА ПОВЕРХНОСТИ', 'definition': '', 'sense_list': ['18304'], 'hypernym_for': ['A447', 'A447', 'A447', 'A447'], 'hyponym_for': [], 'domain_for': [], 'antonym': [], 'pos_synonymy': []}\n",
      "{'id': 'A458', 'part_of_speech': 'Adj', 'ruthes_name': 'МИРОВОЗЗРЕНИЕ', 'definition': 'совокупность принципов, взглядов и убеждений, определяющих отношение к действительности, к миру', 'sense_list': ['38372'], 'hypernym_for': ['A458', 'A458', 'A458', 'A458', 'A458', 'A458', 'A458', 'A458', 'A458', 'A458', 'A458', 'A458', 'A458', 'A458', 'A458', 'A458', 'A458', 'A458', 'A458', 'A458', 'A458', 'A458', 'A458', 'A458'], 'hyponym_for': [], 'domain_for': [], 'antonym': [], 'pos_synonymy': []}\n",
      "{'id': 'A474', 'part_of_speech': 'Adj', 'ruthes_name': 'ДУЖКА', 'definition': '', 'sense_list': ['24286'], 'hypernym_for': ['A474'], 'hyponym_for': [], 'domain_for': [], 'antonym': [], 'pos_synonymy': []}\n",
      "{'id': 'A494', 'part_of_speech': 'Adj', 'ruthes_name': 'МЕНТАЛЬНЫЙ ПРОЦЕСС', 'definition': '', 'sense_list': ['116015'], 'hypernym_for': ['A494', 'A494', 'A494', 'A494', 'A494', 'A494', 'A494', 'A494', 'A494', 'A494', 'A494', 'A494', 'A494', 'A494', 'A494', 'A494', 'A494', 'A494', 'A494', 'A494', 'A494', 'A494', 'A494', 'A494', 'A494', 'A494', 'A494'], 'hyponym_for': [], 'domain_for': [], 'antonym': [], 'pos_synonymy': []}\n",
      "{'id': 'A495', 'part_of_speech': 'Adj', 'ruthes_name': 'РЕЛИГИОЗНАЯ КОНФЕССИЯ', 'definition': 'религиозное ответвление, объединение, исповедующее общую религию, но имеющее своё направление, своё вероучение, свою обрядность', 'sense_list': ['106233', '106231'], 'hypernym_for': ['A495', 'A495', 'A495', 'A495'], 'hyponym_for': [], 'domain_for': [], 'antonym': [], 'pos_synonymy': []}\n",
      "{'id': 'A504', 'part_of_speech': 'Adj', 'ruthes_name': 'КЕРАМИЧЕСКИЕ МАТЕРИАЛЫ', 'definition': '', 'sense_list': ['91952'], 'hypernym_for': ['A504', 'A504', 'A504', 'A504'], 'hyponym_for': [], 'domain_for': [], 'antonym': [], 'pos_synonymy': []}\n",
      "{'id': 'A559', 'part_of_speech': 'Adj', 'ruthes_name': 'ПОРОШОК', 'definition': 'масса измельчённых твёрдых веществ, обладающая свойством сыпучести', 'sense_list': ['76032', '76034', '76035'], 'hypernym_for': ['A559', 'A559', 'A559', 'A559', 'A559', 'A559'], 'hyponym_for': [], 'domain_for': [], 'antonym': [], 'pos_synonymy': []}\n",
      "{'id': 'A563', 'part_of_speech': 'Adj', 'ruthes_name': 'ЛОКАЦИЯ', 'definition': 'определение местонахождения какого-либо объекта посредством анализа сигналов, отражённых от него или испущенных им', 'sense_list': ['72612'], 'hypernym_for': ['A563', 'A563'], 'hyponym_for': [], 'domain_for': [], 'antonym': [], 'pos_synonymy': []}\n",
      "{'id': 'A588', 'part_of_speech': 'Adj', 'ruthes_name': 'СЧИТАТЬ, ОПРЕДЕЛЯТЬ КОЛИЧЕСТВО', 'definition': 'сосчитать; определить количество, сумму чего-либо', 'sense_list': ['13448'], 'hypernym_for': ['A588', 'A588', 'A588'], 'hyponym_for': [], 'domain_for': [], 'antonym': [], 'pos_synonymy': []}\n",
      "{'id': 'A592', 'part_of_speech': 'Adj', 'ruthes_name': 'ПЕЧАТНАЯ ПРОДУКЦИЯ', 'definition': '', 'sense_list': ['51711'], 'hypernym_for': ['A592', 'A592', 'A592', 'A592', 'A592', 'A592', 'A592', 'A592', 'A592', 'A592', 'A592', 'A592', 'A592'], 'hyponym_for': [], 'domain_for': [], 'antonym': [], 'pos_synonymy': []}\n",
      "{'id': 'A651', 'part_of_speech': 'Adj', 'ruthes_name': 'РАСПАСТЬСЯ НА СОСТАВНЫЕ ЧАСТИ', 'definition': 'разделяться на части, распадаться на составные элементы', 'sense_list': ['53481'], 'hypernym_for': ['A651', 'A651'], 'hyponym_for': [], 'domain_for': [], 'antonym': [], 'pos_synonymy': []}\n",
      "{'id': 'A675', 'part_of_speech': 'Adj', 'ruthes_name': 'УПЛОТНИТЬ (УВЕЛИЧИТЬ КОЛИЧЕСТВО В ОБЪЕМЕ)', 'definition': 'увеличение плотности чего-либо', 'sense_list': ['111026'], 'hypernym_for': ['A675', 'A675'], 'hyponym_for': [], 'domain_for': [], 'antonym': [], 'pos_synonymy': []}\n",
      "{'id': 'A679', 'part_of_speech': 'Adj', 'ruthes_name': 'ВОДОЕМ', 'definition': '', 'sense_list': ['44138'], 'hypernym_for': ['A679', 'A679', 'A679', 'A679', 'A679', 'A679'], 'hyponym_for': [], 'domain_for': [], 'antonym': [], 'pos_synonymy': []}\n",
      "{'id': 'A739', 'part_of_speech': 'Adj', 'ruthes_name': 'СТОРОНА В ДОГОВОРЕ', 'definition': 'каждая из сторон (лицо или учреждение) в договоре по отношению к другой стороне', 'sense_list': ['81587'], 'hypernym_for': ['A739', 'A739'], 'hyponym_for': [], 'domain_for': [], 'antonym': [], 'pos_synonymy': []}\n",
      "{'id': 'A749', 'part_of_speech': 'Adj', 'ruthes_name': 'ПОЗИЦИИ ВОЙСК', 'definition': '', 'sense_list': ['75813'], 'hypernym_for': ['A749'], 'hyponym_for': [], 'domain_for': [], 'antonym': [], 'pos_synonymy': []}\n",
      "{'id': 'A758', 'part_of_speech': 'Adj', 'ruthes_name': 'ПРЕОБРАЗОВАТЬ, ПЕРЕДЕЛАТЬ', 'definition': 'существенное изменение формы, свойств какого-либо объекта', 'sense_list': ['117119'], 'hypernym_for': ['A758', 'A758', 'A758', 'A758', 'A758', 'A758', 'A758'], 'hyponym_for': [], 'domain_for': [], 'antonym': [], 'pos_synonymy': []}\n",
      "{'id': 'A763', 'part_of_speech': 'Adj', 'ruthes_name': 'МАГМА', 'definition': 'расплавленная огненная масса преимущественно силикатного состава, образующаяся в глубинных зонах Земли', 'sense_list': ['26878', '26879'], 'hypernym_for': ['A763'], 'hyponym_for': [], 'domain_for': [], 'antonym': [], 'pos_synonymy': []}\n",
      "{'id': 'A792', 'part_of_speech': 'Adj', 'ruthes_name': 'ФОСФАТ', 'definition': '', 'sense_list': ['57065'], 'hypernym_for': ['A792', 'A792'], 'hyponym_for': [], 'domain_for': [], 'antonym': [], 'pos_synonymy': []}\n",
      "{'id': 'A827', 'part_of_speech': 'Adj', 'ruthes_name': 'СРАВНИТЬ, СОПОСТАВИТЬ', 'definition': '', 'sense_list': ['81333', '81330', '81332'], 'hypernym_for': ['A827', 'A827'], 'hyponym_for': [], 'domain_for': [], 'antonym': [], 'pos_synonymy': []}\n",
      "{'id': 'A847', 'part_of_speech': 'Adj', 'ruthes_name': 'ОКОННЫЙ ПРОЕМ', 'definition': 'проём в стене здания либо стенке транспортного средства для пропускания света и/или воздуха', 'sense_list': ['11633'], 'hypernym_for': ['A847'], 'hyponym_for': [], 'domain_for': [], 'antonym': [], 'pos_synonymy': []}\n",
      "{'id': 'A880', 'part_of_speech': 'Adj', 'ruthes_name': 'ЗАХВАТИТЬ, ЗАВЛАДЕТЬ', 'definition': 'брать силой; овладевать', 'sense_list': ['37165'], 'hypernym_for': ['A880', 'A880', 'A880', 'A880', 'A880', 'A880', 'A880', 'A880', 'A880'], 'hyponym_for': [], 'domain_for': [], 'antonym': [], 'pos_synonymy': []}\n",
      "{'id': 'A927', 'part_of_speech': 'Adj', 'ruthes_name': 'УСИЛИТЬ (УВЕЛИЧИТЬ СИЛУ)', 'definition': '', 'sense_list': ['80125'], 'hypernym_for': ['A927', 'A927'], 'hyponym_for': [], 'domain_for': [], 'antonym': [], 'pos_synonymy': []}\n",
      "{'id': 'A942', 'part_of_speech': 'Adj', 'ruthes_name': 'СОЧЕТАНИЕ, КОМБИНАЦИЯ', 'definition': '', 'sense_list': ['110378'], 'hypernym_for': ['A942', 'A942', 'A942', 'A942', 'A942', 'A942', 'A942', 'A942', 'A942', 'A942', 'A942', 'A942', 'A942', 'A942', 'A942'], 'hyponym_for': [], 'domain_for': [], 'antonym': [], 'pos_synonymy': []}\n",
      "{'id': 'A949', 'part_of_speech': 'Adj', 'ruthes_name': 'ТКАНЬ ОРГАНИЗМА', 'definition': 'строительный материал живого организма, анатомическая структура, состоящая из сравнительно однородных клеток', 'sense_list': ['32760'], 'hypernym_for': ['A949', 'A949', 'A949', 'A949', 'A949', 'A949', 'A949', 'A949', 'A949', 'A949'], 'hyponym_for': [], 'domain_for': [], 'antonym': [], 'pos_synonymy': []}\n",
      "{'id': 'A986', 'part_of_speech': 'Adj', 'ruthes_name': 'МУЗЫКАЛЬНЫЙ ИНТЕРВАЛ', 'definition': 'разность между высотами двух звуков', 'sense_list': ['91604'], 'hypernym_for': ['A986'], 'hyponym_for': [], 'domain_for': [], 'antonym': [], 'pos_synonymy': []}\n",
      "{'id': 'A1001', 'part_of_speech': 'Adj', 'ruthes_name': 'ДЕМОНСТРИРОВАТЬ (ПОКАЗАТЬ НАГЛЯДНО)', 'definition': 'показ, представление чего-либо', 'sense_list': ['29769'], 'hypernym_for': ['A1001'], 'hyponym_for': [], 'domain_for': [], 'antonym': [], 'pos_synonymy': []}\n",
      "{'id': 'A1020', 'part_of_speech': 'Adj', 'ruthes_name': 'ПОТРЕБИТЕЛЬ', 'definition': 'тот, кто покупает или пользуется товаром или услугой', 'sense_list': ['122707'], 'hypernym_for': ['A1020', 'A1020', 'A1020'], 'hyponym_for': [], 'domain_for': [], 'antonym': [], 'pos_synonymy': []}\n",
      "{'id': 'A1032', 'part_of_speech': 'Adj', 'ruthes_name': 'АНГЕЛ (СЛУЖИТЕЛЬ БОГА)', 'definition': 'сверхъестественное бесплотное cущество, дух, Божий посланник, в живописи и архитектуре обычно изображаемый в виде светловолосого крылатого мальчика или юноши', 'sense_list': ['21283'], 'hypernym_for': ['A1032'], 'hyponym_for': [], 'domain_for': [], 'antonym': [], 'pos_synonymy': []}\n",
      "{'id': 'A1087', 'part_of_speech': 'Adj', 'ruthes_name': 'КОМПЛЕКТ (НАБОР)', 'definition': '', 'sense_list': ['92129'], 'hypernym_for': ['A1087', 'A1087'], 'hyponym_for': [], 'domain_for': [], 'antonym': [], 'pos_synonymy': []}\n",
      "{'id': 'A1126', 'part_of_speech': 'Adj', 'ruthes_name': 'СМЕСЬ (ВЕЩЕСТВО)', 'definition': 'смесь, сочетание чего-либо', 'sense_list': ['31643'], 'hypernym_for': ['A1126', 'A1126', 'A1126', 'A1126', 'A1126', 'A1126', 'A1126', 'A1126'], 'hyponym_for': [], 'domain_for': [], 'antonym': [], 'pos_synonymy': []}\n",
      "{'id': 'A1155', 'part_of_speech': 'Adj', 'ruthes_name': 'ВОРС НА ТКАНИ, КОЖЕ', 'definition': 'короткий густой слой волосков или шерстинок, покрывающий лицевую сторону некоторых тканей', 'sense_list': ['8807', '8806', '8808'], 'hypernym_for': ['A1155'], 'hyponym_for': [], 'domain_for': [], 'antonym': [], 'pos_synonymy': []}\n",
      "{'id': 'A1171', 'part_of_speech': 'Adj', 'ruthes_name': 'ЦЕЛЛЮЛОЗНО-БУМАЖНАЯ ПРОДУКЦИЯ', 'definition': '', 'sense_list': ['103433'], 'hypernym_for': ['A1171'], 'hyponym_for': [], 'domain_for': [], 'antonym': [], 'pos_synonymy': []}\n",
      "{'id': 'A1179', 'part_of_speech': 'Adj', 'ruthes_name': 'ОПОРНО-ДВИГАТЕЛЬНЫЙ АППАРАТ', 'definition': '', 'sense_list': ['66370'], 'hypernym_for': ['A1179', 'A1179'], 'hyponym_for': [], 'domain_for': [], 'antonym': [], 'pos_synonymy': []}\n",
      "{'id': 'A1186', 'part_of_speech': 'Adj', 'ruthes_name': 'РАССЛЕДОВАНИЕ ПРЕСТУПЛЕНИЙ', 'definition': 'процесс, направленный на выяснение обстоятельство чего-либо, обычно преступления', 'sense_list': ['19532', '19534'], 'hypernym_for': ['A1186'], 'hyponym_for': [], 'domain_for': [], 'antonym': [], 'pos_synonymy': []}\n",
      "{'id': 'A1193', 'part_of_speech': 'Adj', 'ruthes_name': 'РЕСУРС, ИСТОЧНИК', 'definition': '', 'sense_list': ['54067'], 'hypernym_for': ['A1193', 'A1193', 'A1193', 'A1193', 'A1193', 'A1193'], 'hyponym_for': [], 'domain_for': [], 'antonym': [], 'pos_synonymy': []}\n",
      "{'id': 'A1203', 'part_of_speech': 'Adj', 'ruthes_name': 'КЛЕТКА ДЛЯ ЖИВОТНЫХ', 'definition': 'сооружение или помещение, стены (стенки) которого состоят из параллельных друг другу или пересекающихся прутьев, палок и т. п.', 'sense_list': ['47808'], 'hypernym_for': ['A1203'], 'hyponym_for': [], 'domain_for': [], 'antonym': [], 'pos_synonymy': []}\n",
      "{'id': 'A1205', 'part_of_speech': 'Adj', 'ruthes_name': 'СВОД (ПЕРЕКРЫТИЕ)', 'definition': '', 'sense_list': ['12766'], 'hypernym_for': ['A1205'], 'hyponym_for': [], 'domain_for': [], 'antonym': [], 'pos_synonymy': []}\n",
      "{'id': 'A1280', 'part_of_speech': 'Adj', 'ruthes_name': 'РЕКА', 'definition': 'разновидность водотока; водный поток, значительный по объёму и направляющийся по относительно постоянному руслу от истока к устью', 'sense_list': ['12395'], 'hypernym_for': ['A1280', 'A1280', 'A1280', 'A1280', 'A1280', 'A1280', 'A1280', 'A1280', 'A1280', 'A1280', 'A1280', 'A1280', 'A1280', 'A1280', 'A1280', 'A1280', 'A1280', 'A1280', 'A1280', 'A1280', 'A1280', 'A1280', 'A1280', 'A1280', 'A1280', 'A1280', 'A1280', 'A1280', 'A1280', 'A1280', 'A1280', 'A1280', 'A1280', 'A1280', 'A1280', 'A1280', 'A1280', 'A1280', 'A1280', 'A1280', 'A1280', 'A1280', 'A1280', 'A1280', 'A1280'], 'hyponym_for': [], 'domain_for': [], 'antonym': [], 'pos_synonymy': []}\n",
      "{'id': 'A1365', 'part_of_speech': 'Adj', 'ruthes_name': 'ОБСТОЯТЕЛЬСТВА, ОБСТАНОВКА, УСЛОВИЯ', 'definition': 'совокупность условий и обстоятельств, создающих те или иные отношения; обстановка, положение', 'sense_list': ['5770', '5777'], 'hypernym_for': ['A1365', 'A1365', 'A1365', 'A1365', 'A1365', 'A1365', 'A1365', 'A1365', 'A1365', 'A1365', 'A1365', 'A1365', 'A1365', 'A1365', 'A1365', 'A1365', 'A1365', 'A1365', 'A1365', 'A1365', 'A1365', 'A1365', 'A1365', 'A1365', 'A1365', 'A1365', 'A1365', 'A1365', 'A1365', 'A1365', 'A1365', 'A1365', 'A1365', 'A1365', 'A1365', 'A1365', 'A1365', 'A1365', 'A1365', 'A1365', 'A1365', 'A1365', 'A1365', 'A1365', 'A1365', 'A1365', 'A1365', 'A1365', 'A1365', 'A1365', 'A1365', 'A1365', 'A1365', 'A1365', 'A1365', 'A1365', 'A1365', 'A1365', 'A1365', 'A1365', 'A1365', 'A1365', 'A1365', 'A1365', 'A1365', 'A1365', 'A1365', 'A1365', 'A1365', 'A1365', 'A1365', 'A1365', 'A1365', 'A1365', 'A1365', 'A1365', 'A1365', 'A1365', 'A1365', 'A1365', 'A1365', 'A1365', 'A1365', 'A1365', 'A1365', 'A1365', 'A1365', 'A1365', 'A1365', 'A1365', 'A1365', 'A1365', 'A1365', 'A1365', 'A1365', 'A1365', 'A1365', 'A1365', 'A1365', 'A1365', 'A1365', 'A1365', 'A1365', 'A1365', 'A1365', 'A1365', 'A1365', 'A1365', 'A1365', 'A1365', 'A1365', 'A1365', 'A1365', 'A1365', 'A1365', 'A1365', 'A1365', 'A1365', 'A1365', 'A1365', 'A1365', 'A1365', 'A1365', 'A1365', 'A1365', 'A1365', 'A1365', 'A1365', 'A1365', 'A1365', 'A1365', 'A1365', 'A1365', 'A1365', 'A1365', 'A1365', 'A1365', 'A1365', 'A1365', 'A1365', 'A1365', 'A1365', 'A1365', 'A1365', 'A1365', 'A1365', 'A1365', 'A1365', 'A1365', 'A1365', 'A1365', 'A1365', 'A1365', 'A1365', 'A1365', 'A1365', 'A1365', 'A1365', 'A1365', 'A1365', 'A1365', 'A1365', 'A1365', 'A1365', 'A1365', 'A1365', 'A1365', 'A1365', 'A1365'], 'hyponym_for': [], 'domain_for': [], 'antonym': [], 'pos_synonymy': []}\n",
      "{'id': 'A1431', 'part_of_speech': 'Adj', 'ruthes_name': 'ЯДОВИТОЕ ВЕЩЕСТВО', 'definition': '', 'sense_list': ['1711'], 'hypernym_for': ['A1431', 'A1431', 'A1431', 'A1431', 'A1431', 'A1431', 'A1431', 'A1431', 'A1431', 'A1431', 'A1431'], 'hyponym_for': [], 'domain_for': [], 'antonym': [], 'pos_synonymy': []}\n",
      "{'id': 'A1443', 'part_of_speech': 'Adj', 'ruthes_name': 'РОЛЬ, ПОЛОЖЕНИЕ, МЕСТО', 'definition': 'положение кого-либо в обществе, роль, отведенная кому-либо в обществе, в какой-либо деятельности', 'sense_list': ['12478'], 'hypernym_for': ['A1443', 'A1443', 'A1443', 'A1443', 'A1443', 'A1443', 'A1443', 'A1443', 'A1443', 'A1443', 'A1443', 'A1443', 'A1443', 'A1443', 'A1443', 'A1443', 'A1443', 'A1443', 'A1443', 'A1443', 'A1443', 'A1443', 'A1443', 'A1443', 'A1443', 'A1443', 'A1443', 'A1443', 'A1443', 'A1443', 'A1443', 'A1443', 'A1443', 'A1443', 'A1443', 'A1443', 'A1443', 'A1443', 'A1443', 'A1443', 'A1443', 'A1443', 'A1443', 'A1443', 'A1443', 'A1443', 'A1443', 'A1443', 'A1443', 'A1443', 'A1443', 'A1443', 'A1443', 'A1443', 'A1443', 'A1443', 'A1443', 'A1443', 'A1443', 'A1443', 'A1443', 'A1443', 'A1443', 'A1443', 'A1443', 'A1443', 'A1443', 'A1443', 'A1443', 'A1443', 'A1443', 'A1443', 'A1443', 'A1443', 'A1443', 'A1443', 'A1443', 'A1443', 'A1443', 'A1443', 'A1443', 'A1443', 'A1443', 'A1443', 'A1443', 'A1443', 'A1443', 'A1443', 'A1443', 'A1443', 'A1443', 'A1443', 'A1443', 'A1443', 'A1443', 'A1443', 'A1443', 'A1443', 'A1443', 'A1443', 'A1443', 'A1443', 'A1443'], 'hyponym_for': [], 'domain_for': [], 'antonym': [], 'pos_synonymy': []}\n",
      "{'id': 'A1444', 'part_of_speech': 'Adj', 'ruthes_name': 'ВСЕЛИТЬСЯ, ЗАСЕЛИТЬСЯ', 'definition': '', 'sense_list': ['23016'], 'hypernym_for': ['A1444'], 'hyponym_for': [], 'domain_for': [], 'antonym': [], 'pos_synonymy': []}\n",
      "{'id': 'A1458', 'part_of_speech': 'Adj', 'ruthes_name': 'МАТЕМАТИЧЕСКАЯ ФУНКЦИЯ', 'definition': 'переменная величина, меняющаяся в зависимости от изменения другой величины, а также закон, определяющий свойства такого изменения', 'sense_list': ['80454'], 'hypernym_for': ['A1458', 'A1458'], 'hyponym_for': [], 'domain_for': [], 'antonym': [], 'pos_synonymy': []}\n",
      "{'id': 'A1535', 'part_of_speech': 'Adj', 'ruthes_name': 'ДЕКОРАЦИЯ (ИЗОБРАЖЕНИЕ)', 'definition': 'изображения и предметы обстановки, используемые на театральной сцене и киносъемочной площадке для имитации места действия', 'sense_list': ['105079'], 'hypernym_for': ['A1535', 'A1535'], 'hyponym_for': [], 'domain_for': [], 'antonym': [], 'pos_synonymy': []}\n",
      "{'id': 'A1545', 'part_of_speech': 'Adj', 'ruthes_name': 'КРЕДИТОР', 'definition': 'заимодавец; тот, кто даёт взаймы', 'sense_list': ['92308'], 'hypernym_for': ['A1545', 'A1545'], 'hyponym_for': [], 'domain_for': [], 'antonym': [], 'pos_synonymy': []}\n",
      "{'id': 'A1554', 'part_of_speech': 'Adj', 'ruthes_name': 'ДВИЖЕНИЕ, ПЕРЕМЕЩЕНИЕ', 'definition': 'изменение положения чего-либо в пространстве', 'sense_list': ['5821', '5827'], 'hypernym_for': ['A1554', 'A1554', 'A1554', 'A1554', 'A1554', 'A1554', 'A1554', 'A1554', 'A1554', 'A1554', 'A1554', 'A1554', 'A1554', 'A1554', 'A1554', 'A1554', 'A1554', 'A1554', 'A1554', 'A1554', 'A1554', 'A1554', 'A1554', 'A1554', 'A1554', 'A1554', 'A1554', 'A1554', 'A1554', 'A1554', 'A1554', 'A1554', 'A1554', 'A1554', 'A1554', 'A1554', 'A1554', 'A1554', 'A1554', 'A1554', 'A1554', 'A1554', 'A1554', 'A1554', 'A1554', 'A1554', 'A1554', 'A1554', 'A1554', 'A1554', 'A1554', 'A1554', 'A1554', 'A1554', 'A1554', 'A1554', 'A1554', 'A1554', 'A1554', 'A1554', 'A1554', 'A1554', 'A1554', 'A1554', 'A1554', 'A1554', 'A1554', 'A1554', 'A1554', 'A1554', 'A1554', 'A1554', 'A1554', 'A1554', 'A1554', 'A1554', 'A1554', 'A1554', 'A1554', 'A1554', 'A1554', 'A1554', 'A1554', 'A1554', 'A1554', 'A1554', 'A1554', 'A1554'], 'hyponym_for': [], 'domain_for': [], 'antonym': [], 'pos_synonymy': []}\n",
      "{'id': 'A1597', 'part_of_speech': 'Adj', 'ruthes_name': 'ОБЩЕСТВО, СОЦИУМ', 'definition': 'коллектив, множество людей, характеризующийся общностью социальной, экономической и культурной жизни', 'sense_list': ['55218', '55219'], 'hypernym_for': ['A1597', 'A1597'], 'hyponym_for': [], 'domain_for': [], 'antonym': [], 'pos_synonymy': []}\n",
      "{'id': 'A1646', 'part_of_speech': 'Adj', 'ruthes_name': 'ПРИУКРАСИТЬ, ВЫГОДНО ПРЕДСТАВИТЬ', 'definition': 'представить, изобразить в более красивом, привлекательном виде (чем в действительности)', 'sense_list': ['1037', '1038'], 'hypernym_for': ['A1646', 'A1646'], 'hyponym_for': [], 'domain_for': [], 'antonym': [], 'pos_synonymy': []}\n",
      "{'id': 'A1713', 'part_of_speech': 'Adj', 'ruthes_name': 'СТЕБЕЛЬ РАСТЕНИЯ', 'definition': 'часть растения, несущая листья, почки, цветки, часто ответвления', 'sense_list': ['78772', '78774', '78773'], 'hypernym_for': ['A1713', 'A1713', 'A1713', 'A1713', 'A1713', 'A1713', 'A1713'], 'hyponym_for': [], 'domain_for': [], 'antonym': [], 'pos_synonymy': []}\n",
      "{'id': 'A1770', 'part_of_speech': 'Adj', 'ruthes_name': 'ЧУВСТВО, ЭМОЦИЯ', 'definition': 'внутреннее чувство человека, душевное волнение', 'sense_list': ['57994'], 'hypernym_for': ['A1770', 'A1770', 'A1770', 'A1770', 'A1770', 'A1770', 'A1770', 'A1770', 'A1770', 'A1770', 'A1770', 'A1770', 'A1770', 'A1770', 'A1770', 'A1770', 'A1770', 'A1770', 'A1770', 'A1770', 'A1770', 'A1770', 'A1770', 'A1770', 'A1770', 'A1770', 'A1770', 'A1770', 'A1770', 'A1770', 'A1770', 'A1770', 'A1770', 'A1770', 'A1770', 'A1770', 'A1770', 'A1770', 'A1770', 'A1770', 'A1770'], 'hyponym_for': [], 'domain_for': [], 'antonym': [], 'pos_synonymy': []}\n",
      "{'id': 'A1778', 'part_of_speech': 'Adj', 'ruthes_name': 'НИЗИНА, НИЗМЕННОЕ МЕСТО', 'definition': 'более низкое место, углубление, впадина, спуск', 'sense_list': ['50481', '50482'], 'hypernym_for': ['A1778', 'A1778'], 'hyponym_for': [], 'domain_for': [], 'antonym': [], 'pos_synonymy': []}\n",
      "{'id': 'A1796', 'part_of_speech': 'Adj', 'ruthes_name': 'ПОХВАЛА', 'definition': 'лестный, положительный отзыв о ком-либо, чём-либо, высказываемое одобрение кого-либо, чего-либо', 'sense_list': ['76136'], 'hypernym_for': ['A1796', 'A1796'], 'hyponym_for': [], 'domain_for': [], 'antonym': [], 'pos_synonymy': []}\n",
      "{'id': 'A1823', 'part_of_speech': 'Adj', 'ruthes_name': 'УПРЯЖКА ЖИВОТНЫХ', 'definition': '', 'sense_list': ['80092'], 'hypernym_for': ['A1823'], 'hyponym_for': [], 'domain_for': [], 'antonym': [], 'pos_synonymy': []}\n",
      "{'id': 'A1889', 'part_of_speech': 'Adj', 'ruthes_name': 'РАЗОРИТЬ (ЛИШИТЬ ИМУЩЕСТВА)', 'definition': 'лишить достатка, богатства; ввергнуть в бедность, нищету', 'sense_list': ['82226'], 'hypernym_for': ['A1889', 'A1889'], 'hyponym_for': [], 'domain_for': [], 'antonym': [], 'pos_synonymy': []}\n",
      "{'id': 'A1912', 'part_of_speech': 'Adj', 'ruthes_name': 'КЛЕТКА ОРГАНИЗМА', 'definition': '', 'sense_list': ['38039'], 'hypernym_for': ['A1912', 'A1912', 'A1912', 'A1912', 'A1912', 'A1912'], 'hyponym_for': [], 'domain_for': [], 'antonym': [], 'pos_synonymy': []}\n",
      "{'id': 'A1962', 'part_of_speech': 'Adj', 'ruthes_name': 'ОБМАНУТЬ, ВВЕСТИ В ЗАБЛУЖДЕНИЕ', 'definition': 'ввести кого-либо в заблуждение, сказать неправду, поступить нечестно', 'sense_list': ['28181', '28189'], 'hypernym_for': ['A1962', 'A1962', 'A1962', 'A1962', 'A1962', 'A1962', 'A1962', 'A1962', 'A1962', 'A1962', 'A1962'], 'hyponym_for': [], 'domain_for': [], 'antonym': [], 'pos_synonymy': []}\n",
      "{'id': 'A2019', 'part_of_speech': 'Adj', 'ruthes_name': 'РУГАТЕЛЬСТВО, БРАНЬ', 'definition': 'оскорбительные, бранные слова, ругань, осуждение, порицание, упрёки', 'sense_list': ['21860'], 'hypernym_for': ['A2019'], 'hyponym_for': [], 'domain_for': [], 'antonym': [], 'pos_synonymy': []}\n",
      "{'id': 'A2037', 'part_of_speech': 'Adj', 'ruthes_name': 'ЛЕТУЧЕЕ ВЕЩЕСТВО', 'definition': '', 'sense_list': ['72510'], 'hypernym_for': ['A2037', 'A2037', 'A2037', 'A2037', 'A2037'], 'hyponym_for': [], 'domain_for': [], 'antonym': [], 'pos_synonymy': []}\n",
      "{'id': 'A2046', 'part_of_speech': 'Adj', 'ruthes_name': 'БОК, БОКОВАЯ ЧАСТЬ', 'definition': '', 'sense_list': ['3707'], 'hypernym_for': ['A2046', 'A2046', 'A2046', 'A2046', 'A2046', 'A2046', 'A2046', 'A2046', 'A2046', 'A2046', 'A2046', 'A2046', 'A2046', 'A2046', 'A2046'], 'hyponym_for': [], 'domain_for': [], 'antonym': [], 'pos_synonymy': []}\n",
      "{'id': 'A2070', 'part_of_speech': 'Adj', 'ruthes_name': 'ОВРАГ', 'definition': 'относительно глубокая крутосклонная незадернованная ложбина, образованная временным водотоком', 'sense_list': ['28357'], 'hypernym_for': ['A2070', 'A2070', 'A2070'], 'hyponym_for': [], 'domain_for': [], 'antonym': [], 'pos_synonymy': []}\n",
      "{'id': 'A2100', 'part_of_speech': 'Adj', 'ruthes_name': 'СКОБКА (ГРАФИЧЕСКИЙ ЗНАК)', 'definition': 'знак препинания\\xa0— отвесная черта, обычно полукруглая, которая ставится впереди и позади различных поясняющих слов (вводных и иных)', 'sense_list': ['54854'], 'hypernym_for': ['A2100'], 'hyponym_for': [], 'domain_for': [], 'antonym': [], 'pos_synonymy': []}\n",
      "{'id': 'A2106', 'part_of_speech': 'Adj', 'ruthes_name': 'ОХРАНЯТЬ', 'definition': '', 'sense_list': ['38277', '38280'], 'hypernym_for': ['A2106', 'A2106', 'A2106'], 'hyponym_for': [], 'domain_for': [], 'antonym': [], 'pos_synonymy': []}\n",
      "{'id': 'A2112', 'part_of_speech': 'Adj', 'ruthes_name': 'СКУЛЬПТУРНОЕ ПРОИЗВЕДЕНИЕ', 'definition': 'скульптурное изображение; статуя', 'sense_list': ['65100'], 'hypernym_for': ['A2112', 'A2112', 'A2112', 'A2112', 'A2112'], 'hyponym_for': [], 'domain_for': [], 'antonym': [], 'pos_synonymy': []}\n",
      "{'id': 'A2149', 'part_of_speech': 'Adj', 'ruthes_name': 'ПОВЕРНУТЬ ПРИ ДВИЖЕНИИ', 'definition': '', 'sense_list': ['63017'], 'hypernym_for': ['A2149', 'A2149'], 'hyponym_for': [], 'domain_for': [], 'antonym': [], 'pos_synonymy': []}\n",
      "{'id': 'A2151', 'part_of_speech': 'Adj', 'ruthes_name': 'ВЕШАТЬ (ПОМЕСТИТЬ)', 'definition': 'поместить на весу, то есть без опоры снизу', 'sense_list': ['43917'], 'hypernym_for': ['A2151'], 'hyponym_for': [], 'domain_for': [], 'antonym': [], 'pos_synonymy': []}\n",
      "{'id': 'A2169', 'part_of_speech': 'Adj', 'ruthes_name': 'НОРМА (ПРАВИЛО)', 'definition': 'установленное правило или положение, общепринятый порядок', 'sense_list': ['27978'], 'hypernym_for': ['A2169', 'A2169', 'A2169', 'A2169', 'A2169'], 'hyponym_for': [], 'domain_for': [], 'antonym': [], 'pos_synonymy': []}\n",
      "{'id': 'A2250', 'part_of_speech': 'Adj', 'ruthes_name': 'ЖИВОЙ ОРГАНИЗМ', 'definition': 'живое существо, как правило, низкоорганизованное', 'sense_list': ['24451'], 'hypernym_for': ['A2250', 'A2250', 'A2250', 'A2250', 'A2250', 'A2250', 'A2250', 'A2250', 'A2250', 'A2250', 'A2250', 'A2250', 'A2250', 'A2250', 'A2250', 'A2250', 'A2250', 'A2250', 'A2250', 'A2250', 'A2250', 'A2250', 'A2250', 'A2250', 'A2250', 'A2250', 'A2250'], 'hyponym_for': [], 'domain_for': [], 'antonym': [], 'pos_synonymy': []}\n",
      "{'id': 'A2255', 'part_of_speech': 'Adj', 'ruthes_name': 'СИМВОЛ (УСЛОВНЫЙ ЗНАК)', 'definition': 'условное обозначение, знак', 'sense_list': ['54781'], 'hypernym_for': ['A2255', 'A2255', 'A2255', 'A2255', 'A2255'], 'hyponym_for': [], 'domain_for': [], 'antonym': [], 'pos_synonymy': []}\n",
      "{'id': 'A2343', 'part_of_speech': 'Adj', 'ruthes_name': 'АНТРОПОГЕННОЕ ВОЗДЕЙСТВИЕ', 'definition': 'хозяйственная деятельность человечества как дестабилизирующий фактор изменения природы', 'sense_list': ['127344'], 'hypernym_for': ['A2343', 'A2343', 'A2343', 'A2343', 'A2343', 'A2343'], 'hyponym_for': [], 'domain_for': [], 'antonym': [], 'pos_synonymy': []}\n",
      "{'id': 'A2356', 'part_of_speech': 'Adj', 'ruthes_name': 'ТЕРРИТОРИЯ, УЧАСТОК', 'definition': '', 'sense_list': ['80241', '80240'], 'hypernym_for': ['A2356', 'A2356', 'A2356', 'A2356', 'A2356', 'A2356', 'A2356', 'A2356', 'A2356', 'A2356', 'A2356', 'A2356', 'A2356', 'A2356', 'A2356', 'A2356', 'A2356', 'A2356', 'A2356', 'A2356', 'A2356', 'A2356', 'A2356', 'A2356', 'A2356', 'A2356', 'A2356', 'A2356', 'A2356', 'A2356', 'A2356', 'A2356', 'A2356', 'A2356', 'A2356', 'A2356', 'A2356', 'A2356', 'A2356', 'A2356', 'A2356', 'A2356', 'A2356', 'A2356', 'A2356', 'A2356', 'A2356', 'A2356', 'A2356', 'A2356', 'A2356', 'A2356', 'A2356', 'A2356', 'A2356', 'A2356', 'A2356', 'A2356', 'A2356', 'A2356', 'A2356', 'A2356', 'A2356', 'A2356', 'A2356', 'A2356', 'A2356', 'A2356', 'A2356', 'A2356', 'A2356', 'A2356', 'A2356', 'A2356', 'A2356', 'A2356', 'A2356', 'A2356', 'A2356', 'A2356', 'A2356', 'A2356', 'A2356', 'A2356', 'A2356', 'A2356', 'A2356', 'A2356', 'A2356', 'A2356', 'A2356', 'A2356', 'A2356', 'A2356', 'A2356', 'A2356', 'A2356', 'A2356', 'A2356', 'A2356', 'A2356', 'A2356', 'A2356', 'A2356', 'A2356', 'A2356', 'A2356', 'A2356', 'A2356', 'A2356', 'A2356', 'A2356', 'A2356', 'A2356', 'A2356', 'A2356', 'A2356', 'A2356', 'A2356', 'A2356', 'A2356', 'A2356', 'A2356', 'A2356', 'A2356', 'A2356', 'A2356', 'A2356', 'A2356', 'A2356', 'A2356', 'A2356', 'A2356', 'A2356', 'A2356', 'A2356', 'A2356', 'A2356', 'A2356', 'A2356', 'A2356', 'A2356', 'A2356', 'A2356', 'A2356', 'A2356', 'A2356', 'A2356', 'A2356', 'A2356', 'A2356', 'A2356', 'A2356', 'A2356', 'A2356', 'A2356'], 'hyponym_for': [], 'domain_for': [], 'antonym': [], 'pos_synonymy': []}\n",
      "{'id': 'A2369', 'part_of_speech': 'Adj', 'ruthes_name': 'ИСПЫТАТЬ, ПРОВЕРИТЬ', 'definition': 'проверка объекта с целью оценить какие-то его качества', 'sense_list': ['81081', '81079'], 'hypernym_for': ['A2369', 'A2369', 'A2369'], 'hyponym_for': [], 'domain_for': [], 'antonym': [], 'pos_synonymy': []}\n",
      "{'id': 'A2405', 'part_of_speech': 'Adj', 'ruthes_name': 'ВОЛНОВАТЬ, ВЫЗЫВАТЬ ЧУВСТВО ВОЛНЕНИЯ', 'definition': '', 'sense_list': ['85298'], 'hypernym_for': ['A2405', 'A2405', 'A2405', 'A2405'], 'hyponym_for': [], 'domain_for': [], 'antonym': [], 'pos_synonymy': []}\n",
      "{'id': 'A2419', 'part_of_speech': 'Adj', 'ruthes_name': 'ВЫПОЛНИТЬ, ИСПОЛНИТЬ, ОСУЩЕСТВИТЬ', 'definition': 'претворять (претворить) в жизнь, осуществлять (осуществить)', 'sense_list': ['22301', '22302'], 'hypernym_for': ['A2419', 'A2419', 'A2419', 'A2419', 'A2419', 'A2419', 'A2419', 'A2419', 'A2419', 'A2419', 'A2419', 'A2419', 'A2419', 'A2419', 'A2419', 'A2419', 'A2419', 'A2419', 'A2419', 'A2419', 'A2419', 'A2419', 'A2419', 'A2419', 'A2419', 'A2419', 'A2419', 'A2419', 'A2419', 'A2419', 'A2419', 'A2419', 'A2419', 'A2419', 'A2419', 'A2419', 'A2419', 'A2419', 'A2419', 'A2419', 'A2419', 'A2419', 'A2419', 'A2419', 'A2419', 'A2419', 'A2419', 'A2419'], 'hyponym_for': [], 'domain_for': [], 'antonym': [], 'pos_synonymy': []}\n",
      "{'id': 'A2431', 'part_of_speech': 'Adj', 'ruthes_name': 'РАЗНЫЙ, НЕОДИНАКОВЫЙ', 'definition': 'неодинаковый, несхожий с кем-либо или чем-либо в чём-либо; различный отличающийся, непохожий', 'sense_list': ['23877', '23878', '23879', '23880', '23881', '23882', '23883', '23884', '23887'], 'hypernym_for': ['A2431', 'A2431', 'A2431', 'A2431', 'A2431', 'A2431'], 'hyponym_for': [], 'domain_for': [], 'antonym': [], 'pos_synonymy': []}\n",
      "{'id': 'A2677', 'part_of_speech': 'Adj', 'ruthes_name': 'МЕТАЛЛИЧЕСКОЕ ИЗДЕЛИЕ', 'definition': '', 'sense_list': ['27129'], 'hypernym_for': ['A2677', 'A2677', 'A2677', 'A2677', 'A2677', 'A2677', 'A2677', 'A2677', 'A2677', 'A2677', 'A2677'], 'hyponym_for': [], 'domain_for': [], 'antonym': [], 'pos_synonymy': []}\n",
      "{'id': 'A2735', 'part_of_speech': 'Adj', 'ruthes_name': 'НЕФТЕГАЗОВОЕ МЕСТОРОЖДЕНИЕ', 'definition': '', 'sense_list': ['61719'], 'hypernym_for': ['A2735', 'A2735'], 'hyponym_for': [], 'domain_for': [], 'antonym': [], 'pos_synonymy': []}\n",
      "{'id': 'A2758', 'part_of_speech': 'Adj', 'ruthes_name': 'КАСАТЬСЯ, ИМЕТЬ ОТНОШЕНИЕ', 'definition': 'обращаться с кем-либо, реагировать на что-либо определённым образом', 'sense_list': ['40585'], 'hypernym_for': ['A2758'], 'hyponym_for': [], 'domain_for': [], 'antonym': [], 'pos_synonymy': []}\n",
      "{'id': 'A2800', 'part_of_speech': 'Adj', 'ruthes_name': 'ЭТАП ПРОЦЕССА', 'definition': 'стадия; отдельная часть, промежуток времени в течение какого-либо процесса', 'sense_list': ['5955'], 'hypernym_for': ['A2800', 'A2800', 'A2800', 'A2800', 'A2800', 'A2800', 'A2800', 'A2800', 'A2800'], 'hyponym_for': [], 'domain_for': [], 'antonym': [], 'pos_synonymy': []}\n",
      "{'id': 'A2865', 'part_of_speech': 'Adj', 'ruthes_name': 'РУЧКА ДЛЯ ДЕРЖАНИЯ', 'definition': 'часть предмета, за которую его можно брать рукой, держать или перемещать', 'sense_list': ['30732'], 'hypernym_for': ['A2865', 'A2865'], 'hyponym_for': [], 'domain_for': [], 'antonym': [], 'pos_synonymy': []}\n",
      "{'id': 'A2898', 'part_of_speech': 'Adj', 'ruthes_name': 'ВАРИАНТ, РАЗНОВИДНОСТЬ', 'definition': 'разновидность, видоизменение чего-либо', 'sense_list': ['67627'], 'hypernym_for': ['A2898', 'A2898', 'A2898', 'A2898', 'A2898', 'A2898', 'A2898', 'A2898', 'A2898', 'A2898', 'A2898', 'A2898', 'A2898', 'A2898', 'A2898', 'A2898', 'A2898', 'A2898', 'A2898', 'A2898', 'A2898', 'A2898', 'A2898', 'A2898', 'A2898', 'A2898', 'A2898', 'A2898', 'A2898', 'A2898'], 'hyponym_for': [], 'domain_for': [], 'antonym': [], 'pos_synonymy': []}\n",
      "{'id': 'A2899', 'part_of_speech': 'Adj', 'ruthes_name': 'ЛАКОКРАСОЧНАЯ ПРОДУКЦИЯ', 'definition': '', 'sense_list': ['113513'], 'hypernym_for': ['A2899', 'A2899'], 'hyponym_for': [], 'domain_for': [], 'antonym': [], 'pos_synonymy': []}\n",
      "{'id': 'A2909', 'part_of_speech': 'Adj', 'ruthes_name': 'ПИЩЕВКУСОВЫЕ ПРОДУКТЫ', 'definition': '', 'sense_list': ['100691'], 'hypernym_for': ['A2909', 'A2909', 'A2909', 'A2909', 'A2909', 'A2909', 'A2909', 'A2909', 'A2909', 'A2909', 'A2909', 'A2909', 'A2909', 'A2909', 'A2909'], 'hyponym_for': [], 'domain_for': [], 'antonym': [], 'pos_synonymy': []}\n",
      "{'id': 'A2954', 'part_of_speech': 'Adj', 'ruthes_name': 'ЖЕЛОБ ДЛЯ СТОКА', 'definition': '', 'sense_list': ['24426', '24427'], 'hypernym_for': ['A2954'], 'hyponym_for': [], 'domain_for': [], 'antonym': [], 'pos_synonymy': []}\n",
      "{'id': 'A2963', 'part_of_speech': 'Adj', 'ruthes_name': 'ВЫСТУП, ВЫСТУПАЮЩАЯ ЧАСТЬ', 'definition': 'участок поверхности объекта, поднимающийся, выдающийся относительно других участков, дальше других отстоящий от центра объекта.', 'sense_list': ['44619'], 'hypernym_for': ['A2963', 'A2963', 'A2963', 'A2963', 'A2963', 'A2963', 'A2963', 'A2963', 'A2963', 'A2963', 'A2963', 'A2963', 'A2963', 'A2963', 'A2963', 'A2963'], 'hyponym_for': [], 'domain_for': [], 'antonym': [], 'pos_synonymy': []}\n",
      "{'id': 'A2965', 'part_of_speech': 'Adj', 'ruthes_name': 'УСКОРИТЬ ДВИЖЕНИЕ', 'definition': 'сделать более быстрым; ускорить', 'sense_list': ['98430'], 'hypernym_for': ['A2965'], 'hyponym_for': [], 'domain_for': [], 'antonym': [], 'pos_synonymy': []}\n",
      "{'id': 'A3062', 'part_of_speech': 'Adj', 'ruthes_name': 'ФОТОГРАФИЧЕСКОЕ ИЗОБРАЖЕНИЕ', 'definition': 'изображение, полученное при фотографировании', 'sense_list': ['14473'], 'hypernym_for': ['A3062', 'A3062', 'A3062'], 'hyponym_for': [], 'domain_for': [], 'antonym': [], 'pos_synonymy': []}\n",
      "{'id': 'A3084', 'part_of_speech': 'Adj', 'ruthes_name': 'ОТСЫЛКА В ТЕКСТЕ', 'definition': '', 'sense_list': ['55332'], 'hypernym_for': ['A3084', 'A3084'], 'hyponym_for': [], 'domain_for': [], 'antonym': [], 'pos_synonymy': []}\n",
      "{'id': 'A3092', 'part_of_speech': 'Adj', 'ruthes_name': 'УВЛАЖНИТЬ', 'definition': '', 'sense_list': ['110871'], 'hypernym_for': ['A3092'], 'hyponym_for': [], 'domain_for': [], 'antonym': [], 'pos_synonymy': []}\n",
      "{'id': 'A3103', 'part_of_speech': 'Adj', 'ruthes_name': 'РАСПОЛОЖЕНИЕ, ПОРЯДОК РАЗМЕЩЕНИЯ', 'definition': 'место и порядок размещения чего-либо', 'sense_list': ['41756'], 'hypernym_for': ['A3103', 'A3103', 'A3103', 'A3103', 'A3103', 'A3103', 'A3103', 'A3103', 'A3103', 'A3103', 'A3103', 'A3103', 'A3103', 'A3103', 'A3103', 'A3103', 'A3103', 'A3103', 'A3103', 'A3103', 'A3103', 'A3103', 'A3103', 'A3103', 'A3103', 'A3103', 'A3103', 'A3103', 'A3103', 'A3103', 'A3103', 'A3103', 'A3103', 'A3103', 'A3103', 'A3103', 'A3103', 'A3103', 'A3103', 'A3103', 'A3103', 'A3103', 'A3103', 'A3103', 'A3103', 'A3103'], 'hyponym_for': [], 'domain_for': [], 'antonym': [], 'pos_synonymy': []}\n",
      "{'id': 'A3141', 'part_of_speech': 'Adj', 'ruthes_name': 'СУМКА ДЛЯ НОШЕНИЯ', 'definition': 'сравнительно небольшое вместилище из ткани, кожи или другого мягкого материала для ношения предметов', 'sense_list': ['32279'], 'hypernym_for': ['A3141', 'A3141', 'A3141', 'A3141', 'A3141', 'A3141', 'A3141'], 'hyponym_for': [], 'domain_for': [], 'antonym': [], 'pos_synonymy': []}\n",
      "{'id': 'A3178', 'part_of_speech': 'Adj', 'ruthes_name': 'КОНЦЕНТРАТ (ВЕЩЕСТВО)', 'definition': '', 'sense_list': ['115723'], 'hypernym_for': ['A3178'], 'hyponym_for': [], 'domain_for': [], 'antonym': [], 'pos_synonymy': []}\n",
      "{'id': 'A3181', 'part_of_speech': 'Adj', 'ruthes_name': 'НОВШЕСТВО', 'definition': 'что-либо новое, только что вошедшее в обиход', 'sense_list': ['73824'], 'hypernym_for': ['A3181'], 'hyponym_for': [], 'domain_for': [], 'antonym': [], 'pos_synonymy': []}\n",
      "{'id': 'A3186', 'part_of_speech': 'Adj', 'ruthes_name': 'ДНО ВОДНОГО ОБЪЕКТА', 'definition': 'дно естественного водного бассейна; почва такого дна', 'sense_list': ['4049'], 'hypernym_for': ['A3186', 'A3186'], 'hyponym_for': [], 'domain_for': [], 'antonym': [], 'pos_synonymy': []}\n",
      "{'id': 'A3203', 'part_of_speech': 'Adj', 'ruthes_name': 'ВХОД, МЕСТО ВХОДА', 'definition': '', 'sense_list': ['8947'], 'hypernym_for': ['A3203', 'A3203', 'A3203', 'A3203', 'A3203'], 'hyponym_for': [], 'domain_for': [], 'antonym': [], 'pos_synonymy': []}\n",
      "{'id': 'A3299', 'part_of_speech': 'Adj', 'ruthes_name': 'ЦИКЛИЧЕСКИЙ ПРОЦЕСС', 'definition': 'совершающийся циклами, в виде повторяющихся циклов', 'sense_list': ['14684', '14685'], 'hypernym_for': ['A3299', 'A3299', 'A3299'], 'hyponym_for': [], 'domain_for': [], 'antonym': [], 'pos_synonymy': []}\n",
      "{'id': 'A3309', 'part_of_speech': 'Adj', 'ruthes_name': 'РАВНОВЕСИЕ (УСТОЙЧИВОЕ СООТНОШЕНИЕ)', 'definition': '', 'sense_list': ['42944'], 'hypernym_for': ['A3309'], 'hyponym_for': [], 'domain_for': [], 'antonym': [], 'pos_synonymy': []}\n",
      "{'id': 'A3322', 'part_of_speech': 'Adj', 'ruthes_name': 'КРАСКА, КРАСЯЩИЙ СОСТАВ', 'definition': 'вещество, используемое для придания предметам того или иного цвета, для живописи и\\xa0т.\\xa0п.', 'sense_list': ['48298'], 'hypernym_for': ['A3322', 'A3322', 'A3322', 'A3322', 'A3322', 'A3322'], 'hyponym_for': [], 'domain_for': [], 'antonym': [], 'pos_synonymy': []}\n",
      "{'id': 'A3337', 'part_of_speech': 'Adj', 'ruthes_name': 'КАСАТЬСЯ, ДОТРАГИВАТЬСЯ', 'definition': '', 'sense_list': ['71417'], 'hypernym_for': ['A3337', 'A3337', 'A3337', 'A3337', 'A3337', 'A3337', 'A3337', 'A3337', 'A3337', 'A3337', 'A3337', 'A3337', 'A3337', 'A3337', 'A3337', 'A3337', 'A3337', 'A3337', 'A3337', 'A3337'], 'hyponym_for': [], 'domain_for': [], 'antonym': [], 'pos_synonymy': []}\n",
      "{'id': 'A3386', 'part_of_speech': 'Adj', 'ruthes_name': 'ПРИПЛОД ЖИВОТНОГО', 'definition': '', 'sense_list': ['76345'], 'hypernym_for': ['A3386', 'A3386', 'A3386', 'A3386', 'A3386', 'A3386', 'A3386'], 'hyponym_for': [], 'domain_for': [], 'antonym': [], 'pos_synonymy': []}\n",
      "{'id': 'A3390', 'part_of_speech': 'Adj', 'ruthes_name': 'КОМНАТА (ПОМЕЩЕНИЕ)', 'definition': '', 'sense_list': ['71835'], 'hypernym_for': ['A3390', 'A3390', 'A3390', 'A3390'], 'hyponym_for': [], 'domain_for': [], 'antonym': [], 'pos_synonymy': []}\n",
      "{'id': 'A3404', 'part_of_speech': 'Adj', 'ruthes_name': 'ОКСИДЫ', 'definition': 'соединение химического элемента с кислородом, в котором атомы кислорода не связаны между собой', 'sense_list': ['28462', '28463'], 'hypernym_for': ['A3404', 'A3404', 'A3404', 'A3404', 'A3404', 'A3404'], 'hyponym_for': [], 'domain_for': [], 'antonym': [], 'pos_synonymy': []}\n",
      "{'id': 'A3433', 'part_of_speech': 'Adj', 'ruthes_name': 'ПРОЛИВ', 'definition': 'сравнительно узкая полоса воды, разъединяющая участки суши и соединяющая два водных бассейна или две части водного бассейна', 'sense_list': ['53065'], 'hypernym_for': ['A3433', 'A3433'], 'hyponym_for': [], 'domain_for': [], 'antonym': [], 'pos_synonymy': []}\n",
      "{'id': 'A3435', 'part_of_speech': 'Adj', 'ruthes_name': 'СОСУД (ВМЕСТИЛИЩЕ)', 'definition': 'вместилище для жидких или сыпучих тел', 'sense_list': ['31854'], 'hypernym_for': ['A3435', 'A3435', 'A3435', 'A3435', 'A3435', 'A3435', 'A3435', 'A3435', 'A3435', 'A3435', 'A3435', 'A3435', 'A3435', 'A3435', 'A3435', 'A3435', 'A3435', 'A3435', 'A3435', 'A3435', 'A3435', 'A3435', 'A3435', 'A3435', 'A3435', 'A3435'], 'hyponym_for': [], 'domain_for': [], 'antonym': [], 'pos_synonymy': []}\n",
      "{'id': 'A3504', 'part_of_speech': 'Adj', 'ruthes_name': 'ОЩУЩАТЬ, ВОСПРИНИМАТЬ', 'definition': 'чувствовать, испытывать эмоцию', 'sense_list': ['74831', '74825'], 'hypernym_for': ['A3504', 'A3504', 'A3504', 'A3504', 'A3504', 'A3504', 'A3504', 'A3504', 'A3504'], 'hyponym_for': [], 'domain_for': [], 'antonym': [], 'pos_synonymy': []}\n",
      "{'id': 'A3556', 'part_of_speech': 'Adj', 'ruthes_name': 'ПРОВАЛИТЬСЯ, ПОТЕРПЕТЬ ПРОВАЛ', 'definition': 'не справиться с чем-либо (с делом, работой и т. п.), не сдать (экзамен и т. п.), потерпеть провал, неудачу в что-либо', 'sense_list': ['1007', '1013'], 'hypernym_for': ['A3556'], 'hyponym_for': [], 'domain_for': [], 'antonym': [], 'pos_synonymy': []}\n",
      "{'id': 'A3573', 'part_of_speech': 'Adj', 'ruthes_name': 'НАПРАВЛЕНИЕ В ПРОСТРАНСТВЕ', 'definition': 'пространство, находящееся в каком-либо направлении от чего-либо, а также само это направление', 'sense_list': ['10753'], 'hypernym_for': ['A3573', 'A3573', 'A3573', 'A3573', 'A3573', 'A3573', 'A3573', 'A3573', 'A3573', 'A3573'], 'hyponym_for': [], 'domain_for': [], 'antonym': [], 'pos_synonymy': []}\n",
      "{'id': 'A3583', 'part_of_speech': 'Adj', 'ruthes_name': 'ПОЛИМЕРНОЕ СОЕДИНЕНИЕ', 'definition': 'высокомолекулярное соединение, в котором атомы образуют линейные или разветвленные цепи, а также пространственные трехмерные структуры.', 'sense_list': ['95577', '95581', '95582'], 'hypernym_for': ['A3583', 'A3583', 'A3583', 'A3583', 'A3583', 'A3583', 'A3583'], 'hyponym_for': [], 'domain_for': [], 'antonym': [], 'pos_synonymy': []}\n"
     ]
    }
   ],
   "source": [
    "for p in roots[:200]:\n",
    "    print(p)"
   ]
  },
  {
   "cell_type": "code",
   "execution_count": 30,
   "metadata": {
    "collapsed": false
   },
   "outputs": [
    {
     "name": "stdout",
     "output_type": "stream",
     "text": [
      "{'id': 'N12683', 'part_of_speech': 'N', 'ruthes_name': 'СИСТЕМНЫЙ АДМИНИСТРАТОР', 'definition': 'специалист, занимающийся наладкой и поддержанием работоспособности компьютерной сети, парка компьютеров', 'sense_list': ['113534'], 'hypernym_for': [], 'hyponym_for': ['N34464', 'N38221'], 'domain_for': [], 'antonym': [], 'pos_synonymy': []}\n"
     ]
    }
   ],
   "source": [
    "print (ruwordnet.id2synset['N12683'])"
   ]
  },
  {
   "cell_type": "code",
   "execution_count": 91,
   "metadata": {
    "collapsed": false
   },
   "outputs": [
    {
     "data": {
      "text/plain": [
       "['A12648',\n",
       " 'A12649',\n",
       " 'A12650',\n",
       " 'A12651',\n",
       " 'A12652',\n",
       " 'A12653',\n",
       " 'A12654',\n",
       " 'A12655',\n",
       " 'A12656',\n",
       " 'A12657']"
      ]
     },
     "execution_count": 91,
     "metadata": {},
     "output_type": "execute_result"
    }
   ],
   "source": [
    "list(ruwordnet.id2synset.keys())[-10:]"
   ]
  },
  {
   "cell_type": "code",
   "execution_count": 93,
   "metadata": {
    "collapsed": false
   },
   "outputs": [
    {
     "name": "stdout",
     "output_type": "stream",
     "text": [
      "{'id': 'A12654', 'part_of_speech': 'Adj', 'ruthes_name': 'КУРОРТ', 'definition': 'местность с целебными природными свойствами и с учреждениями для лечебных целей и для отдыха', 'sense_list': ['48528'], 'hypernym_for': [], 'domain_for': [], 'antonym': [], 'pos_synonymy': []}\n"
     ]
    }
   ],
   "source": [
    "print(ruwordnet.id2synset['A12654'])"
   ]
  },
  {
   "cell_type": "code",
   "execution_count": 96,
   "metadata": {
    "collapsed": false
   },
   "outputs": [
    {
     "name": "stdout",
     "output_type": "stream",
     "text": [
      "Number of senses: 130416\n",
      "Number of synses: 49492\n"
     ]
    }
   ],
   "source": [
    "ruwordnet.get_stat()"
   ]
  },
  {
   "cell_type": "code",
   "execution_count": 17,
   "metadata": {
    "collapsed": false
   },
   "outputs": [
    {
     "data": {
      "text/plain": [
       "'!\"#$%&\\'()*+,-./:;<=>?@[\\\\]^_`{|}~'"
      ]
     },
     "execution_count": 17,
     "metadata": {},
     "output_type": "execute_result"
    }
   ],
   "source": [
    "import string\n",
    "string.punctuation"
   ]
  },
  {
   "cell_type": "code",
   "execution_count": 47,
   "metadata": {
    "collapsed": true
   },
   "outputs": [],
   "source": [
    "tree = etree.parse(\"../rwn-xml-2017-05-13/synsets.N.xml\")"
   ]
  },
  {
   "cell_type": "code",
   "execution_count": 48,
   "metadata": {
    "collapsed": false
   },
   "outputs": [],
   "source": [
    "root = tree.getroot()"
   ]
  },
  {
   "cell_type": "code",
   "execution_count": 49,
   "metadata": {
    "collapsed": false
   },
   "outputs": [
    {
     "data": {
      "text/plain": [
       "<Element 'synsets' at 0x7ff849f2acc8>"
      ]
     },
     "execution_count": 49,
     "metadata": {},
     "output_type": "execute_result"
    }
   ],
   "source": [
    "root"
   ]
  },
  {
   "cell_type": "code",
   "execution_count": 78,
   "metadata": {
    "collapsed": false,
    "scrolled": true
   },
   "outputs": [
    {
     "name": "stdout",
     "output_type": "stream",
     "text": [
      "<Element 'synset' at 0x7ff849f2ad18>\n",
      "{'id': 'N12658', 'ruthes_name': 'КОДИРОВАНИЕ ОТ ЗАВИСИМОСТИ', 'definition': '', 'part_of_speech': 'N'}\n",
      "<Element 'sense' at 0x7ff849f2ad68> {'id': '115643'}\n",
      "<Element 'sense' at 0x7ff849f2adb8> {'id': '115640'}\n",
      "<Element 'sense' at 0x7ff849f2ae08> {'id': '115641'}\n",
      "<Element 'sense' at 0x7ff849f2ae58> {'id': '115642'}\n",
      "<Element 'synset' at 0x7ff849f2aea8>\n",
      "{'id': 'N12659', 'ruthes_name': 'ПОДГОТОВИТЬ К ИЗВЕСТИЮ', 'definition': 'готовить, настраивать соответствующим образом для восприятия чего-либо (какого-либо известия, сообщения и т. п.)', 'part_of_speech': 'N'}\n",
      "<Element 'sense' at 0x7ff849f2aef8> {'id': '117307'}\n",
      "<Element 'sense' at 0x7ff849f2af48> {'id': '117313'}\n",
      "<Element 'synset' at 0x7ff849f2af98>\n",
      "{'id': 'N12660', 'ruthes_name': 'ПОЛОГ', 'definition': '', 'part_of_speech': 'N'}\n",
      "<Element 'sense' at 0x7ff84f050048> {'id': '29834'}\n",
      "<Element 'synset' at 0x7ff84f050098>\n",
      "{'id': 'N12661', 'ruthes_name': 'СВЕРНУТЬ (СЛОМАТЬ)', 'definition': '', 'part_of_speech': 'N'}\n",
      "<Element 'sense' at 0x7ff84f0500e8> {'id': '96991'}\n",
      "<Element 'sense' at 0x7ff84f050138> {'id': '96989'}\n",
      "<Element 'synset' at 0x7ff84f050188>\n",
      "{'id': 'N12662', 'ruthes_name': 'ОБЛАВА НА ЗВЕРЯ', 'definition': 'охота, при которой загонщики окружают то место, где находится зверь, и гонят его на сидящих в засаде охотников; цепь загонщиков, окружающих зверя', 'part_of_speech': 'N'}\n",
      "<Element 'sense' at 0x7ff84f0501d8> {'id': '50632'}\n",
      "<Element 'sense' at 0x7ff84f050228> {'id': '50628'}\n",
      "<Element 'sense' at 0x7ff84f050278> {'id': '50630'}\n",
      "<Element 'sense' at 0x7ff84f0502c8> {'id': '50633'}\n",
      "<Element 'sense' at 0x7ff84f050318> {'id': '50629'}\n",
      "<Element 'synset' at 0x7ff84f050368>\n",
      "{'id': 'N12663', 'ruthes_name': 'РАЗВОДЫ (УЗОР)', 'definition': 'крупный, с неопределенным контуром узор, рисунок', 'part_of_speech': 'N'}\n",
      "<Element 'sense' at 0x7ff84f0503b8> {'id': '76909'}\n",
      "<Element 'synset' at 0x7ff84f050408>\n",
      "{'id': 'N12664', 'ruthes_name': 'ПЕРЕТЕРЕТЬСЯ (РАЗДЕЛИТЬСЯ)', 'definition': '', 'part_of_speech': 'N'}\n",
      "<Element 'sense' at 0x7ff84f050458> {'id': '122492'}\n",
      "<Element 'synset' at 0x7ff84f0504a8>\n",
      "{'id': 'N12665', 'ruthes_name': 'АНКЕТИРОВАНИЕ', 'definition': 'опрос при помощи анкет', 'part_of_speech': 'N'}\n",
      "<Element 'sense' at 0x7ff84f0504f8> {'id': '100990'}\n",
      "<Element 'synset' at 0x7ff84f050548>\n",
      "{'id': 'N12666', 'ruthes_name': 'ПРАВАЯ ПОЛИТИЧЕСКАЯ ОРИЕНТАЦИЯ', 'definition': '', 'part_of_speech': 'N'}\n",
      "<Element 'sense' at 0x7ff84f050598> {'id': '52625'}\n",
      "<Element 'sense' at 0x7ff84f0505e8> {'id': '52621'}\n",
      "<Element 'sense' at 0x7ff84f050638> {'id': '52624'}\n",
      "<Element 'sense' at 0x7ff84f050688> {'id': '52626'}\n",
      "<Element 'sense' at 0x7ff84f0506d8> {'id': '52623'}\n",
      "<Element 'sense' at 0x7ff84f050728> {'id': '52622'}\n",
      "<Element 'synset' at 0x7ff84f050778>\n",
      "{'id': 'N12667', 'ruthes_name': 'ИСПОВЕДЬ (РЕЛИГИОЗНЫЙ ОБРЯД)', 'definition': 'в христианстве обряд покаяния в грехах перед священником и получения от него отпущения грехов', 'part_of_speech': 'N'}\n",
      "<Element 'sense' at 0x7ff84f0507c8> {'id': '91701'}\n",
      "<Element 'sense' at 0x7ff84f050818> {'id': '91706'}\n",
      "<Element 'sense' at 0x7ff84f050868> {'id': '91705'}\n",
      "<Element 'sense' at 0x7ff84f0508b8> {'id': '91704'}\n",
      "<Element 'sense' at 0x7ff84f050908> {'id': '91703'}\n",
      "<Element 'sense' at 0x7ff84f050958> {'id': '91700'}\n",
      "<Element 'sense' at 0x7ff84f0509a8> {'id': '91702'}\n"
     ]
    }
   ],
   "source": [
    "for s in root[:10]:\n",
    "    print(s)\n",
    "    print(s.attrib)\n",
    "    for v in s:\n",
    "        print(v, v.attrib)"
   ]
  },
  {
   "cell_type": "code",
   "execution_count": 11,
   "metadata": {
    "collapsed": false
   },
   "outputs": [
    {
     "data": {
      "text/plain": [
       "77372"
      ]
     },
     "execution_count": 11,
     "metadata": {},
     "output_type": "execute_result"
    }
   ],
   "source": [
    "len(root)"
   ]
  },
  {
   "cell_type": "code",
   "execution_count": 12,
   "metadata": {
    "collapsed": false
   },
   "outputs": [
    {
     "name": "stdout",
     "output_type": "stream",
     "text": [
      "77374 ../rwn-xml-2017-05-13/senses.N.xml\r\n"
     ]
    }
   ],
   "source": [
    "!wc -l ../rwn-xml-2017-05-13/senses.N.xml"
   ]
  },
  {
   "cell_type": "code",
   "execution_count": null,
   "metadata": {
    "collapsed": true
   },
   "outputs": [],
   "source": []
  }
 ],
 "metadata": {
  "anaconda-cloud": {},
  "kernelspec": {
   "display_name": "Python [conda env:condapython3]",
   "language": "python",
   "name": "conda-env-condapython3-py"
  },
  "language_info": {
   "codemirror_mode": {
    "name": "ipython",
    "version": 3
   },
   "file_extension": ".py",
   "mimetype": "text/x-python",
   "name": "python",
   "nbconvert_exporter": "python",
   "pygments_lexer": "ipython3",
   "version": "3.6.3"
  }
 },
 "nbformat": 4,
 "nbformat_minor": 2
}
